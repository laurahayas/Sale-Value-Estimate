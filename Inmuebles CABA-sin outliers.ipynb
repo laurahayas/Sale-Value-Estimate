{
 "cells": [
  {
   "cell_type": "markdown",
   "id": "73a8ab86",
   "metadata": {},
   "source": [
    "#  Inicialización del entorno"
   ]
  },
  {
   "cell_type": "markdown",
   "id": "980d6ee0",
   "metadata": {},
   "source": [
    "**Empezamos cargando algunas herramientas para cargar los datos, manipularlos y visualizarlos.**"
   ]
  },
  {
   "cell_type": "code",
   "execution_count": 1,
   "id": "afac29c6",
   "metadata": {},
   "outputs": [],
   "source": [
    "import pandas as pd\n",
    "import matplotlib.pyplot as plt\n",
    "import matplotlib.cm as cm\n",
    "import seaborn as sns\n",
    "from sklearn.preprocessing import MinMaxScaler\n",
    "from sklearn.preprocessing import StandardScaler\n",
    "from sklearn import preprocessing\n",
    "from sklearn import metrics\n",
    "import numpy as np \n",
    "import missingno as msno\n",
    "from sklearn.preprocessing import OneHotEncoder\n",
    "from sklearn.impute import KNNImputer\n",
    "from sklearn.pipeline import Pipeline\n",
    "from sklearn.linear_model import LinearRegression\n",
    "from sklearn.model_selection import train_test_split\n",
    "from sklearn.metrics import mean_squared_error\n",
    "from sklearn.metrics import max_error\n",
    "from sklearn.model_selection import cross_val_score\n",
    "from sklearn.tree import DecisionTreeRegressor\n",
    "from sklearn.ensemble import RandomForestRegressor\n"
   ]
  },
  {
   "cell_type": "markdown",
   "id": "d0325382",
   "metadata": {},
   "source": [
    "# Exploración de la base"
   ]
  },
  {
   "cell_type": "markdown",
   "id": "87b02a40",
   "metadata": {},
   "source": [
    "### Exportamos los datos"
   ]
  },
  {
   "cell_type": "code",
   "execution_count": 2,
   "id": "fd6122db",
   "metadata": {},
   "outputs": [],
   "source": [
    "# Importamos los datos. \n",
    "# Hoja 1\n",
    "df1 = pd.read_excel('Dataset_Inmuebles.xlsx',sheet_name='Inputs_1') \n",
    "# Hoja 2\n",
    "df2 = pd.read_excel('Dataset_Inmuebles.xlsx',sheet_name='Inputs_2') \n",
    "# Hoja 3\n",
    "df3 = pd.read_excel('Dataset_Inmuebles.xlsx',sheet_name='Inputs_3') "
   ]
  },
  {
   "cell_type": "code",
   "execution_count": 3,
   "id": "9d2b02c0",
   "metadata": {},
   "outputs": [],
   "source": [
    "# Dataset final\n",
    "df_1 = pd.merge(df1, df2, how='outer', left_on='ID', right_on='ID')"
   ]
  },
  {
   "cell_type": "code",
   "execution_count": 4,
   "id": "310c9da2",
   "metadata": {},
   "outputs": [],
   "source": [
    "propiedades_caba = pd.merge(df_1, df3, how='outer', left_on='ID', right_on='ID')"
   ]
  },
  {
   "cell_type": "code",
   "execution_count": 5,
   "id": "c76a9592",
   "metadata": {},
   "outputs": [
    {
     "data": {
      "text/plain": [
       "(10567, 14)"
      ]
     },
     "execution_count": 5,
     "metadata": {},
     "output_type": "execute_result"
    }
   ],
   "source": [
    "# Consultamos la cantidad de filas y columnas del dataset final\n",
    "propiedades_caba.shape"
   ]
  },
  {
   "cell_type": "code",
   "execution_count": 6,
   "id": "5955e9b9",
   "metadata": {
    "scrolled": false
   },
   "outputs": [
    {
     "data": {
      "text/html": [
       "<div>\n",
       "<style scoped>\n",
       "    .dataframe tbody tr th:only-of-type {\n",
       "        vertical-align: middle;\n",
       "    }\n",
       "\n",
       "    .dataframe tbody tr th {\n",
       "        vertical-align: top;\n",
       "    }\n",
       "\n",
       "    .dataframe thead th {\n",
       "        text-align: right;\n",
       "    }\n",
       "</style>\n",
       "<table border=\"1\" class=\"dataframe\">\n",
       "  <thead>\n",
       "    <tr style=\"text-align: right;\">\n",
       "      <th></th>\n",
       "      <th>ID</th>\n",
       "      <th>property_type</th>\n",
       "      <th>lat</th>\n",
       "      <th>lon</th>\n",
       "      <th>description</th>\n",
       "      <th>title</th>\n",
       "      <th>price_usd</th>\n",
       "      <th>surface_total</th>\n",
       "      <th>surface_covered</th>\n",
       "      <th>floor</th>\n",
       "      <th>rooms</th>\n",
       "      <th>expenses</th>\n",
       "      <th>barrio</th>\n",
       "      <th>comuna</th>\n",
       "    </tr>\n",
       "  </thead>\n",
       "  <tbody>\n",
       "    <tr>\n",
       "      <th>0</th>\n",
       "      <td>5415</td>\n",
       "      <td>apartment</td>\n",
       "      <td>-346.115.808</td>\n",
       "      <td>-584.101.838</td>\n",
       "      <td>Departamento de 2 ambientes superficie total 5...</td>\n",
       "      <td>Venta Departamento 2 ambientes 52m2 cochera Ap...</td>\n",
       "      <td>100.0k</td>\n",
       "      <td>52</td>\n",
       "      <td>44</td>\n",
       "      <td>NaN</td>\n",
       "      <td>2</td>\n",
       "      <td>NaN</td>\n",
       "      <td>BALVANERA</td>\n",
       "      <td>3</td>\n",
       "    </tr>\n",
       "    <tr>\n",
       "      <th>1</th>\n",
       "      <td>1761</td>\n",
       "      <td>apartment</td>\n",
       "      <td>-345.904.453</td>\n",
       "      <td>-58.410.856.200.000.000</td>\n",
       "      <td>Piso de 4 ambientes con dependencia y balcón a...</td>\n",
       "      <td>Guemes y C.Díaz - Piso de 4 c/dependencia en v...</td>\n",
       "      <td>350.0k</td>\n",
       "      <td>111</td>\n",
       "      <td>104</td>\n",
       "      <td>NaN</td>\n",
       "      <td>4</td>\n",
       "      <td>5000.0</td>\n",
       "      <td>PALERMO</td>\n",
       "      <td>14</td>\n",
       "    </tr>\n",
       "    <tr>\n",
       "      <th>2</th>\n",
       "      <td>1826</td>\n",
       "      <td>apartment</td>\n",
       "      <td>-345.829.338.033</td>\n",
       "      <td>-584.219.018.513</td>\n",
       "      <td>Living comedor.Dormitorios 1 con placard. Coci...</td>\n",
       "      <td>Venta. Departamento 2 Ambientes. Guemes 4400. ...</td>\n",
       "      <td>93.5k</td>\n",
       "      <td>32</td>\n",
       "      <td>32</td>\n",
       "      <td>NaN</td>\n",
       "      <td>2</td>\n",
       "      <td>NaN</td>\n",
       "      <td>PALERMO</td>\n",
       "      <td>14</td>\n",
       "    </tr>\n",
       "    <tr>\n",
       "      <th>3</th>\n",
       "      <td>3410</td>\n",
       "      <td>apartment</td>\n",
       "      <td>-346.149.296</td>\n",
       "      <td>-58.426.629.000.000.000</td>\n",
       "      <td>3 AMBIENTES. CONTRAFRENTE. 55 M2. IMPECABLE. V...</td>\n",
       "      <td>DEPARTAMENTO EN VENTA.|.APARTMENT</td>\n",
       "      <td>140.0k</td>\n",
       "      <td>55</td>\n",
       "      <td>55</td>\n",
       "      <td>3.0</td>\n",
       "      <td>3</td>\n",
       "      <td>1733.0</td>\n",
       "      <td>ALMAGRO</td>\n",
       "      <td>5</td>\n",
       "    </tr>\n",
       "    <tr>\n",
       "      <th>4</th>\n",
       "      <td>946</td>\n",
       "      <td>apartment</td>\n",
       "      <td>-34.573.452</td>\n",
       "      <td>-584.615.581</td>\n",
       "      <td>LIVING/COMEDOR, TOILETTE, 3 DORMITORIOS (SUITE...</td>\n",
       "      <td>VENTA: Importante piso muy alto en torre de ca...</td>\n",
       "      <td>690.0k</td>\n",
       "      <td>185</td>\n",
       "      <td>185</td>\n",
       "      <td>NaN</td>\n",
       "      <td>4</td>\n",
       "      <td>NaN</td>\n",
       "      <td>BELGRANO</td>\n",
       "      <td>13</td>\n",
       "    </tr>\n",
       "  </tbody>\n",
       "</table>\n",
       "</div>"
      ],
      "text/plain": [
       "     ID property_type               lat                      lon  \\\n",
       "0  5415     apartment      -346.115.808             -584.101.838   \n",
       "1  1761     apartment      -345.904.453  -58.410.856.200.000.000   \n",
       "2  1826     apartment  -345.829.338.033         -584.219.018.513   \n",
       "3  3410     apartment      -346.149.296  -58.426.629.000.000.000   \n",
       "4   946     apartment       -34.573.452             -584.615.581   \n",
       "\n",
       "                                         description  \\\n",
       "0  Departamento de 2 ambientes superficie total 5...   \n",
       "1  Piso de 4 ambientes con dependencia y balcón a...   \n",
       "2  Living comedor.Dormitorios 1 con placard. Coci...   \n",
       "3  3 AMBIENTES. CONTRAFRENTE. 55 M2. IMPECABLE. V...   \n",
       "4  LIVING/COMEDOR, TOILETTE, 3 DORMITORIOS (SUITE...   \n",
       "\n",
       "                                               title price_usd  surface_total  \\\n",
       "0  Venta Departamento 2 ambientes 52m2 cochera Ap...    100.0k             52   \n",
       "1  Guemes y C.Díaz - Piso de 4 c/dependencia en v...    350.0k            111   \n",
       "2  Venta. Departamento 2 Ambientes. Guemes 4400. ...     93.5k             32   \n",
       "3                  DEPARTAMENTO EN VENTA.|.APARTMENT    140.0k             55   \n",
       "4  VENTA: Importante piso muy alto en torre de ca...    690.0k            185   \n",
       "\n",
       "   surface_covered  floor  rooms  expenses     barrio  comuna  \n",
       "0               44    NaN      2       NaN  BALVANERA       3  \n",
       "1              104    NaN      4    5000.0    PALERMO      14  \n",
       "2               32    NaN      2       NaN    PALERMO      14  \n",
       "3               55    3.0      3    1733.0    ALMAGRO       5  \n",
       "4              185    NaN      4       NaN   BELGRANO      13  "
      ]
     },
     "execution_count": 6,
     "metadata": {},
     "output_type": "execute_result"
    }
   ],
   "source": [
    "# Exploramos las 5 primeras filas\n",
    "propiedades_caba.head()"
   ]
  },
  {
   "cell_type": "markdown",
   "id": "80a7b033",
   "metadata": {},
   "source": [
    "### Análisis exploratorio"
   ]
  },
  {
   "cell_type": "code",
   "execution_count": 7,
   "id": "167cf073",
   "metadata": {},
   "outputs": [
    {
     "data": {
      "text/plain": [
       "Index(['ID', 'property_type', 'lat', 'lon', 'description', 'title',\n",
       "       'price_usd', 'surface_total', 'surface_covered', 'floor', 'rooms',\n",
       "       'expenses', 'barrio', 'comuna'],\n",
       "      dtype='object')"
      ]
     },
     "execution_count": 7,
     "metadata": {},
     "output_type": "execute_result"
    }
   ],
   "source": [
    "# Consultamos las columnas del dataset\n",
    "propiedades_caba.columns"
   ]
  },
  {
   "cell_type": "markdown",
   "id": "599664e6",
   "metadata": {},
   "source": [
    "**VARIABLES DEL DATASET:**\n",
    "- ID: Número identificador del inmueble                   \n",
    "- property_type: tipo de propiedad (apartment, house)       \n",
    "- lat: latitud                 \n",
    "- lon: longitud                \n",
    "- description: datos descriptivos de la propiedad         \n",
    "- title: información sobre la publicación de venta              \n",
    "- price_usd: precio de venta en dólares estadounidenses           \n",
    "- surface_total: superficie total de la propiedad       \n",
    "- surface_covered: superficie cubierta de la propiedad      \n",
    "- floor: piso en que se ubica, en caso de corresponder              \n",
    "- rooms: cantidad de dormitorios                \n",
    "- expenses: precio de las expensas           \n",
    "- barrio: barrio en que se encuentra ubicada la propiedad              \n",
    "- comuna: comuna en que se encuentra la porpiedad               \n"
   ]
  },
  {
   "cell_type": "code",
   "execution_count": 8,
   "id": "e7de6a4c",
   "metadata": {},
   "outputs": [
    {
     "data": {
      "text/plain": [
       "ID                   int64\n",
       "property_type       object\n",
       "lat                 object\n",
       "lon                 object\n",
       "description         object\n",
       "title               object\n",
       "price_usd           object\n",
       "surface_total        int64\n",
       "surface_covered      int64\n",
       "floor              float64\n",
       "rooms                int64\n",
       "expenses           float64\n",
       "barrio              object\n",
       "comuna               int64\n",
       "dtype: object"
      ]
     },
     "execution_count": 8,
     "metadata": {},
     "output_type": "execute_result"
    }
   ],
   "source": [
    "propiedades_caba.dtypes"
   ]
  },
  {
   "cell_type": "code",
   "execution_count": 9,
   "id": "cbdeb2c5",
   "metadata": {},
   "outputs": [
    {
     "data": {
      "text/html": [
       "<div>\n",
       "<style scoped>\n",
       "    .dataframe tbody tr th:only-of-type {\n",
       "        vertical-align: middle;\n",
       "    }\n",
       "\n",
       "    .dataframe tbody tr th {\n",
       "        vertical-align: top;\n",
       "    }\n",
       "\n",
       "    .dataframe thead th {\n",
       "        text-align: right;\n",
       "    }\n",
       "</style>\n",
       "<table border=\"1\" class=\"dataframe\">\n",
       "  <thead>\n",
       "    <tr style=\"text-align: right;\">\n",
       "      <th></th>\n",
       "      <th>ID</th>\n",
       "      <th>surface_total</th>\n",
       "      <th>surface_covered</th>\n",
       "      <th>floor</th>\n",
       "      <th>rooms</th>\n",
       "      <th>expenses</th>\n",
       "      <th>comuna</th>\n",
       "    </tr>\n",
       "  </thead>\n",
       "  <tbody>\n",
       "    <tr>\n",
       "      <th>count</th>\n",
       "      <td>10567.000000</td>\n",
       "      <td>10567.000000</td>\n",
       "      <td>10567.000000</td>\n",
       "      <td>1717.000000</td>\n",
       "      <td>10567.000000</td>\n",
       "      <td>2535.000000</td>\n",
       "      <td>10567.000000</td>\n",
       "    </tr>\n",
       "    <tr>\n",
       "      <th>mean</th>\n",
       "      <td>5283.000000</td>\n",
       "      <td>134.342103</td>\n",
       "      <td>114.104192</td>\n",
       "      <td>11.588235</td>\n",
       "      <td>3.022618</td>\n",
       "      <td>4988.811834</td>\n",
       "      <td>8.272925</td>\n",
       "    </tr>\n",
       "    <tr>\n",
       "      <th>std</th>\n",
       "      <td>3050.574481</td>\n",
       "      <td>1821.969121</td>\n",
       "      <td>1483.252298</td>\n",
       "      <td>59.039495</td>\n",
       "      <td>1.674473</td>\n",
       "      <td>5248.746456</td>\n",
       "      <td>5.132624</td>\n",
       "    </tr>\n",
       "    <tr>\n",
       "      <th>min</th>\n",
       "      <td>0.000000</td>\n",
       "      <td>1.000000</td>\n",
       "      <td>1.000000</td>\n",
       "      <td>1.000000</td>\n",
       "      <td>1.000000</td>\n",
       "      <td>1.000000</td>\n",
       "      <td>1.000000</td>\n",
       "    </tr>\n",
       "    <tr>\n",
       "      <th>25%</th>\n",
       "      <td>2641.500000</td>\n",
       "      <td>48.000000</td>\n",
       "      <td>43.000000</td>\n",
       "      <td>2.000000</td>\n",
       "      <td>2.000000</td>\n",
       "      <td>2000.000000</td>\n",
       "      <td>3.000000</td>\n",
       "    </tr>\n",
       "    <tr>\n",
       "      <th>50%</th>\n",
       "      <td>5283.000000</td>\n",
       "      <td>74.000000</td>\n",
       "      <td>66.000000</td>\n",
       "      <td>4.000000</td>\n",
       "      <td>3.000000</td>\n",
       "      <td>3200.000000</td>\n",
       "      <td>9.000000</td>\n",
       "    </tr>\n",
       "    <tr>\n",
       "      <th>75%</th>\n",
       "      <td>7924.500000</td>\n",
       "      <td>126.000000</td>\n",
       "      <td>112.000000</td>\n",
       "      <td>8.000000</td>\n",
       "      <td>4.000000</td>\n",
       "      <td>5800.000000</td>\n",
       "      <td>13.000000</td>\n",
       "    </tr>\n",
       "    <tr>\n",
       "      <th>max</th>\n",
       "      <td>10566.000000</td>\n",
       "      <td>184000.000000</td>\n",
       "      <td>150000.000000</td>\n",
       "      <td>904.000000</td>\n",
       "      <td>30.000000</td>\n",
       "      <td>40000.000000</td>\n",
       "      <td>15.000000</td>\n",
       "    </tr>\n",
       "  </tbody>\n",
       "</table>\n",
       "</div>"
      ],
      "text/plain": [
       "                 ID  surface_total  surface_covered        floor  \\\n",
       "count  10567.000000   10567.000000     10567.000000  1717.000000   \n",
       "mean    5283.000000     134.342103       114.104192    11.588235   \n",
       "std     3050.574481    1821.969121      1483.252298    59.039495   \n",
       "min        0.000000       1.000000         1.000000     1.000000   \n",
       "25%     2641.500000      48.000000        43.000000     2.000000   \n",
       "50%     5283.000000      74.000000        66.000000     4.000000   \n",
       "75%     7924.500000     126.000000       112.000000     8.000000   \n",
       "max    10566.000000  184000.000000    150000.000000   904.000000   \n",
       "\n",
       "              rooms      expenses        comuna  \n",
       "count  10567.000000   2535.000000  10567.000000  \n",
       "mean       3.022618   4988.811834      8.272925  \n",
       "std        1.674473   5248.746456      5.132624  \n",
       "min        1.000000      1.000000      1.000000  \n",
       "25%        2.000000   2000.000000      3.000000  \n",
       "50%        3.000000   3200.000000      9.000000  \n",
       "75%        4.000000   5800.000000     13.000000  \n",
       "max       30.000000  40000.000000     15.000000  "
      ]
     },
     "execution_count": 9,
     "metadata": {},
     "output_type": "execute_result"
    }
   ],
   "source": [
    "propiedades_caba.describe()"
   ]
  },
  {
   "cell_type": "code",
   "execution_count": 10,
   "id": "ef626aa1",
   "metadata": {
    "scrolled": true
   },
   "outputs": [
    {
     "data": {
      "text/plain": [
       "array(['100.0k', '350.0k', '93.5k', ..., '122.923k', '126.95k', '112.9k'],\n",
       "      dtype=object)"
      ]
     },
     "execution_count": 10,
     "metadata": {},
     "output_type": "execute_result"
    }
   ],
   "source": [
    "propiedades_caba.price_usd.unique()"
   ]
  },
  {
   "cell_type": "code",
   "execution_count": 11,
   "id": "fb303c62",
   "metadata": {},
   "outputs": [],
   "source": [
    "# Eliminamos la k de la columna price_uds\n",
    "propiedades_caba['price_usd'] = propiedades_caba['price_usd'].replace({'k': ''}, regex=True)"
   ]
  },
  {
   "cell_type": "code",
   "execution_count": 12,
   "id": "5f1b1b1e",
   "metadata": {
    "scrolled": true
   },
   "outputs": [
    {
     "data": {
      "text/plain": [
       "array(['100.0', '350.0', '93.5', ..., '122.923', '126.95', '112.9'],\n",
       "      dtype=object)"
      ]
     },
     "execution_count": 12,
     "metadata": {},
     "output_type": "execute_result"
    }
   ],
   "source": [
    "propiedades_caba.price_usd.unique()"
   ]
  },
  {
   "cell_type": "code",
   "execution_count": 13,
   "id": "088aa1c2",
   "metadata": {},
   "outputs": [
    {
     "data": {
      "text/plain": [
       "array(['100.0', '350.0', '93.5', ..., '122.923', '126.95', '112.9'],\n",
       "      dtype=object)"
      ]
     },
     "execution_count": 13,
     "metadata": {},
     "output_type": "execute_result"
    }
   ],
   "source": [
    "propiedades_caba.price_usd.unique()"
   ]
  },
  {
   "cell_type": "code",
   "execution_count": 14,
   "id": "6b94053a",
   "metadata": {},
   "outputs": [],
   "source": [
    "# cambiamos el tipo de datos de proce_uds para poder manipularla\n",
    "propiedades_caba['price_usd'] = propiedades_caba.price_usd.astype('float64')"
   ]
  },
  {
   "cell_type": "code",
   "execution_count": 15,
   "id": "373d9c9a",
   "metadata": {},
   "outputs": [
    {
     "data": {
      "text/plain": [
       "dtype('float64')"
      ]
     },
     "execution_count": 15,
     "metadata": {},
     "output_type": "execute_result"
    }
   ],
   "source": [
    "# verificamos que se haya modificado el tipo de datos\n",
    "propiedades_caba['price_usd'].dtypes"
   ]
  },
  {
   "cell_type": "code",
   "execution_count": 16,
   "id": "c8e31dd2",
   "metadata": {},
   "outputs": [
    {
     "data": {
      "text/plain": [
       "count    10567.00\n",
       "mean       304.33\n",
       "std        371.27\n",
       "min          5.04\n",
       "25%        124.00\n",
       "50%        189.00\n",
       "75%        340.00\n",
       "max      11111.11\n",
       "Name: price_usd, dtype: float64"
      ]
     },
     "execution_count": 16,
     "metadata": {},
     "output_type": "execute_result"
    }
   ],
   "source": [
    "propiedades_caba['price_usd'].describe().round(2)"
   ]
  },
  {
   "cell_type": "code",
   "execution_count": 17,
   "id": "56fa5885",
   "metadata": {},
   "outputs": [],
   "source": [
    "# Multiplicamos por 1000 los precios, para expresar el valor real\n",
    "propiedades_caba['price_usd'] = (1000*propiedades_caba['price_usd'])"
   ]
  },
  {
   "cell_type": "code",
   "execution_count": 18,
   "id": "8c6ed297",
   "metadata": {
    "scrolled": true
   },
   "outputs": [],
   "source": [
    "# Convertimos a número entero el valor de price_usd\n",
    "propiedades_caba['price_usd'] = propiedades_caba['price_usd'].astype(int)"
   ]
  },
  {
   "cell_type": "code",
   "execution_count": 19,
   "id": "7ee139f9",
   "metadata": {},
   "outputs": [
    {
     "data": {
      "text/html": [
       "<div>\n",
       "<style scoped>\n",
       "    .dataframe tbody tr th:only-of-type {\n",
       "        vertical-align: middle;\n",
       "    }\n",
       "\n",
       "    .dataframe tbody tr th {\n",
       "        vertical-align: top;\n",
       "    }\n",
       "\n",
       "    .dataframe thead th {\n",
       "        text-align: right;\n",
       "    }\n",
       "</style>\n",
       "<table border=\"1\" class=\"dataframe\">\n",
       "  <thead>\n",
       "    <tr style=\"text-align: right;\">\n",
       "      <th></th>\n",
       "      <th>ID</th>\n",
       "      <th>property_type</th>\n",
       "      <th>lat</th>\n",
       "      <th>lon</th>\n",
       "      <th>description</th>\n",
       "      <th>title</th>\n",
       "      <th>price_usd</th>\n",
       "      <th>surface_total</th>\n",
       "      <th>surface_covered</th>\n",
       "      <th>floor</th>\n",
       "      <th>rooms</th>\n",
       "      <th>expenses</th>\n",
       "      <th>barrio</th>\n",
       "      <th>comuna</th>\n",
       "    </tr>\n",
       "  </thead>\n",
       "  <tbody>\n",
       "    <tr>\n",
       "      <th>0</th>\n",
       "      <td>5415</td>\n",
       "      <td>apartment</td>\n",
       "      <td>-346.115.808</td>\n",
       "      <td>-584.101.838</td>\n",
       "      <td>Departamento de 2 ambientes superficie total 5...</td>\n",
       "      <td>Venta Departamento 2 ambientes 52m2 cochera Ap...</td>\n",
       "      <td>100000</td>\n",
       "      <td>52</td>\n",
       "      <td>44</td>\n",
       "      <td>NaN</td>\n",
       "      <td>2</td>\n",
       "      <td>NaN</td>\n",
       "      <td>BALVANERA</td>\n",
       "      <td>3</td>\n",
       "    </tr>\n",
       "    <tr>\n",
       "      <th>1</th>\n",
       "      <td>1761</td>\n",
       "      <td>apartment</td>\n",
       "      <td>-345.904.453</td>\n",
       "      <td>-58.410.856.200.000.000</td>\n",
       "      <td>Piso de 4 ambientes con dependencia y balcón a...</td>\n",
       "      <td>Guemes y C.Díaz - Piso de 4 c/dependencia en v...</td>\n",
       "      <td>350000</td>\n",
       "      <td>111</td>\n",
       "      <td>104</td>\n",
       "      <td>NaN</td>\n",
       "      <td>4</td>\n",
       "      <td>5000.0</td>\n",
       "      <td>PALERMO</td>\n",
       "      <td>14</td>\n",
       "    </tr>\n",
       "    <tr>\n",
       "      <th>2</th>\n",
       "      <td>1826</td>\n",
       "      <td>apartment</td>\n",
       "      <td>-345.829.338.033</td>\n",
       "      <td>-584.219.018.513</td>\n",
       "      <td>Living comedor.Dormitorios 1 con placard. Coci...</td>\n",
       "      <td>Venta. Departamento 2 Ambientes. Guemes 4400. ...</td>\n",
       "      <td>93500</td>\n",
       "      <td>32</td>\n",
       "      <td>32</td>\n",
       "      <td>NaN</td>\n",
       "      <td>2</td>\n",
       "      <td>NaN</td>\n",
       "      <td>PALERMO</td>\n",
       "      <td>14</td>\n",
       "    </tr>\n",
       "    <tr>\n",
       "      <th>3</th>\n",
       "      <td>3410</td>\n",
       "      <td>apartment</td>\n",
       "      <td>-346.149.296</td>\n",
       "      <td>-58.426.629.000.000.000</td>\n",
       "      <td>3 AMBIENTES. CONTRAFRENTE. 55 M2. IMPECABLE. V...</td>\n",
       "      <td>DEPARTAMENTO EN VENTA.|.APARTMENT</td>\n",
       "      <td>140000</td>\n",
       "      <td>55</td>\n",
       "      <td>55</td>\n",
       "      <td>3.0</td>\n",
       "      <td>3</td>\n",
       "      <td>1733.0</td>\n",
       "      <td>ALMAGRO</td>\n",
       "      <td>5</td>\n",
       "    </tr>\n",
       "    <tr>\n",
       "      <th>4</th>\n",
       "      <td>946</td>\n",
       "      <td>apartment</td>\n",
       "      <td>-34.573.452</td>\n",
       "      <td>-584.615.581</td>\n",
       "      <td>LIVING/COMEDOR, TOILETTE, 3 DORMITORIOS (SUITE...</td>\n",
       "      <td>VENTA: Importante piso muy alto en torre de ca...</td>\n",
       "      <td>690000</td>\n",
       "      <td>185</td>\n",
       "      <td>185</td>\n",
       "      <td>NaN</td>\n",
       "      <td>4</td>\n",
       "      <td>NaN</td>\n",
       "      <td>BELGRANO</td>\n",
       "      <td>13</td>\n",
       "    </tr>\n",
       "    <tr>\n",
       "      <th>5</th>\n",
       "      <td>145</td>\n",
       "      <td>apartment</td>\n",
       "      <td>-346.173.096</td>\n",
       "      <td>-583.785.392</td>\n",
       "      <td>Departamento de 2 ambientes amplios, lateral c...</td>\n",
       "      <td>Departamento de 2 ambientes y 1/2 en venta.|.A...</td>\n",
       "      <td>87000</td>\n",
       "      <td>48</td>\n",
       "      <td>48</td>\n",
       "      <td>NaN</td>\n",
       "      <td>2</td>\n",
       "      <td>NaN</td>\n",
       "      <td>MONSERRAT</td>\n",
       "      <td>1</td>\n",
       "    </tr>\n",
       "    <tr>\n",
       "      <th>6</th>\n",
       "      <td>5114</td>\n",
       "      <td>apartment</td>\n",
       "      <td>-346.162.066.958</td>\n",
       "      <td>-583.614.898.429</td>\n",
       "      <td>Excelente 4 ambientes, que se modifico a 3 amb...</td>\n",
       "      <td>Terrazas de Puerto Madero.|.APARTMENT</td>\n",
       "      <td>475000</td>\n",
       "      <td>91</td>\n",
       "      <td>81</td>\n",
       "      <td>NaN</td>\n",
       "      <td>3</td>\n",
       "      <td>NaN</td>\n",
       "      <td>PUERTO MADERO</td>\n",
       "      <td>1</td>\n",
       "    </tr>\n",
       "    <tr>\n",
       "      <th>7</th>\n",
       "      <td>8301</td>\n",
       "      <td>apartment</td>\n",
       "      <td>-346.240.189</td>\n",
       "      <td>-58.444.964</td>\n",
       "      <td>Frente muy luminoso. Con balconLiving comedor,...</td>\n",
       "      <td>Venta - 3 Ambientes - Caballito.|.APARTMENT</td>\n",
       "      <td>186000</td>\n",
       "      <td>66</td>\n",
       "      <td>61</td>\n",
       "      <td>NaN</td>\n",
       "      <td>3</td>\n",
       "      <td>NaN</td>\n",
       "      <td>CABALLITO</td>\n",
       "      <td>6</td>\n",
       "    </tr>\n",
       "    <tr>\n",
       "      <th>8</th>\n",
       "      <td>3937</td>\n",
       "      <td>apartment</td>\n",
       "      <td>-34.590.371.000.000.000</td>\n",
       "      <td>-583.908.326</td>\n",
       "      <td>Lindisimo departamento en edificio de buenisim...</td>\n",
       "      <td>Departamento de 2 dormitorios en buen estado e...</td>\n",
       "      <td>360000</td>\n",
       "      <td>100</td>\n",
       "      <td>100</td>\n",
       "      <td>NaN</td>\n",
       "      <td>4</td>\n",
       "      <td>NaN</td>\n",
       "      <td>RECOLETA</td>\n",
       "      <td>2</td>\n",
       "    </tr>\n",
       "    <tr>\n",
       "      <th>9</th>\n",
       "      <td>7232</td>\n",
       "      <td>apartment</td>\n",
       "      <td>-346.033.361</td>\n",
       "      <td>-583.723.282</td>\n",
       "      <td>EL DEPARTAMENTO SE VENDE AMOBLADO Y CON TODO I...</td>\n",
       "      <td>Av. Corrientes 400 San Nicolas 2 Ambientes APT...</td>\n",
       "      <td>160000</td>\n",
       "      <td>43</td>\n",
       "      <td>40</td>\n",
       "      <td>NaN</td>\n",
       "      <td>2</td>\n",
       "      <td>NaN</td>\n",
       "      <td>SAN NICOLAS</td>\n",
       "      <td>1</td>\n",
       "    </tr>\n",
       "  </tbody>\n",
       "</table>\n",
       "</div>"
      ],
      "text/plain": [
       "     ID property_type                      lat                      lon  \\\n",
       "0  5415     apartment             -346.115.808             -584.101.838   \n",
       "1  1761     apartment             -345.904.453  -58.410.856.200.000.000   \n",
       "2  1826     apartment         -345.829.338.033         -584.219.018.513   \n",
       "3  3410     apartment             -346.149.296  -58.426.629.000.000.000   \n",
       "4   946     apartment              -34.573.452             -584.615.581   \n",
       "5   145     apartment             -346.173.096             -583.785.392   \n",
       "6  5114     apartment         -346.162.066.958         -583.614.898.429   \n",
       "7  8301     apartment             -346.240.189              -58.444.964   \n",
       "8  3937     apartment  -34.590.371.000.000.000             -583.908.326   \n",
       "9  7232     apartment             -346.033.361             -583.723.282   \n",
       "\n",
       "                                         description  \\\n",
       "0  Departamento de 2 ambientes superficie total 5...   \n",
       "1  Piso de 4 ambientes con dependencia y balcón a...   \n",
       "2  Living comedor.Dormitorios 1 con placard. Coci...   \n",
       "3  3 AMBIENTES. CONTRAFRENTE. 55 M2. IMPECABLE. V...   \n",
       "4  LIVING/COMEDOR, TOILETTE, 3 DORMITORIOS (SUITE...   \n",
       "5  Departamento de 2 ambientes amplios, lateral c...   \n",
       "6  Excelente 4 ambientes, que se modifico a 3 amb...   \n",
       "7  Frente muy luminoso. Con balconLiving comedor,...   \n",
       "8  Lindisimo departamento en edificio de buenisim...   \n",
       "9  EL DEPARTAMENTO SE VENDE AMOBLADO Y CON TODO I...   \n",
       "\n",
       "                                               title  price_usd  \\\n",
       "0  Venta Departamento 2 ambientes 52m2 cochera Ap...     100000   \n",
       "1  Guemes y C.Díaz - Piso de 4 c/dependencia en v...     350000   \n",
       "2  Venta. Departamento 2 Ambientes. Guemes 4400. ...      93500   \n",
       "3                  DEPARTAMENTO EN VENTA.|.APARTMENT     140000   \n",
       "4  VENTA: Importante piso muy alto en torre de ca...     690000   \n",
       "5  Departamento de 2 ambientes y 1/2 en venta.|.A...      87000   \n",
       "6              Terrazas de Puerto Madero.|.APARTMENT     475000   \n",
       "7        Venta - 3 Ambientes - Caballito.|.APARTMENT     186000   \n",
       "8  Departamento de 2 dormitorios en buen estado e...     360000   \n",
       "9  Av. Corrientes 400 San Nicolas 2 Ambientes APT...     160000   \n",
       "\n",
       "   surface_total  surface_covered  floor  rooms  expenses         barrio  \\\n",
       "0             52               44    NaN      2       NaN      BALVANERA   \n",
       "1            111              104    NaN      4    5000.0        PALERMO   \n",
       "2             32               32    NaN      2       NaN        PALERMO   \n",
       "3             55               55    3.0      3    1733.0        ALMAGRO   \n",
       "4            185              185    NaN      4       NaN       BELGRANO   \n",
       "5             48               48    NaN      2       NaN      MONSERRAT   \n",
       "6             91               81    NaN      3       NaN  PUERTO MADERO   \n",
       "7             66               61    NaN      3       NaN      CABALLITO   \n",
       "8            100              100    NaN      4       NaN       RECOLETA   \n",
       "9             43               40    NaN      2       NaN    SAN NICOLAS   \n",
       "\n",
       "   comuna  \n",
       "0       3  \n",
       "1      14  \n",
       "2      14  \n",
       "3       5  \n",
       "4      13  \n",
       "5       1  \n",
       "6       1  \n",
       "7       6  \n",
       "8       2  \n",
       "9       1  "
      ]
     },
     "execution_count": 19,
     "metadata": {},
     "output_type": "execute_result"
    }
   ],
   "source": [
    "propiedades_caba.head(10)"
   ]
  },
  {
   "cell_type": "code",
   "execution_count": 20,
   "id": "f0ab778b",
   "metadata": {},
   "outputs": [
    {
     "data": {
      "text/plain": [
       "ID                   int64\n",
       "property_type       object\n",
       "lat                 object\n",
       "lon                 object\n",
       "description         object\n",
       "title               object\n",
       "price_usd            int64\n",
       "surface_total        int64\n",
       "surface_covered      int64\n",
       "floor              float64\n",
       "rooms                int64\n",
       "expenses           float64\n",
       "barrio              object\n",
       "comuna               int64\n",
       "dtype: object"
      ]
     },
     "execution_count": 20,
     "metadata": {},
     "output_type": "execute_result"
    }
   ],
   "source": [
    "propiedades_caba.dtypes"
   ]
  },
  {
   "cell_type": "code",
   "execution_count": 21,
   "id": "8f5bda31",
   "metadata": {},
   "outputs": [
    {
     "data": {
      "text/html": [
       "<div>\n",
       "<style scoped>\n",
       "    .dataframe tbody tr th:only-of-type {\n",
       "        vertical-align: middle;\n",
       "    }\n",
       "\n",
       "    .dataframe tbody tr th {\n",
       "        vertical-align: top;\n",
       "    }\n",
       "\n",
       "    .dataframe thead th {\n",
       "        text-align: right;\n",
       "    }\n",
       "</style>\n",
       "<table border=\"1\" class=\"dataframe\">\n",
       "  <thead>\n",
       "    <tr style=\"text-align: right;\">\n",
       "      <th></th>\n",
       "      <th>ID</th>\n",
       "      <th>price_usd</th>\n",
       "      <th>surface_total</th>\n",
       "      <th>surface_covered</th>\n",
       "      <th>floor</th>\n",
       "      <th>rooms</th>\n",
       "      <th>expenses</th>\n",
       "      <th>comuna</th>\n",
       "    </tr>\n",
       "  </thead>\n",
       "  <tbody>\n",
       "    <tr>\n",
       "      <th>count</th>\n",
       "      <td>10567.00</td>\n",
       "      <td>10567.00</td>\n",
       "      <td>10567.00</td>\n",
       "      <td>10567.00</td>\n",
       "      <td>1717.00</td>\n",
       "      <td>10567.00</td>\n",
       "      <td>2535.00</td>\n",
       "      <td>10567.00</td>\n",
       "    </tr>\n",
       "    <tr>\n",
       "      <th>mean</th>\n",
       "      <td>5283.00</td>\n",
       "      <td>304326.24</td>\n",
       "      <td>134.34</td>\n",
       "      <td>114.10</td>\n",
       "      <td>11.59</td>\n",
       "      <td>3.02</td>\n",
       "      <td>4988.81</td>\n",
       "      <td>8.27</td>\n",
       "    </tr>\n",
       "    <tr>\n",
       "      <th>std</th>\n",
       "      <td>3050.57</td>\n",
       "      <td>371265.81</td>\n",
       "      <td>1821.97</td>\n",
       "      <td>1483.25</td>\n",
       "      <td>59.04</td>\n",
       "      <td>1.67</td>\n",
       "      <td>5248.75</td>\n",
       "      <td>5.13</td>\n",
       "    </tr>\n",
       "    <tr>\n",
       "      <th>min</th>\n",
       "      <td>0.00</td>\n",
       "      <td>5043.00</td>\n",
       "      <td>1.00</td>\n",
       "      <td>1.00</td>\n",
       "      <td>1.00</td>\n",
       "      <td>1.00</td>\n",
       "      <td>1.00</td>\n",
       "      <td>1.00</td>\n",
       "    </tr>\n",
       "    <tr>\n",
       "      <th>25%</th>\n",
       "      <td>2641.50</td>\n",
       "      <td>124000.00</td>\n",
       "      <td>48.00</td>\n",
       "      <td>43.00</td>\n",
       "      <td>2.00</td>\n",
       "      <td>2.00</td>\n",
       "      <td>2000.00</td>\n",
       "      <td>3.00</td>\n",
       "    </tr>\n",
       "    <tr>\n",
       "      <th>50%</th>\n",
       "      <td>5283.00</td>\n",
       "      <td>189000.00</td>\n",
       "      <td>74.00</td>\n",
       "      <td>66.00</td>\n",
       "      <td>4.00</td>\n",
       "      <td>3.00</td>\n",
       "      <td>3200.00</td>\n",
       "      <td>9.00</td>\n",
       "    </tr>\n",
       "    <tr>\n",
       "      <th>75%</th>\n",
       "      <td>7924.50</td>\n",
       "      <td>340000.00</td>\n",
       "      <td>126.00</td>\n",
       "      <td>112.00</td>\n",
       "      <td>8.00</td>\n",
       "      <td>4.00</td>\n",
       "      <td>5800.00</td>\n",
       "      <td>13.00</td>\n",
       "    </tr>\n",
       "    <tr>\n",
       "      <th>max</th>\n",
       "      <td>10566.00</td>\n",
       "      <td>11111111.00</td>\n",
       "      <td>184000.00</td>\n",
       "      <td>150000.00</td>\n",
       "      <td>904.00</td>\n",
       "      <td>30.00</td>\n",
       "      <td>40000.00</td>\n",
       "      <td>15.00</td>\n",
       "    </tr>\n",
       "  </tbody>\n",
       "</table>\n",
       "</div>"
      ],
      "text/plain": [
       "             ID    price_usd  surface_total  surface_covered    floor  \\\n",
       "count  10567.00     10567.00       10567.00         10567.00  1717.00   \n",
       "mean    5283.00    304326.24         134.34           114.10    11.59   \n",
       "std     3050.57    371265.81        1821.97          1483.25    59.04   \n",
       "min        0.00      5043.00           1.00             1.00     1.00   \n",
       "25%     2641.50    124000.00          48.00            43.00     2.00   \n",
       "50%     5283.00    189000.00          74.00            66.00     4.00   \n",
       "75%     7924.50    340000.00         126.00           112.00     8.00   \n",
       "max    10566.00  11111111.00      184000.00        150000.00   904.00   \n",
       "\n",
       "          rooms  expenses    comuna  \n",
       "count  10567.00   2535.00  10567.00  \n",
       "mean       3.02   4988.81      8.27  \n",
       "std        1.67   5248.75      5.13  \n",
       "min        1.00      1.00      1.00  \n",
       "25%        2.00   2000.00      3.00  \n",
       "50%        3.00   3200.00      9.00  \n",
       "75%        4.00   5800.00     13.00  \n",
       "max       30.00  40000.00     15.00  "
      ]
     },
     "execution_count": 21,
     "metadata": {},
     "output_type": "execute_result"
    }
   ],
   "source": [
    "propiedades_caba.describe().round(2)"
   ]
  },
  {
   "cell_type": "markdown",
   "id": "c3f3ebe3",
   "metadata": {},
   "source": []
  },
  {
   "cell_type": "markdown",
   "id": "f2b71b2b",
   "metadata": {},
   "source": [
    "#### Análisis de correlación de variables"
   ]
  },
  {
   "cell_type": "code",
   "execution_count": 22,
   "id": "b800da9b",
   "metadata": {},
   "outputs": [
    {
     "data": {
      "text/html": [
       "<div>\n",
       "<style scoped>\n",
       "    .dataframe tbody tr th:only-of-type {\n",
       "        vertical-align: middle;\n",
       "    }\n",
       "\n",
       "    .dataframe tbody tr th {\n",
       "        vertical-align: top;\n",
       "    }\n",
       "\n",
       "    .dataframe thead th {\n",
       "        text-align: right;\n",
       "    }\n",
       "</style>\n",
       "<table border=\"1\" class=\"dataframe\">\n",
       "  <thead>\n",
       "    <tr style=\"text-align: right;\">\n",
       "      <th></th>\n",
       "      <th>ID</th>\n",
       "      <th>price_usd</th>\n",
       "      <th>surface_total</th>\n",
       "      <th>surface_covered</th>\n",
       "      <th>floor</th>\n",
       "      <th>rooms</th>\n",
       "      <th>expenses</th>\n",
       "      <th>comuna</th>\n",
       "    </tr>\n",
       "  </thead>\n",
       "  <tbody>\n",
       "    <tr>\n",
       "      <th>ID</th>\n",
       "      <td>1.000000</td>\n",
       "      <td>-0.183664</td>\n",
       "      <td>-0.003313</td>\n",
       "      <td>-0.002797</td>\n",
       "      <td>-0.037493</td>\n",
       "      <td>-0.057626</td>\n",
       "      <td>-0.255329</td>\n",
       "      <td>-0.102833</td>\n",
       "    </tr>\n",
       "    <tr>\n",
       "      <th>price_usd</th>\n",
       "      <td>-0.183664</td>\n",
       "      <td>1.000000</td>\n",
       "      <td>0.041927</td>\n",
       "      <td>0.037322</td>\n",
       "      <td>0.010887</td>\n",
       "      <td>0.497453</td>\n",
       "      <td>0.832872</td>\n",
       "      <td>0.033612</td>\n",
       "    </tr>\n",
       "    <tr>\n",
       "      <th>surface_total</th>\n",
       "      <td>-0.003313</td>\n",
       "      <td>0.041927</td>\n",
       "      <td>1.000000</td>\n",
       "      <td>0.995089</td>\n",
       "      <td>0.000318</td>\n",
       "      <td>0.052506</td>\n",
       "      <td>0.334290</td>\n",
       "      <td>0.001084</td>\n",
       "    </tr>\n",
       "    <tr>\n",
       "      <th>surface_covered</th>\n",
       "      <td>-0.002797</td>\n",
       "      <td>0.037322</td>\n",
       "      <td>0.995089</td>\n",
       "      <td>1.000000</td>\n",
       "      <td>-0.001405</td>\n",
       "      <td>0.053169</td>\n",
       "      <td>0.800509</td>\n",
       "      <td>-0.001467</td>\n",
       "    </tr>\n",
       "    <tr>\n",
       "      <th>floor</th>\n",
       "      <td>-0.037493</td>\n",
       "      <td>0.010887</td>\n",
       "      <td>0.000318</td>\n",
       "      <td>-0.001405</td>\n",
       "      <td>1.000000</td>\n",
       "      <td>-0.037558</td>\n",
       "      <td>0.214803</td>\n",
       "      <td>0.091809</td>\n",
       "    </tr>\n",
       "    <tr>\n",
       "      <th>rooms</th>\n",
       "      <td>-0.057626</td>\n",
       "      <td>0.497453</td>\n",
       "      <td>0.052506</td>\n",
       "      <td>0.053169</td>\n",
       "      <td>-0.037558</td>\n",
       "      <td>1.000000</td>\n",
       "      <td>0.568290</td>\n",
       "      <td>-0.062948</td>\n",
       "    </tr>\n",
       "    <tr>\n",
       "      <th>expenses</th>\n",
       "      <td>-0.255329</td>\n",
       "      <td>0.832872</td>\n",
       "      <td>0.334290</td>\n",
       "      <td>0.800509</td>\n",
       "      <td>0.214803</td>\n",
       "      <td>0.568290</td>\n",
       "      <td>1.000000</td>\n",
       "      <td>0.100310</td>\n",
       "    </tr>\n",
       "    <tr>\n",
       "      <th>comuna</th>\n",
       "      <td>-0.102833</td>\n",
       "      <td>0.033612</td>\n",
       "      <td>0.001084</td>\n",
       "      <td>-0.001467</td>\n",
       "      <td>0.091809</td>\n",
       "      <td>-0.062948</td>\n",
       "      <td>0.100310</td>\n",
       "      <td>1.000000</td>\n",
       "    </tr>\n",
       "  </tbody>\n",
       "</table>\n",
       "</div>"
      ],
      "text/plain": [
       "                       ID  price_usd  surface_total  surface_covered  \\\n",
       "ID               1.000000  -0.183664      -0.003313        -0.002797   \n",
       "price_usd       -0.183664   1.000000       0.041927         0.037322   \n",
       "surface_total   -0.003313   0.041927       1.000000         0.995089   \n",
       "surface_covered -0.002797   0.037322       0.995089         1.000000   \n",
       "floor           -0.037493   0.010887       0.000318        -0.001405   \n",
       "rooms           -0.057626   0.497453       0.052506         0.053169   \n",
       "expenses        -0.255329   0.832872       0.334290         0.800509   \n",
       "comuna          -0.102833   0.033612       0.001084        -0.001467   \n",
       "\n",
       "                    floor     rooms  expenses    comuna  \n",
       "ID              -0.037493 -0.057626 -0.255329 -0.102833  \n",
       "price_usd        0.010887  0.497453  0.832872  0.033612  \n",
       "surface_total    0.000318  0.052506  0.334290  0.001084  \n",
       "surface_covered -0.001405  0.053169  0.800509 -0.001467  \n",
       "floor            1.000000 -0.037558  0.214803  0.091809  \n",
       "rooms           -0.037558  1.000000  0.568290 -0.062948  \n",
       "expenses         0.214803  0.568290  1.000000  0.100310  \n",
       "comuna           0.091809 -0.062948  0.100310  1.000000  "
      ]
     },
     "execution_count": 22,
     "metadata": {},
     "output_type": "execute_result"
    }
   ],
   "source": [
    "propiedades_caba.corr(method='pearson')"
   ]
  },
  {
   "cell_type": "code",
   "execution_count": 23,
   "id": "a5104b5a",
   "metadata": {},
   "outputs": [
    {
     "data": {
      "image/png": "[encoded data removed]",
      "text/plain": [
       "<Figure size 432x288 with 2 Axes>"
      ]
     },
     "metadata": {
      "needs_background": "light"
     },
     "output_type": "display_data"
    }
   ],
   "source": [
    "sns.heatmap(propiedades_caba.corr(method='pearson'))\n",
    "plt.show()"
   ]
  },
  {
   "cell_type": "markdown",
   "id": "8daa057a",
   "metadata": {},
   "source": [
    "El **coeficiente de correlación de Pearson** mide la relación lineal entre 2 variables. \n",
    "Como podemos observar, las variables que se encuentran 100% correlacionadas son surface_total y surface_covered. También, están muy correlacionadas, en menor medida que las anteriores las variables price_usd y expenses, y surface_covered y expenses."
   ]
  },
  {
   "cell_type": "markdown",
   "id": "25363b67",
   "metadata": {},
   "source": [
    "#### Inspeccionamos la cantidad de registros nulos por columna"
   ]
  },
  {
   "cell_type": "code",
   "execution_count": 24,
   "id": "ba21c211",
   "metadata": {},
   "outputs": [
    {
     "data": {
      "text/plain": [
       "<AxesSubplot:>"
      ]
     },
     "execution_count": 24,
     "metadata": {},
     "output_type": "execute_result"
    },
    {
     "data": {
      "image/png": "[encoded data removed]",
      "text/plain": [
       "<Figure size 864x432 with 3 Axes>"
      ]
     },
     "metadata": {
      "needs_background": "light"
     },
     "output_type": "display_data"
    }
   ],
   "source": [
    "# Analizamos visualmente los datos faltantes\n",
    "msno.bar(propiedades_caba,figsize=(12, 6), sort=\"ascending\",fontsize=12, color='tomato')"
   ]
  },
  {
   "cell_type": "code",
   "execution_count": 25,
   "id": "c156899b",
   "metadata": {},
   "outputs": [
    {
     "data": {
      "text/plain": [
       "ID                    0\n",
       "property_type       488\n",
       "lat                   0\n",
       "lon                   0\n",
       "description           0\n",
       "title                 0\n",
       "price_usd             0\n",
       "surface_total         0\n",
       "surface_covered       0\n",
       "floor              8850\n",
       "rooms                 0\n",
       "expenses           8032\n",
       "barrio                0\n",
       "comuna                0\n",
       "dtype: int64"
      ]
     },
     "execution_count": 25,
     "metadata": {},
     "output_type": "execute_result"
    }
   ],
   "source": [
    "propiedades_caba.isna().sum()"
   ]
  },
  {
   "cell_type": "markdown",
   "id": "b0e0dda0",
   "metadata": {},
   "source": [
    "De lo observado precedentemente, podemos advertir que hay 3 columnas que poseen datos nulos. \n",
    "Para poder trabajar de manera correcta, debemos resolver que hacer con dichos datos nulos.\n",
    "En el caso del tipo de propiedad, los registros nulos deben necesariamente imputarse con alguno de los tipos de propiedad existentes. Podríamos imputarlos con información de la columna 'title'.\n",
    "En el caso de floor, puede que el dato nulo tenga su origen en que se trata de una casa, o que la propiedad está en planta baja.\n",
    "En relación a las expensas, podría tratarse de datos perdidos, o de propiedades que no pagan expensas.\n",
    "A continuación, vamos a investigar un poco más en relación a los datos para tomar decisiones con los datos faltantes.\n",
    "Un buen punto de partida, es realizar un análisis de correlación entre las variables."
   ]
  },
  {
   "cell_type": "markdown",
   "id": "71b29c67",
   "metadata": {},
   "source": [
    "### Curación de datos"
   ]
  },
  {
   "cell_type": "code",
   "execution_count": 26,
   "id": "5ab82c00",
   "metadata": {},
   "outputs": [],
   "source": [
    "# Filtro las filas en las que property_type es nula\n",
    "nan_rows = propiedades_caba[propiedades_caba['property_type'].isnull()]"
   ]
  },
  {
   "cell_type": "code",
   "execution_count": 27,
   "id": "76205a81",
   "metadata": {
    "scrolled": false
   },
   "outputs": [
    {
     "data": {
      "text/html": [
       "<div>\n",
       "<style scoped>\n",
       "    .dataframe tbody tr th:only-of-type {\n",
       "        vertical-align: middle;\n",
       "    }\n",
       "\n",
       "    .dataframe tbody tr th {\n",
       "        vertical-align: top;\n",
       "    }\n",
       "\n",
       "    .dataframe thead th {\n",
       "        text-align: right;\n",
       "    }\n",
       "</style>\n",
       "<table border=\"1\" class=\"dataframe\">\n",
       "  <thead>\n",
       "    <tr style=\"text-align: right;\">\n",
       "      <th></th>\n",
       "      <th>ID</th>\n",
       "      <th>property_type</th>\n",
       "      <th>lat</th>\n",
       "      <th>lon</th>\n",
       "      <th>description</th>\n",
       "      <th>title</th>\n",
       "      <th>price_usd</th>\n",
       "      <th>surface_total</th>\n",
       "      <th>surface_covered</th>\n",
       "      <th>floor</th>\n",
       "      <th>rooms</th>\n",
       "      <th>expenses</th>\n",
       "      <th>barrio</th>\n",
       "      <th>comuna</th>\n",
       "    </tr>\n",
       "  </thead>\n",
       "  <tbody>\n",
       "    <tr>\n",
       "      <th>177</th>\n",
       "      <td>8527</td>\n",
       "      <td>NaN</td>\n",
       "      <td>-345.731.455.731</td>\n",
       "      <td>-584.798.744.968</td>\n",
       "      <td>Terminaciones: Agua caliente central Carpinter...</td>\n",
       "      <td>OL RESIDENCES - 2 amb. en Duplex!!!.|.APARTMENT</td>\n",
       "      <td>198044</td>\n",
       "      <td>46</td>\n",
       "      <td>39</td>\n",
       "      <td>NaN</td>\n",
       "      <td>2</td>\n",
       "      <td>NaN</td>\n",
       "      <td>VILLA URQUIZA</td>\n",
       "      <td>12</td>\n",
       "    </tr>\n",
       "    <tr>\n",
       "      <th>187</th>\n",
       "      <td>1016</td>\n",
       "      <td>NaN</td>\n",
       "      <td>-345.572.955.161</td>\n",
       "      <td>-584.422.990.308</td>\n",
       "      <td>Increíble 3 ambientes mas dependencia de servi...</td>\n",
       "      <td>Artilleros 1900 - Belgrano Bajo - Capital Fede...</td>\n",
       "      <td>720000</td>\n",
       "      <td>131</td>\n",
       "      <td>131</td>\n",
       "      <td>NaN</td>\n",
       "      <td>3</td>\n",
       "      <td>NaN</td>\n",
       "      <td>BELGRANO</td>\n",
       "      <td>13</td>\n",
       "    </tr>\n",
       "    <tr>\n",
       "      <th>188</th>\n",
       "      <td>3526</td>\n",
       "      <td>NaN</td>\n",
       "      <td>-345.879.690.743</td>\n",
       "      <td>-58.398.635.373.000.000</td>\n",
       "      <td>Amplio hall de entrada, Gran Living Comedor, 2...</td>\n",
       "      <td>EDIFICIO de ESTILO,  MUY BUENA CATEGORÍA FRENT...</td>\n",
       "      <td>220000</td>\n",
       "      <td>76</td>\n",
       "      <td>76</td>\n",
       "      <td>NaN</td>\n",
       "      <td>3</td>\n",
       "      <td>NaN</td>\n",
       "      <td>RECOLETA</td>\n",
       "      <td>2</td>\n",
       "    </tr>\n",
       "    <tr>\n",
       "      <th>208</th>\n",
       "      <td>67</td>\n",
       "      <td>NaN</td>\n",
       "      <td>-3.461.000.739.999.990</td>\n",
       "      <td>-583.820.397</td>\n",
       "      <td>APTO CRÉDITO - EXCELENTE DEPTO. CON VISTA ABIE...</td>\n",
       "      <td>Departamento - Microcentro.|.APARTMENT</td>\n",
       "      <td>85000</td>\n",
       "      <td>34</td>\n",
       "      <td>34</td>\n",
       "      <td>NaN</td>\n",
       "      <td>2</td>\n",
       "      <td>1750.0</td>\n",
       "      <td>MONSERRAT</td>\n",
       "      <td>1</td>\n",
       "    </tr>\n",
       "    <tr>\n",
       "      <th>222</th>\n",
       "      <td>9233</td>\n",
       "      <td>NaN</td>\n",
       "      <td>-34.645.916.799.999.900</td>\n",
       "      <td>-58.377.410.399.999.900</td>\n",
       "      <td>CASA 4 AMBIENTES. IMPECABLE. 320 M2. TODO SOL....</td>\n",
       "      <td>CASA EN VENTA.|.HOUSE</td>\n",
       "      <td>280000</td>\n",
       "      <td>320</td>\n",
       "      <td>320</td>\n",
       "      <td>NaN</td>\n",
       "      <td>4</td>\n",
       "      <td>NaN</td>\n",
       "      <td>BARRACAS</td>\n",
       "      <td>4</td>\n",
       "    </tr>\n",
       "  </tbody>\n",
       "</table>\n",
       "</div>"
      ],
      "text/plain": [
       "       ID property_type                      lat                      lon  \\\n",
       "177  8527           NaN         -345.731.455.731         -584.798.744.968   \n",
       "187  1016           NaN         -345.572.955.161         -584.422.990.308   \n",
       "188  3526           NaN         -345.879.690.743  -58.398.635.373.000.000   \n",
       "208    67           NaN   -3.461.000.739.999.990             -583.820.397   \n",
       "222  9233           NaN  -34.645.916.799.999.900  -58.377.410.399.999.900   \n",
       "\n",
       "                                           description  \\\n",
       "177  Terminaciones: Agua caliente central Carpinter...   \n",
       "187  Increíble 3 ambientes mas dependencia de servi...   \n",
       "188  Amplio hall de entrada, Gran Living Comedor, 2...   \n",
       "208  APTO CRÉDITO - EXCELENTE DEPTO. CON VISTA ABIE...   \n",
       "222  CASA 4 AMBIENTES. IMPECABLE. 320 M2. TODO SOL....   \n",
       "\n",
       "                                                 title  price_usd  \\\n",
       "177    OL RESIDENCES - 2 amb. en Duplex!!!.|.APARTMENT     198044   \n",
       "187  Artilleros 1900 - Belgrano Bajo - Capital Fede...     720000   \n",
       "188  EDIFICIO de ESTILO,  MUY BUENA CATEGORÍA FRENT...     220000   \n",
       "208             Departamento - Microcentro.|.APARTMENT      85000   \n",
       "222                              CASA EN VENTA.|.HOUSE     280000   \n",
       "\n",
       "     surface_total  surface_covered  floor  rooms  expenses         barrio  \\\n",
       "177             46               39    NaN      2       NaN  VILLA URQUIZA   \n",
       "187            131              131    NaN      3       NaN       BELGRANO   \n",
       "188             76               76    NaN      3       NaN       RECOLETA   \n",
       "208             34               34    NaN      2    1750.0      MONSERRAT   \n",
       "222            320              320    NaN      4       NaN       BARRACAS   \n",
       "\n",
       "     comuna  \n",
       "177      12  \n",
       "187      13  \n",
       "188       2  \n",
       "208       1  \n",
       "222       4  "
      ]
     },
     "execution_count": 27,
     "metadata": {},
     "output_type": "execute_result"
    }
   ],
   "source": [
    "nan_rows.head()"
   ]
  },
  {
   "cell_type": "code",
   "execution_count": 28,
   "id": "3da04665",
   "metadata": {},
   "outputs": [
    {
     "data": {
      "text/plain": [
       "(488, 14)"
      ]
     },
     "execution_count": 28,
     "metadata": {},
     "output_type": "execute_result"
    }
   ],
   "source": [
    "nan_rows.shape"
   ]
  },
  {
   "cell_type": "code",
   "execution_count": 29,
   "id": "a52b80e3",
   "metadata": {},
   "outputs": [],
   "source": [
    "f = lambda b: 'APARTMENT' in b\n",
    "title1 = propiedades_caba.title.apply(f)"
   ]
  },
  {
   "cell_type": "code",
   "execution_count": 30,
   "id": "ee931496",
   "metadata": {
    "scrolled": false
   },
   "outputs": [
    {
     "data": {
      "text/plain": [
       "0        Venta Departamento 2 ambientes 52m2 cochera Ap...\n",
       "1        Guemes y C.Díaz - Piso de 4 c/dependencia en v...\n",
       "2        Venta. Departamento 2 Ambientes. Guemes 4400. ...\n",
       "3                        DEPARTAMENTO EN VENTA.|.APARTMENT\n",
       "4        VENTA: Importante piso muy alto en torre de ca...\n",
       "                               ...                        \n",
       "10562    MONOAMBIENTE A ESTRENAR AL FRENTE CON BALCON.|...\n",
       "10563    Bolivia    4694 - U$D 168.000 - Departamento e...\n",
       "10564                  AV. CORRIENTES 1100 10º.|.APARTMENT\n",
       "10565    Venta. Monoambiente en piso alto. 32 mtrs². Sa...\n",
       "10566                   Departamento - Palermo.|.APARTMENT\n",
       "Name: title, Length: 9771, dtype: object"
      ]
     },
     "execution_count": 30,
     "metadata": {},
     "output_type": "execute_result"
    }
   ],
   "source": [
    "propiedades_caba[title1].title\n"
   ]
  },
  {
   "cell_type": "code",
   "execution_count": 31,
   "id": "9d2f0a8d",
   "metadata": {},
   "outputs": [],
   "source": [
    "solo_deptos_prov =propiedades_caba[title1].title\n"
   ]
  },
  {
   "cell_type": "code",
   "execution_count": 32,
   "id": "6b6291a4",
   "metadata": {},
   "outputs": [],
   "source": [
    "# Concatenamos los conjuntos de datos con datos faltantes en tipo de propiedad, y los que me indican que son deptos\n",
    "deptos = pd.merge(nan_rows, solo_deptos_prov, how='left', left_index=True, right_index=True)"
   ]
  },
  {
   "cell_type": "code",
   "execution_count": 33,
   "id": "8225b0cc",
   "metadata": {},
   "outputs": [
    {
     "data": {
      "text/plain": [
       "(488, 15)"
      ]
     },
     "execution_count": 33,
     "metadata": {},
     "output_type": "execute_result"
    }
   ],
   "source": [
    "deptos.shape"
   ]
  },
  {
   "cell_type": "code",
   "execution_count": 34,
   "id": "75186b1a",
   "metadata": {
    "scrolled": false
   },
   "outputs": [
    {
     "data": {
      "text/html": [
       "<div>\n",
       "<style scoped>\n",
       "    .dataframe tbody tr th:only-of-type {\n",
       "        vertical-align: middle;\n",
       "    }\n",
       "\n",
       "    .dataframe tbody tr th {\n",
       "        vertical-align: top;\n",
       "    }\n",
       "\n",
       "    .dataframe thead th {\n",
       "        text-align: right;\n",
       "    }\n",
       "</style>\n",
       "<table border=\"1\" class=\"dataframe\">\n",
       "  <thead>\n",
       "    <tr style=\"text-align: right;\">\n",
       "      <th></th>\n",
       "      <th>ID</th>\n",
       "      <th>property_type</th>\n",
       "      <th>lat</th>\n",
       "      <th>lon</th>\n",
       "      <th>description</th>\n",
       "      <th>title_x</th>\n",
       "      <th>price_usd</th>\n",
       "      <th>surface_total</th>\n",
       "      <th>surface_covered</th>\n",
       "      <th>floor</th>\n",
       "      <th>rooms</th>\n",
       "      <th>expenses</th>\n",
       "      <th>barrio</th>\n",
       "      <th>comuna</th>\n",
       "      <th>title_y</th>\n",
       "    </tr>\n",
       "  </thead>\n",
       "  <tbody>\n",
       "    <tr>\n",
       "      <th>177</th>\n",
       "      <td>8527</td>\n",
       "      <td>NaN</td>\n",
       "      <td>-345.731.455.731</td>\n",
       "      <td>-584.798.744.968</td>\n",
       "      <td>Terminaciones: Agua caliente central Carpinter...</td>\n",
       "      <td>OL RESIDENCES - 2 amb. en Duplex!!!.|.APARTMENT</td>\n",
       "      <td>198044</td>\n",
       "      <td>46</td>\n",
       "      <td>39</td>\n",
       "      <td>NaN</td>\n",
       "      <td>2</td>\n",
       "      <td>NaN</td>\n",
       "      <td>VILLA URQUIZA</td>\n",
       "      <td>12</td>\n",
       "      <td>OL RESIDENCES - 2 amb. en Duplex!!!.|.APARTMENT</td>\n",
       "    </tr>\n",
       "    <tr>\n",
       "      <th>187</th>\n",
       "      <td>1016</td>\n",
       "      <td>NaN</td>\n",
       "      <td>-345.572.955.161</td>\n",
       "      <td>-584.422.990.308</td>\n",
       "      <td>Increíble 3 ambientes mas dependencia de servi...</td>\n",
       "      <td>Artilleros 1900 - Belgrano Bajo - Capital Fede...</td>\n",
       "      <td>720000</td>\n",
       "      <td>131</td>\n",
       "      <td>131</td>\n",
       "      <td>NaN</td>\n",
       "      <td>3</td>\n",
       "      <td>NaN</td>\n",
       "      <td>BELGRANO</td>\n",
       "      <td>13</td>\n",
       "      <td>Artilleros 1900 - Belgrano Bajo - Capital Fede...</td>\n",
       "    </tr>\n",
       "    <tr>\n",
       "      <th>188</th>\n",
       "      <td>3526</td>\n",
       "      <td>NaN</td>\n",
       "      <td>-345.879.690.743</td>\n",
       "      <td>-58.398.635.373.000.000</td>\n",
       "      <td>Amplio hall de entrada, Gran Living Comedor, 2...</td>\n",
       "      <td>EDIFICIO de ESTILO,  MUY BUENA CATEGORÍA FRENT...</td>\n",
       "      <td>220000</td>\n",
       "      <td>76</td>\n",
       "      <td>76</td>\n",
       "      <td>NaN</td>\n",
       "      <td>3</td>\n",
       "      <td>NaN</td>\n",
       "      <td>RECOLETA</td>\n",
       "      <td>2</td>\n",
       "      <td>EDIFICIO de ESTILO,  MUY BUENA CATEGORÍA FRENT...</td>\n",
       "    </tr>\n",
       "    <tr>\n",
       "      <th>208</th>\n",
       "      <td>67</td>\n",
       "      <td>NaN</td>\n",
       "      <td>-3.461.000.739.999.990</td>\n",
       "      <td>-583.820.397</td>\n",
       "      <td>APTO CRÉDITO - EXCELENTE DEPTO. CON VISTA ABIE...</td>\n",
       "      <td>Departamento - Microcentro.|.APARTMENT</td>\n",
       "      <td>85000</td>\n",
       "      <td>34</td>\n",
       "      <td>34</td>\n",
       "      <td>NaN</td>\n",
       "      <td>2</td>\n",
       "      <td>1750.0</td>\n",
       "      <td>MONSERRAT</td>\n",
       "      <td>1</td>\n",
       "      <td>Departamento - Microcentro.|.APARTMENT</td>\n",
       "    </tr>\n",
       "    <tr>\n",
       "      <th>222</th>\n",
       "      <td>9233</td>\n",
       "      <td>NaN</td>\n",
       "      <td>-34.645.916.799.999.900</td>\n",
       "      <td>-58.377.410.399.999.900</td>\n",
       "      <td>CASA 4 AMBIENTES. IMPECABLE. 320 M2. TODO SOL....</td>\n",
       "      <td>CASA EN VENTA.|.HOUSE</td>\n",
       "      <td>280000</td>\n",
       "      <td>320</td>\n",
       "      <td>320</td>\n",
       "      <td>NaN</td>\n",
       "      <td>4</td>\n",
       "      <td>NaN</td>\n",
       "      <td>BARRACAS</td>\n",
       "      <td>4</td>\n",
       "      <td>NaN</td>\n",
       "    </tr>\n",
       "  </tbody>\n",
       "</table>\n",
       "</div>"
      ],
      "text/plain": [
       "       ID property_type                      lat                      lon  \\\n",
       "177  8527           NaN         -345.731.455.731         -584.798.744.968   \n",
       "187  1016           NaN         -345.572.955.161         -584.422.990.308   \n",
       "188  3526           NaN         -345.879.690.743  -58.398.635.373.000.000   \n",
       "208    67           NaN   -3.461.000.739.999.990             -583.820.397   \n",
       "222  9233           NaN  -34.645.916.799.999.900  -58.377.410.399.999.900   \n",
       "\n",
       "                                           description  \\\n",
       "177  Terminaciones: Agua caliente central Carpinter...   \n",
       "187  Increíble 3 ambientes mas dependencia de servi...   \n",
       "188  Amplio hall de entrada, Gran Living Comedor, 2...   \n",
       "208  APTO CRÉDITO - EXCELENTE DEPTO. CON VISTA ABIE...   \n",
       "222  CASA 4 AMBIENTES. IMPECABLE. 320 M2. TODO SOL....   \n",
       "\n",
       "                                               title_x  price_usd  \\\n",
       "177    OL RESIDENCES - 2 amb. en Duplex!!!.|.APARTMENT     198044   \n",
       "187  Artilleros 1900 - Belgrano Bajo - Capital Fede...     720000   \n",
       "188  EDIFICIO de ESTILO,  MUY BUENA CATEGORÍA FRENT...     220000   \n",
       "208             Departamento - Microcentro.|.APARTMENT      85000   \n",
       "222                              CASA EN VENTA.|.HOUSE     280000   \n",
       "\n",
       "     surface_total  surface_covered  floor  rooms  expenses         barrio  \\\n",
       "177             46               39    NaN      2       NaN  VILLA URQUIZA   \n",
       "187            131              131    NaN      3       NaN       BELGRANO   \n",
       "188             76               76    NaN      3       NaN       RECOLETA   \n",
       "208             34               34    NaN      2    1750.0      MONSERRAT   \n",
       "222            320              320    NaN      4       NaN       BARRACAS   \n",
       "\n",
       "     comuna                                            title_y  \n",
       "177      12    OL RESIDENCES - 2 amb. en Duplex!!!.|.APARTMENT  \n",
       "187      13  Artilleros 1900 - Belgrano Bajo - Capital Fede...  \n",
       "188       2  EDIFICIO de ESTILO,  MUY BUENA CATEGORÍA FRENT...  \n",
       "208       1             Departamento - Microcentro.|.APARTMENT  \n",
       "222       4                                                NaN  "
      ]
     },
     "execution_count": 34,
     "metadata": {},
     "output_type": "execute_result"
    }
   ],
   "source": [
    "deptos.head()"
   ]
  },
  {
   "cell_type": "code",
   "execution_count": 35,
   "id": "8cc8c32f",
   "metadata": {
    "scrolled": true
   },
   "outputs": [
    {
     "data": {
      "text/plain": [
       "Index(['ID', 'property_type', 'lat', 'lon', 'description', 'title_x',\n",
       "       'price_usd', 'surface_total', 'surface_covered', 'floor', 'rooms',\n",
       "       'expenses', 'barrio', 'comuna', 'title_y'],\n",
       "      dtype='object')"
      ]
     },
     "execution_count": 35,
     "metadata": {},
     "output_type": "execute_result"
    }
   ],
   "source": [
    "deptos.columns"
   ]
  },
  {
   "cell_type": "code",
   "execution_count": 36,
   "id": "d81e2006",
   "metadata": {},
   "outputs": [],
   "source": [
    "deptos.rename({'title_y': 'type'}, axis=1, inplace=True)"
   ]
  },
  {
   "cell_type": "code",
   "execution_count": 37,
   "id": "83e851c5",
   "metadata": {},
   "outputs": [
    {
     "data": {
      "text/plain": [
       "177        OL RESIDENCES - 2 amb. en Duplex!!!.|.APARTMENT\n",
       "187      Artilleros 1900 - Belgrano Bajo - Capital Fede...\n",
       "188      EDIFICIO de ESTILO,  MUY BUENA CATEGORÍA FRENT...\n",
       "208                 Departamento - Microcentro.|.APARTMENT\n",
       "222                                                    NaN\n",
       "                               ...                        \n",
       "10441                    DEPARTAMENTO EN VENTA.|.APARTMENT\n",
       "10467                    DEPARTAMENTO EN VENTA.|.APARTMENT\n",
       "10474                                                  NaN\n",
       "10481    IMPONENTE PISO 6 AMBIENTES CON COCHERA VISTA A...\n",
       "10532    DEPARTAMENTO DE 4 AMBIENTES CON BALCON INTERNO...\n",
       "Name: type, Length: 488, dtype: object"
      ]
     },
     "execution_count": 37,
     "metadata": {},
     "output_type": "execute_result"
    }
   ],
   "source": [
    "deptos['type']"
   ]
  },
  {
   "cell_type": "code",
   "execution_count": 38,
   "id": "612cfa70",
   "metadata": {},
   "outputs": [
    {
     "data": {
      "text/plain": [
       "ID                   0\n",
       "property_type      488\n",
       "lat                  0\n",
       "lon                  0\n",
       "description          0\n",
       "title_x              0\n",
       "price_usd            0\n",
       "surface_total        0\n",
       "surface_covered      0\n",
       "floor              414\n",
       "rooms                0\n",
       "expenses           362\n",
       "barrio               0\n",
       "comuna               0\n",
       "type                28\n",
       "dtype: int64"
      ]
     },
     "execution_count": 38,
     "metadata": {},
     "output_type": "execute_result"
    }
   ],
   "source": [
    "deptos.isna().sum()"
   ]
  },
  {
   "cell_type": "code",
   "execution_count": 39,
   "id": "7b20d41c",
   "metadata": {},
   "outputs": [],
   "source": [
    "# Filtro las filas en las que type es nula, para luego imputarles el tipo 'house'\n",
    "nan_rows2 = deptos[deptos['type'].isnull()]"
   ]
  },
  {
   "cell_type": "code",
   "execution_count": 40,
   "id": "6654c90b",
   "metadata": {
    "scrolled": true
   },
   "outputs": [
    {
     "data": {
      "text/html": [
       "<div>\n",
       "<style scoped>\n",
       "    .dataframe tbody tr th:only-of-type {\n",
       "        vertical-align: middle;\n",
       "    }\n",
       "\n",
       "    .dataframe tbody tr th {\n",
       "        vertical-align: top;\n",
       "    }\n",
       "\n",
       "    .dataframe thead th {\n",
       "        text-align: right;\n",
       "    }\n",
       "</style>\n",
       "<table border=\"1\" class=\"dataframe\">\n",
       "  <thead>\n",
       "    <tr style=\"text-align: right;\">\n",
       "      <th></th>\n",
       "      <th>ID</th>\n",
       "      <th>property_type</th>\n",
       "      <th>lat</th>\n",
       "      <th>lon</th>\n",
       "      <th>description</th>\n",
       "      <th>title_x</th>\n",
       "      <th>price_usd</th>\n",
       "      <th>surface_total</th>\n",
       "      <th>surface_covered</th>\n",
       "      <th>floor</th>\n",
       "      <th>rooms</th>\n",
       "      <th>expenses</th>\n",
       "      <th>barrio</th>\n",
       "      <th>comuna</th>\n",
       "      <th>type</th>\n",
       "    </tr>\n",
       "  </thead>\n",
       "  <tbody>\n",
       "    <tr>\n",
       "      <th>222</th>\n",
       "      <td>9233</td>\n",
       "      <td>NaN</td>\n",
       "      <td>-34.645.916.799.999.900</td>\n",
       "      <td>-58.377.410.399.999.900</td>\n",
       "      <td>CASA 4 AMBIENTES. IMPECABLE. 320 M2. TODO SOL....</td>\n",
       "      <td>CASA EN VENTA.|.HOUSE</td>\n",
       "      <td>280000</td>\n",
       "      <td>320</td>\n",
       "      <td>320</td>\n",
       "      <td>NaN</td>\n",
       "      <td>4</td>\n",
       "      <td>NaN</td>\n",
       "      <td>BARRACAS</td>\n",
       "      <td>4</td>\n",
       "      <td>NaN</td>\n",
       "    </tr>\n",
       "    <tr>\n",
       "      <th>273</th>\n",
       "      <td>5792</td>\n",
       "      <td>NaN</td>\n",
       "      <td>-346.421.213</td>\n",
       "      <td>-585.105.993</td>\n",
       "      <td>HERMOSO CHALET EN VILLA LURO de 4 amb con coch...</td>\n",
       "      <td>CASA EN VENTA.|.HOUSE</td>\n",
       "      <td>650000</td>\n",
       "      <td>340</td>\n",
       "      <td>210</td>\n",
       "      <td>NaN</td>\n",
       "      <td>4</td>\n",
       "      <td>NaN</td>\n",
       "      <td>LINIERS</td>\n",
       "      <td>9</td>\n",
       "      <td>NaN</td>\n",
       "    </tr>\n",
       "    <tr>\n",
       "      <th>836</th>\n",
       "      <td>4884</td>\n",
       "      <td>NaN</td>\n",
       "      <td>-34.618.376</td>\n",
       "      <td>-58.485.439</td>\n",
       "      <td>Corredor Responsable: Patricia Maria Sodor - C...</td>\n",
       "      <td>Casa 5 amb. Cochera Parque y Parrilla!!!.|.HOUSE</td>\n",
       "      <td>335000</td>\n",
       "      <td>270</td>\n",
       "      <td>214</td>\n",
       "      <td>NaN</td>\n",
       "      <td>5</td>\n",
       "      <td>NaN</td>\n",
       "      <td>VILLA SANTA RITA</td>\n",
       "      <td>11</td>\n",
       "      <td>NaN</td>\n",
       "    </tr>\n",
       "    <tr>\n",
       "      <th>900</th>\n",
       "      <td>10564</td>\n",
       "      <td>NaN</td>\n",
       "      <td>-346.911.595</td>\n",
       "      <td>-58.470.592</td>\n",
       "      <td>En venta, casa a refaccionar!!TERRENO 8.66 X 2...</td>\n",
       "      <td>SE VENDE CASA A REFACCIONAR VILLA LUGANO.|.HOUSE</td>\n",
       "      <td>140000</td>\n",
       "      <td>185</td>\n",
       "      <td>120</td>\n",
       "      <td>NaN</td>\n",
       "      <td>3</td>\n",
       "      <td>NaN</td>\n",
       "      <td>VILLA RIACHUELO</td>\n",
       "      <td>8</td>\n",
       "      <td>NaN</td>\n",
       "    </tr>\n",
       "    <tr>\n",
       "      <th>999</th>\n",
       "      <td>7108</td>\n",
       "      <td>NaN</td>\n",
       "      <td>-34.601.364.200.000.000</td>\n",
       "      <td>-584.713.192</td>\n",
       "      <td>Corredor Responsable: JUAN FRANCISCO CARATTINO...</td>\n",
       "      <td>Venta Casa 5 amb cocheras quincho hermosa mode...</td>\n",
       "      <td>450000</td>\n",
       "      <td>230</td>\n",
       "      <td>209</td>\n",
       "      <td>NaN</td>\n",
       "      <td>5</td>\n",
       "      <td>NaN</td>\n",
       "      <td>PATERNAL</td>\n",
       "      <td>15</td>\n",
       "      <td>NaN</td>\n",
       "    </tr>\n",
       "  </tbody>\n",
       "</table>\n",
       "</div>"
      ],
      "text/plain": [
       "        ID property_type                      lat                      lon  \\\n",
       "222   9233           NaN  -34.645.916.799.999.900  -58.377.410.399.999.900   \n",
       "273   5792           NaN             -346.421.213             -585.105.993   \n",
       "836   4884           NaN              -34.618.376              -58.485.439   \n",
       "900  10564           NaN             -346.911.595              -58.470.592   \n",
       "999   7108           NaN  -34.601.364.200.000.000             -584.713.192   \n",
       "\n",
       "                                           description  \\\n",
       "222  CASA 4 AMBIENTES. IMPECABLE. 320 M2. TODO SOL....   \n",
       "273  HERMOSO CHALET EN VILLA LURO de 4 amb con coch...   \n",
       "836  Corredor Responsable: Patricia Maria Sodor - C...   \n",
       "900  En venta, casa a refaccionar!!TERRENO 8.66 X 2...   \n",
       "999  Corredor Responsable: JUAN FRANCISCO CARATTINO...   \n",
       "\n",
       "                                               title_x  price_usd  \\\n",
       "222                              CASA EN VENTA.|.HOUSE     280000   \n",
       "273                              CASA EN VENTA.|.HOUSE     650000   \n",
       "836   Casa 5 amb. Cochera Parque y Parrilla!!!.|.HOUSE     335000   \n",
       "900   SE VENDE CASA A REFACCIONAR VILLA LUGANO.|.HOUSE     140000   \n",
       "999  Venta Casa 5 amb cocheras quincho hermosa mode...     450000   \n",
       "\n",
       "     surface_total  surface_covered  floor  rooms  expenses            barrio  \\\n",
       "222            320              320    NaN      4       NaN          BARRACAS   \n",
       "273            340              210    NaN      4       NaN           LINIERS   \n",
       "836            270              214    NaN      5       NaN  VILLA SANTA RITA   \n",
       "900            185              120    NaN      3       NaN   VILLA RIACHUELO   \n",
       "999            230              209    NaN      5       NaN          PATERNAL   \n",
       "\n",
       "     comuna type  \n",
       "222       4  NaN  \n",
       "273       9  NaN  \n",
       "836      11  NaN  \n",
       "900       8  NaN  \n",
       "999      15  NaN  "
      ]
     },
     "execution_count": 40,
     "metadata": {},
     "output_type": "execute_result"
    }
   ],
   "source": [
    "nan_rows2.head()"
   ]
  },
  {
   "cell_type": "code",
   "execution_count": 41,
   "id": "2a80922f",
   "metadata": {},
   "outputs": [
    {
     "name": "stderr",
     "output_type": "stream",
     "text": [
      "/var/folders/n2/xr5yjlg94nz19djzmwz0ls640000gp/T/ipykernel_56989/1316963496.py:1: SettingWithCopyWarning: \n",
      "A value is trying to be set on a copy of a slice from a DataFrame\n",
      "\n",
      "See the caveats in the documentation: https://pandas.pydata.org/pandas-docs/stable/user_guide/indexing.html#returning-a-view-versus-a-copy\n",
      "  nan_rows2.rename({'title_x': 'title'}, axis=1, inplace=True)\n"
     ]
    }
   ],
   "source": [
    "nan_rows2.rename({'title_x': 'title'}, axis=1, inplace=True)"
   ]
  },
  {
   "cell_type": "code",
   "execution_count": 42,
   "id": "6fc609dd",
   "metadata": {
    "scrolled": false
   },
   "outputs": [
    {
     "name": "stdout",
     "output_type": "stream",
     "text": [
      "222      house\n",
      "273      house\n",
      "836      house\n",
      "900      house\n",
      "999      house\n",
      "1825     house\n",
      "1938     house\n",
      "2060     house\n",
      "2860     house\n",
      "3153     house\n",
      "3168     house\n",
      "3528     house\n",
      "4017     house\n",
      "4885     house\n",
      "5142     house\n",
      "6068     house\n",
      "6409     house\n",
      "7389     house\n",
      "7421     house\n",
      "7441     house\n",
      "7974     house\n",
      "8390     house\n",
      "8565     house\n",
      "9082     house\n",
      "9428     house\n",
      "9576     house\n",
      "10035    house\n",
      "10474    house\n",
      "Name: property_type, dtype: object\n"
     ]
    }
   ],
   "source": [
    "print(nan_rows2['property_type'].fillna('house'))"
   ]
  },
  {
   "cell_type": "markdown",
   "id": "192159e3",
   "metadata": {},
   "source": [
    "#### Imputamos parte de los valores nulos de la columna property_type por 'house'"
   ]
  },
  {
   "cell_type": "code",
   "execution_count": 43,
   "id": "2b976735",
   "metadata": {},
   "outputs": [
    {
     "name": "stderr",
     "output_type": "stream",
     "text": [
      "/var/folders/n2/xr5yjlg94nz19djzmwz0ls640000gp/T/ipykernel_56989/2620858688.py:1: SettingWithCopyWarning: \n",
      "A value is trying to be set on a copy of a slice from a DataFrame.\n",
      "Try using .loc[row_indexer,col_indexer] = value instead\n",
      "\n",
      "See the caveats in the documentation: https://pandas.pydata.org/pandas-docs/stable/user_guide/indexing.html#returning-a-view-versus-a-copy\n",
      "  nan_rows2['property_type']=nan_rows2['property_type'].fillna('house')\n"
     ]
    }
   ],
   "source": [
    "nan_rows2['property_type']=nan_rows2['property_type'].fillna('house')"
   ]
  },
  {
   "cell_type": "code",
   "execution_count": 44,
   "id": "b2df3fba",
   "metadata": {
    "scrolled": false
   },
   "outputs": [
    {
     "data": {
      "text/html": [
       "<div>\n",
       "<style scoped>\n",
       "    .dataframe tbody tr th:only-of-type {\n",
       "        vertical-align: middle;\n",
       "    }\n",
       "\n",
       "    .dataframe tbody tr th {\n",
       "        vertical-align: top;\n",
       "    }\n",
       "\n",
       "    .dataframe thead th {\n",
       "        text-align: right;\n",
       "    }\n",
       "</style>\n",
       "<table border=\"1\" class=\"dataframe\">\n",
       "  <thead>\n",
       "    <tr style=\"text-align: right;\">\n",
       "      <th></th>\n",
       "      <th>ID</th>\n",
       "      <th>property_type</th>\n",
       "      <th>lat</th>\n",
       "      <th>lon</th>\n",
       "      <th>description</th>\n",
       "      <th>title</th>\n",
       "      <th>price_usd</th>\n",
       "      <th>surface_total</th>\n",
       "      <th>surface_covered</th>\n",
       "      <th>floor</th>\n",
       "      <th>rooms</th>\n",
       "      <th>expenses</th>\n",
       "      <th>barrio</th>\n",
       "      <th>comuna</th>\n",
       "      <th>type</th>\n",
       "    </tr>\n",
       "  </thead>\n",
       "  <tbody>\n",
       "    <tr>\n",
       "      <th>222</th>\n",
       "      <td>9233</td>\n",
       "      <td>house</td>\n",
       "      <td>-34.645.916.799.999.900</td>\n",
       "      <td>-58.377.410.399.999.900</td>\n",
       "      <td>CASA 4 AMBIENTES. IMPECABLE. 320 M2. TODO SOL....</td>\n",
       "      <td>CASA EN VENTA.|.HOUSE</td>\n",
       "      <td>280000</td>\n",
       "      <td>320</td>\n",
       "      <td>320</td>\n",
       "      <td>NaN</td>\n",
       "      <td>4</td>\n",
       "      <td>NaN</td>\n",
       "      <td>BARRACAS</td>\n",
       "      <td>4</td>\n",
       "      <td>NaN</td>\n",
       "    </tr>\n",
       "    <tr>\n",
       "      <th>273</th>\n",
       "      <td>5792</td>\n",
       "      <td>house</td>\n",
       "      <td>-346.421.213</td>\n",
       "      <td>-585.105.993</td>\n",
       "      <td>HERMOSO CHALET EN VILLA LURO de 4 amb con coch...</td>\n",
       "      <td>CASA EN VENTA.|.HOUSE</td>\n",
       "      <td>650000</td>\n",
       "      <td>340</td>\n",
       "      <td>210</td>\n",
       "      <td>NaN</td>\n",
       "      <td>4</td>\n",
       "      <td>NaN</td>\n",
       "      <td>LINIERS</td>\n",
       "      <td>9</td>\n",
       "      <td>NaN</td>\n",
       "    </tr>\n",
       "    <tr>\n",
       "      <th>836</th>\n",
       "      <td>4884</td>\n",
       "      <td>house</td>\n",
       "      <td>-34.618.376</td>\n",
       "      <td>-58.485.439</td>\n",
       "      <td>Corredor Responsable: Patricia Maria Sodor - C...</td>\n",
       "      <td>Casa 5 amb. Cochera Parque y Parrilla!!!.|.HOUSE</td>\n",
       "      <td>335000</td>\n",
       "      <td>270</td>\n",
       "      <td>214</td>\n",
       "      <td>NaN</td>\n",
       "      <td>5</td>\n",
       "      <td>NaN</td>\n",
       "      <td>VILLA SANTA RITA</td>\n",
       "      <td>11</td>\n",
       "      <td>NaN</td>\n",
       "    </tr>\n",
       "    <tr>\n",
       "      <th>900</th>\n",
       "      <td>10564</td>\n",
       "      <td>house</td>\n",
       "      <td>-346.911.595</td>\n",
       "      <td>-58.470.592</td>\n",
       "      <td>En venta, casa a refaccionar!!TERRENO 8.66 X 2...</td>\n",
       "      <td>SE VENDE CASA A REFACCIONAR VILLA LUGANO.|.HOUSE</td>\n",
       "      <td>140000</td>\n",
       "      <td>185</td>\n",
       "      <td>120</td>\n",
       "      <td>NaN</td>\n",
       "      <td>3</td>\n",
       "      <td>NaN</td>\n",
       "      <td>VILLA RIACHUELO</td>\n",
       "      <td>8</td>\n",
       "      <td>NaN</td>\n",
       "    </tr>\n",
       "    <tr>\n",
       "      <th>999</th>\n",
       "      <td>7108</td>\n",
       "      <td>house</td>\n",
       "      <td>-34.601.364.200.000.000</td>\n",
       "      <td>-584.713.192</td>\n",
       "      <td>Corredor Responsable: JUAN FRANCISCO CARATTINO...</td>\n",
       "      <td>Venta Casa 5 amb cocheras quincho hermosa mode...</td>\n",
       "      <td>450000</td>\n",
       "      <td>230</td>\n",
       "      <td>209</td>\n",
       "      <td>NaN</td>\n",
       "      <td>5</td>\n",
       "      <td>NaN</td>\n",
       "      <td>PATERNAL</td>\n",
       "      <td>15</td>\n",
       "      <td>NaN</td>\n",
       "    </tr>\n",
       "  </tbody>\n",
       "</table>\n",
       "</div>"
      ],
      "text/plain": [
       "        ID property_type                      lat                      lon  \\\n",
       "222   9233         house  -34.645.916.799.999.900  -58.377.410.399.999.900   \n",
       "273   5792         house             -346.421.213             -585.105.993   \n",
       "836   4884         house              -34.618.376              -58.485.439   \n",
       "900  10564         house             -346.911.595              -58.470.592   \n",
       "999   7108         house  -34.601.364.200.000.000             -584.713.192   \n",
       "\n",
       "                                           description  \\\n",
       "222  CASA 4 AMBIENTES. IMPECABLE. 320 M2. TODO SOL....   \n",
       "273  HERMOSO CHALET EN VILLA LURO de 4 amb con coch...   \n",
       "836  Corredor Responsable: Patricia Maria Sodor - C...   \n",
       "900  En venta, casa a refaccionar!!TERRENO 8.66 X 2...   \n",
       "999  Corredor Responsable: JUAN FRANCISCO CARATTINO...   \n",
       "\n",
       "                                                 title  price_usd  \\\n",
       "222                              CASA EN VENTA.|.HOUSE     280000   \n",
       "273                              CASA EN VENTA.|.HOUSE     650000   \n",
       "836   Casa 5 amb. Cochera Parque y Parrilla!!!.|.HOUSE     335000   \n",
       "900   SE VENDE CASA A REFACCIONAR VILLA LUGANO.|.HOUSE     140000   \n",
       "999  Venta Casa 5 amb cocheras quincho hermosa mode...     450000   \n",
       "\n",
       "     surface_total  surface_covered  floor  rooms  expenses            barrio  \\\n",
       "222            320              320    NaN      4       NaN          BARRACAS   \n",
       "273            340              210    NaN      4       NaN           LINIERS   \n",
       "836            270              214    NaN      5       NaN  VILLA SANTA RITA   \n",
       "900            185              120    NaN      3       NaN   VILLA RIACHUELO   \n",
       "999            230              209    NaN      5       NaN          PATERNAL   \n",
       "\n",
       "     comuna type  \n",
       "222       4  NaN  \n",
       "273       9  NaN  \n",
       "836      11  NaN  \n",
       "900       8  NaN  \n",
       "999      15  NaN  "
      ]
     },
     "execution_count": 44,
     "metadata": {},
     "output_type": "execute_result"
    }
   ],
   "source": [
    "nan_rows2.head(5)"
   ]
  },
  {
   "cell_type": "code",
   "execution_count": 45,
   "id": "95ec21ee",
   "metadata": {},
   "outputs": [
    {
     "data": {
      "text/plain": [
       "(28, 15)"
      ]
     },
     "execution_count": 45,
     "metadata": {},
     "output_type": "execute_result"
    }
   ],
   "source": [
    "nan_rows2.shape"
   ]
  },
  {
   "cell_type": "code",
   "execution_count": 46,
   "id": "3f4e0d1f",
   "metadata": {
    "scrolled": true
   },
   "outputs": [
    {
     "data": {
      "text/plain": [
       "222       9233\n",
       "273       5792\n",
       "836       4884\n",
       "900      10564\n",
       "999       7108\n",
       "1825      9365\n",
       "1938      7096\n",
       "2060      6063\n",
       "2860      6011\n",
       "3153      9728\n",
       "3168     10090\n",
       "3528      9433\n",
       "4017      5481\n",
       "4885      6646\n",
       "5142      6578\n",
       "6068      1709\n",
       "6409      5966\n",
       "7389      4979\n",
       "7421      9716\n",
       "7441     10427\n",
       "7974       380\n",
       "8390      2441\n",
       "8565      6029\n",
       "9082      6250\n",
       "9428      9308\n",
       "9576      8889\n",
       "10035     7106\n",
       "10474     9699\n",
       "Name: ID, dtype: int64"
      ]
     },
     "execution_count": 46,
     "metadata": {},
     "output_type": "execute_result"
    }
   ],
   "source": [
    "nan_rows2['ID']"
   ]
  },
  {
   "cell_type": "code",
   "execution_count": 47,
   "id": "f8526456",
   "metadata": {},
   "outputs": [],
   "source": [
    "id_house = nan_rows2['ID']"
   ]
  },
  {
   "cell_type": "code",
   "execution_count": 48,
   "id": "ce2cd618",
   "metadata": {},
   "outputs": [],
   "source": [
    "# Filtramos del dataset original, los ID que imputamos con 'house', y creamos un df nuevo sin esos ID para concatenar \n",
    "filtered_df=propiedades_caba[~propiedades_caba.ID.isin(id_house)]"
   ]
  },
  {
   "cell_type": "code",
   "execution_count": 49,
   "id": "5426b49f",
   "metadata": {},
   "outputs": [
    {
     "data": {
      "text/plain": [
       "(10539, 14)"
      ]
     },
     "execution_count": 49,
     "metadata": {},
     "output_type": "execute_result"
    }
   ],
   "source": [
    "filtered_df.shape"
   ]
  },
  {
   "cell_type": "code",
   "execution_count": 50,
   "id": "a239b6ec",
   "metadata": {
    "scrolled": true
   },
   "outputs": [
    {
     "data": {
      "text/html": [
       "<div>\n",
       "<style scoped>\n",
       "    .dataframe tbody tr th:only-of-type {\n",
       "        vertical-align: middle;\n",
       "    }\n",
       "\n",
       "    .dataframe tbody tr th {\n",
       "        vertical-align: top;\n",
       "    }\n",
       "\n",
       "    .dataframe thead th {\n",
       "        text-align: right;\n",
       "    }\n",
       "</style>\n",
       "<table border=\"1\" class=\"dataframe\">\n",
       "  <thead>\n",
       "    <tr style=\"text-align: right;\">\n",
       "      <th></th>\n",
       "      <th>ID</th>\n",
       "      <th>property_type</th>\n",
       "      <th>lat</th>\n",
       "      <th>lon</th>\n",
       "      <th>description</th>\n",
       "      <th>title</th>\n",
       "      <th>price_usd</th>\n",
       "      <th>surface_total</th>\n",
       "      <th>surface_covered</th>\n",
       "      <th>floor</th>\n",
       "      <th>rooms</th>\n",
       "      <th>expenses</th>\n",
       "      <th>barrio</th>\n",
       "      <th>comuna</th>\n",
       "    </tr>\n",
       "  </thead>\n",
       "  <tbody>\n",
       "    <tr>\n",
       "      <th>0</th>\n",
       "      <td>5415</td>\n",
       "      <td>apartment</td>\n",
       "      <td>-346.115.808</td>\n",
       "      <td>-584.101.838</td>\n",
       "      <td>Departamento de 2 ambientes superficie total 5...</td>\n",
       "      <td>Venta Departamento 2 ambientes 52m2 cochera Ap...</td>\n",
       "      <td>100000</td>\n",
       "      <td>52</td>\n",
       "      <td>44</td>\n",
       "      <td>NaN</td>\n",
       "      <td>2</td>\n",
       "      <td>NaN</td>\n",
       "      <td>BALVANERA</td>\n",
       "      <td>3</td>\n",
       "    </tr>\n",
       "    <tr>\n",
       "      <th>1</th>\n",
       "      <td>1761</td>\n",
       "      <td>apartment</td>\n",
       "      <td>-345.904.453</td>\n",
       "      <td>-58.410.856.200.000.000</td>\n",
       "      <td>Piso de 4 ambientes con dependencia y balcón a...</td>\n",
       "      <td>Guemes y C.Díaz - Piso de 4 c/dependencia en v...</td>\n",
       "      <td>350000</td>\n",
       "      <td>111</td>\n",
       "      <td>104</td>\n",
       "      <td>NaN</td>\n",
       "      <td>4</td>\n",
       "      <td>5000.0</td>\n",
       "      <td>PALERMO</td>\n",
       "      <td>14</td>\n",
       "    </tr>\n",
       "    <tr>\n",
       "      <th>2</th>\n",
       "      <td>1826</td>\n",
       "      <td>apartment</td>\n",
       "      <td>-345.829.338.033</td>\n",
       "      <td>-584.219.018.513</td>\n",
       "      <td>Living comedor.Dormitorios 1 con placard. Coci...</td>\n",
       "      <td>Venta. Departamento 2 Ambientes. Guemes 4400. ...</td>\n",
       "      <td>93500</td>\n",
       "      <td>32</td>\n",
       "      <td>32</td>\n",
       "      <td>NaN</td>\n",
       "      <td>2</td>\n",
       "      <td>NaN</td>\n",
       "      <td>PALERMO</td>\n",
       "      <td>14</td>\n",
       "    </tr>\n",
       "    <tr>\n",
       "      <th>3</th>\n",
       "      <td>3410</td>\n",
       "      <td>apartment</td>\n",
       "      <td>-346.149.296</td>\n",
       "      <td>-58.426.629.000.000.000</td>\n",
       "      <td>3 AMBIENTES. CONTRAFRENTE. 55 M2. IMPECABLE. V...</td>\n",
       "      <td>DEPARTAMENTO EN VENTA.|.APARTMENT</td>\n",
       "      <td>140000</td>\n",
       "      <td>55</td>\n",
       "      <td>55</td>\n",
       "      <td>3.0</td>\n",
       "      <td>3</td>\n",
       "      <td>1733.0</td>\n",
       "      <td>ALMAGRO</td>\n",
       "      <td>5</td>\n",
       "    </tr>\n",
       "    <tr>\n",
       "      <th>4</th>\n",
       "      <td>946</td>\n",
       "      <td>apartment</td>\n",
       "      <td>-34.573.452</td>\n",
       "      <td>-584.615.581</td>\n",
       "      <td>LIVING/COMEDOR, TOILETTE, 3 DORMITORIOS (SUITE...</td>\n",
       "      <td>VENTA: Importante piso muy alto en torre de ca...</td>\n",
       "      <td>690000</td>\n",
       "      <td>185</td>\n",
       "      <td>185</td>\n",
       "      <td>NaN</td>\n",
       "      <td>4</td>\n",
       "      <td>NaN</td>\n",
       "      <td>BELGRANO</td>\n",
       "      <td>13</td>\n",
       "    </tr>\n",
       "    <tr>\n",
       "      <th>...</th>\n",
       "      <td>...</td>\n",
       "      <td>...</td>\n",
       "      <td>...</td>\n",
       "      <td>...</td>\n",
       "      <td>...</td>\n",
       "      <td>...</td>\n",
       "      <td>...</td>\n",
       "      <td>...</td>\n",
       "      <td>...</td>\n",
       "      <td>...</td>\n",
       "      <td>...</td>\n",
       "      <td>...</td>\n",
       "      <td>...</td>\n",
       "      <td>...</td>\n",
       "    </tr>\n",
       "    <tr>\n",
       "      <th>10562</th>\n",
       "      <td>431</td>\n",
       "      <td>apartment</td>\n",
       "      <td>-34.556.834</td>\n",
       "      <td>-5.845.995.500.000.000</td>\n",
       "      <td>Corredor Responsable: Marcelo Trujillo - CUCIC...</td>\n",
       "      <td>MONOAMBIENTE A ESTRENAR AL FRENTE CON BALCON.|...</td>\n",
       "      <td>112900</td>\n",
       "      <td>39</td>\n",
       "      <td>36</td>\n",
       "      <td>1.0</td>\n",
       "      <td>1</td>\n",
       "      <td>NaN</td>\n",
       "      <td>BELGRANO</td>\n",
       "      <td>13</td>\n",
       "    </tr>\n",
       "    <tr>\n",
       "      <th>10563</th>\n",
       "      <td>5580</td>\n",
       "      <td>apartment</td>\n",
       "      <td>-3.460.287.476</td>\n",
       "      <td>-5.841.070.938</td>\n",
       "      <td>Ciudad:Capital fe-Zona:Residencial-Asfalto-Osn...</td>\n",
       "      <td>Bolivia    4694 - U$D 168.000 - Departamento e...</td>\n",
       "      <td>168000</td>\n",
       "      <td>73</td>\n",
       "      <td>62</td>\n",
       "      <td>10.0</td>\n",
       "      <td>2</td>\n",
       "      <td>NaN</td>\n",
       "      <td>BALVANERA</td>\n",
       "      <td>3</td>\n",
       "    </tr>\n",
       "    <tr>\n",
       "      <th>10564</th>\n",
       "      <td>7470</td>\n",
       "      <td>apartment</td>\n",
       "      <td>-3.460.404.260.000.000</td>\n",
       "      <td>-58.383.418.500.000.000</td>\n",
       "      <td>VENTA MONAMBIENTE A LATERAL.MUY  LUMINOSIDAD.C...</td>\n",
       "      <td>AV. CORRIENTES 1100 10º.|.APARTMENT</td>\n",
       "      <td>70000</td>\n",
       "      <td>23</td>\n",
       "      <td>23</td>\n",
       "      <td>NaN</td>\n",
       "      <td>1</td>\n",
       "      <td>1400.0</td>\n",
       "      <td>SAN NICOLAS</td>\n",
       "      <td>1</td>\n",
       "    </tr>\n",
       "    <tr>\n",
       "      <th>10565</th>\n",
       "      <td>5323</td>\n",
       "      <td>apartment</td>\n",
       "      <td>-346.150.319.346</td>\n",
       "      <td>-584.047.450.392</td>\n",
       "      <td>- Hermoso monoambiente en 9° piso. - Superfici...</td>\n",
       "      <td>Venta. Monoambiente en piso alto. 32 mtrs². Sa...</td>\n",
       "      <td>73900</td>\n",
       "      <td>32</td>\n",
       "      <td>32</td>\n",
       "      <td>NaN</td>\n",
       "      <td>1</td>\n",
       "      <td>NaN</td>\n",
       "      <td>BALVANERA</td>\n",
       "      <td>3</td>\n",
       "    </tr>\n",
       "    <tr>\n",
       "      <th>10566</th>\n",
       "      <td>2310</td>\n",
       "      <td>apartment</td>\n",
       "      <td>-345.730.512</td>\n",
       "      <td>-584.210.702</td>\n",
       "      <td>DEPARTAMENTO DUPLEX  DE 7 AMBIENTES CON  TERRA...</td>\n",
       "      <td>Departamento - Palermo.|.APARTMENT</td>\n",
       "      <td>690000</td>\n",
       "      <td>557</td>\n",
       "      <td>375</td>\n",
       "      <td>NaN</td>\n",
       "      <td>7</td>\n",
       "      <td>26000.0</td>\n",
       "      <td>PALERMO</td>\n",
       "      <td>14</td>\n",
       "    </tr>\n",
       "  </tbody>\n",
       "</table>\n",
       "<p>10539 rows × 14 columns</p>\n",
       "</div>"
      ],
      "text/plain": [
       "         ID property_type                     lat                      lon  \\\n",
       "0      5415     apartment            -346.115.808             -584.101.838   \n",
       "1      1761     apartment            -345.904.453  -58.410.856.200.000.000   \n",
       "2      1826     apartment        -345.829.338.033         -584.219.018.513   \n",
       "3      3410     apartment            -346.149.296  -58.426.629.000.000.000   \n",
       "4       946     apartment             -34.573.452             -584.615.581   \n",
       "...     ...           ...                     ...                      ...   \n",
       "10562   431     apartment             -34.556.834   -5.845.995.500.000.000   \n",
       "10563  5580     apartment          -3.460.287.476           -5.841.070.938   \n",
       "10564  7470     apartment  -3.460.404.260.000.000  -58.383.418.500.000.000   \n",
       "10565  5323     apartment        -346.150.319.346         -584.047.450.392   \n",
       "10566  2310     apartment            -345.730.512             -584.210.702   \n",
       "\n",
       "                                             description  \\\n",
       "0      Departamento de 2 ambientes superficie total 5...   \n",
       "1      Piso de 4 ambientes con dependencia y balcón a...   \n",
       "2      Living comedor.Dormitorios 1 con placard. Coci...   \n",
       "3      3 AMBIENTES. CONTRAFRENTE. 55 M2. IMPECABLE. V...   \n",
       "4      LIVING/COMEDOR, TOILETTE, 3 DORMITORIOS (SUITE...   \n",
       "...                                                  ...   \n",
       "10562  Corredor Responsable: Marcelo Trujillo - CUCIC...   \n",
       "10563  Ciudad:Capital fe-Zona:Residencial-Asfalto-Osn...   \n",
       "10564  VENTA MONAMBIENTE A LATERAL.MUY  LUMINOSIDAD.C...   \n",
       "10565  - Hermoso monoambiente en 9° piso. - Superfici...   \n",
       "10566  DEPARTAMENTO DUPLEX  DE 7 AMBIENTES CON  TERRA...   \n",
       "\n",
       "                                                   title  price_usd  \\\n",
       "0      Venta Departamento 2 ambientes 52m2 cochera Ap...     100000   \n",
       "1      Guemes y C.Díaz - Piso de 4 c/dependencia en v...     350000   \n",
       "2      Venta. Departamento 2 Ambientes. Guemes 4400. ...      93500   \n",
       "3                      DEPARTAMENTO EN VENTA.|.APARTMENT     140000   \n",
       "4      VENTA: Importante piso muy alto en torre de ca...     690000   \n",
       "...                                                  ...        ...   \n",
       "10562  MONOAMBIENTE A ESTRENAR AL FRENTE CON BALCON.|...     112900   \n",
       "10563  Bolivia    4694 - U$D 168.000 - Departamento e...     168000   \n",
       "10564                AV. CORRIENTES 1100 10º.|.APARTMENT      70000   \n",
       "10565  Venta. Monoambiente en piso alto. 32 mtrs². Sa...      73900   \n",
       "10566                 Departamento - Palermo.|.APARTMENT     690000   \n",
       "\n",
       "       surface_total  surface_covered  floor  rooms  expenses       barrio  \\\n",
       "0                 52               44    NaN      2       NaN    BALVANERA   \n",
       "1                111              104    NaN      4    5000.0      PALERMO   \n",
       "2                 32               32    NaN      2       NaN      PALERMO   \n",
       "3                 55               55    3.0      3    1733.0      ALMAGRO   \n",
       "4                185              185    NaN      4       NaN     BELGRANO   \n",
       "...              ...              ...    ...    ...       ...          ...   \n",
       "10562             39               36    1.0      1       NaN     BELGRANO   \n",
       "10563             73               62   10.0      2       NaN    BALVANERA   \n",
       "10564             23               23    NaN      1    1400.0  SAN NICOLAS   \n",
       "10565             32               32    NaN      1       NaN    BALVANERA   \n",
       "10566            557              375    NaN      7   26000.0      PALERMO   \n",
       "\n",
       "       comuna  \n",
       "0           3  \n",
       "1          14  \n",
       "2          14  \n",
       "3           5  \n",
       "4          13  \n",
       "...       ...  \n",
       "10562      13  \n",
       "10563       3  \n",
       "10564       1  \n",
       "10565       3  \n",
       "10566      14  \n",
       "\n",
       "[10539 rows x 14 columns]"
      ]
     },
     "execution_count": 50,
     "metadata": {},
     "output_type": "execute_result"
    }
   ],
   "source": [
    "filtered_df"
   ]
  },
  {
   "cell_type": "markdown",
   "id": "fa3a5b22",
   "metadata": {},
   "source": [
    "#### Concatenamos los DF: 1) DF con nulos donde imputamos propiedades tipo 'house'; 2) DF original sin considerar los ID de 1)"
   ]
  },
  {
   "cell_type": "code",
   "execution_count": 51,
   "id": "c953ef58",
   "metadata": {},
   "outputs": [],
   "source": [
    "propiedades_caba_curado = pd.concat([filtered_df, nan_rows2], axis=0)"
   ]
  },
  {
   "cell_type": "code",
   "execution_count": 52,
   "id": "0eba77df",
   "metadata": {},
   "outputs": [],
   "source": [
    "# Eliminamos las columnas que no necesitamos\n",
    "propiedades_caba_curado = propiedades_caba_curado.drop(columns=['type'])"
   ]
  },
  {
   "cell_type": "code",
   "execution_count": 53,
   "id": "3e85dbfd",
   "metadata": {
    "scrolled": false
   },
   "outputs": [
    {
     "data": {
      "text/html": [
       "<div>\n",
       "<style scoped>\n",
       "    .dataframe tbody tr th:only-of-type {\n",
       "        vertical-align: middle;\n",
       "    }\n",
       "\n",
       "    .dataframe tbody tr th {\n",
       "        vertical-align: top;\n",
       "    }\n",
       "\n",
       "    .dataframe thead th {\n",
       "        text-align: right;\n",
       "    }\n",
       "</style>\n",
       "<table border=\"1\" class=\"dataframe\">\n",
       "  <thead>\n",
       "    <tr style=\"text-align: right;\">\n",
       "      <th></th>\n",
       "      <th>ID</th>\n",
       "      <th>property_type</th>\n",
       "      <th>lat</th>\n",
       "      <th>lon</th>\n",
       "      <th>description</th>\n",
       "      <th>title</th>\n",
       "      <th>price_usd</th>\n",
       "      <th>surface_total</th>\n",
       "      <th>surface_covered</th>\n",
       "      <th>floor</th>\n",
       "      <th>rooms</th>\n",
       "      <th>expenses</th>\n",
       "      <th>barrio</th>\n",
       "      <th>comuna</th>\n",
       "    </tr>\n",
       "  </thead>\n",
       "  <tbody>\n",
       "    <tr>\n",
       "      <th>0</th>\n",
       "      <td>5415</td>\n",
       "      <td>apartment</td>\n",
       "      <td>-346.115.808</td>\n",
       "      <td>-584.101.838</td>\n",
       "      <td>Departamento de 2 ambientes superficie total 5...</td>\n",
       "      <td>Venta Departamento 2 ambientes 52m2 cochera Ap...</td>\n",
       "      <td>100000</td>\n",
       "      <td>52</td>\n",
       "      <td>44</td>\n",
       "      <td>NaN</td>\n",
       "      <td>2</td>\n",
       "      <td>NaN</td>\n",
       "      <td>BALVANERA</td>\n",
       "      <td>3</td>\n",
       "    </tr>\n",
       "    <tr>\n",
       "      <th>1</th>\n",
       "      <td>1761</td>\n",
       "      <td>apartment</td>\n",
       "      <td>-345.904.453</td>\n",
       "      <td>-58.410.856.200.000.000</td>\n",
       "      <td>Piso de 4 ambientes con dependencia y balcón a...</td>\n",
       "      <td>Guemes y C.Díaz - Piso de 4 c/dependencia en v...</td>\n",
       "      <td>350000</td>\n",
       "      <td>111</td>\n",
       "      <td>104</td>\n",
       "      <td>NaN</td>\n",
       "      <td>4</td>\n",
       "      <td>5000.0</td>\n",
       "      <td>PALERMO</td>\n",
       "      <td>14</td>\n",
       "    </tr>\n",
       "    <tr>\n",
       "      <th>2</th>\n",
       "      <td>1826</td>\n",
       "      <td>apartment</td>\n",
       "      <td>-345.829.338.033</td>\n",
       "      <td>-584.219.018.513</td>\n",
       "      <td>Living comedor.Dormitorios 1 con placard. Coci...</td>\n",
       "      <td>Venta. Departamento 2 Ambientes. Guemes 4400. ...</td>\n",
       "      <td>93500</td>\n",
       "      <td>32</td>\n",
       "      <td>32</td>\n",
       "      <td>NaN</td>\n",
       "      <td>2</td>\n",
       "      <td>NaN</td>\n",
       "      <td>PALERMO</td>\n",
       "      <td>14</td>\n",
       "    </tr>\n",
       "    <tr>\n",
       "      <th>3</th>\n",
       "      <td>3410</td>\n",
       "      <td>apartment</td>\n",
       "      <td>-346.149.296</td>\n",
       "      <td>-58.426.629.000.000.000</td>\n",
       "      <td>3 AMBIENTES. CONTRAFRENTE. 55 M2. IMPECABLE. V...</td>\n",
       "      <td>DEPARTAMENTO EN VENTA.|.APARTMENT</td>\n",
       "      <td>140000</td>\n",
       "      <td>55</td>\n",
       "      <td>55</td>\n",
       "      <td>3.0</td>\n",
       "      <td>3</td>\n",
       "      <td>1733.0</td>\n",
       "      <td>ALMAGRO</td>\n",
       "      <td>5</td>\n",
       "    </tr>\n",
       "    <tr>\n",
       "      <th>4</th>\n",
       "      <td>946</td>\n",
       "      <td>apartment</td>\n",
       "      <td>-34.573.452</td>\n",
       "      <td>-584.615.581</td>\n",
       "      <td>LIVING/COMEDOR, TOILETTE, 3 DORMITORIOS (SUITE...</td>\n",
       "      <td>VENTA: Importante piso muy alto en torre de ca...</td>\n",
       "      <td>690000</td>\n",
       "      <td>185</td>\n",
       "      <td>185</td>\n",
       "      <td>NaN</td>\n",
       "      <td>4</td>\n",
       "      <td>NaN</td>\n",
       "      <td>BELGRANO</td>\n",
       "      <td>13</td>\n",
       "    </tr>\n",
       "  </tbody>\n",
       "</table>\n",
       "</div>"
      ],
      "text/plain": [
       "     ID property_type               lat                      lon  \\\n",
       "0  5415     apartment      -346.115.808             -584.101.838   \n",
       "1  1761     apartment      -345.904.453  -58.410.856.200.000.000   \n",
       "2  1826     apartment  -345.829.338.033         -584.219.018.513   \n",
       "3  3410     apartment      -346.149.296  -58.426.629.000.000.000   \n",
       "4   946     apartment       -34.573.452             -584.615.581   \n",
       "\n",
       "                                         description  \\\n",
       "0  Departamento de 2 ambientes superficie total 5...   \n",
       "1  Piso de 4 ambientes con dependencia y balcón a...   \n",
       "2  Living comedor.Dormitorios 1 con placard. Coci...   \n",
       "3  3 AMBIENTES. CONTRAFRENTE. 55 M2. IMPECABLE. V...   \n",
       "4  LIVING/COMEDOR, TOILETTE, 3 DORMITORIOS (SUITE...   \n",
       "\n",
       "                                               title  price_usd  \\\n",
       "0  Venta Departamento 2 ambientes 52m2 cochera Ap...     100000   \n",
       "1  Guemes y C.Díaz - Piso de 4 c/dependencia en v...     350000   \n",
       "2  Venta. Departamento 2 Ambientes. Guemes 4400. ...      93500   \n",
       "3                  DEPARTAMENTO EN VENTA.|.APARTMENT     140000   \n",
       "4  VENTA: Importante piso muy alto en torre de ca...     690000   \n",
       "\n",
       "   surface_total  surface_covered  floor  rooms  expenses     barrio  comuna  \n",
       "0             52               44    NaN      2       NaN  BALVANERA       3  \n",
       "1            111              104    NaN      4    5000.0    PALERMO      14  \n",
       "2             32               32    NaN      2       NaN    PALERMO      14  \n",
       "3             55               55    3.0      3    1733.0    ALMAGRO       5  \n",
       "4            185              185    NaN      4       NaN   BELGRANO      13  "
      ]
     },
     "execution_count": 53,
     "metadata": {},
     "output_type": "execute_result"
    }
   ],
   "source": [
    "propiedades_caba_curado.head()"
   ]
  },
  {
   "cell_type": "code",
   "execution_count": 54,
   "id": "36c1af28",
   "metadata": {},
   "outputs": [],
   "source": [
    "#propiedades_caba_curado['title_final'] = propiedades_caba_curado.title.str.cat(propiedades_caba_curado.title_x)"
   ]
  },
  {
   "cell_type": "code",
   "execution_count": 55,
   "id": "d8e7b4a8",
   "metadata": {},
   "outputs": [
    {
     "data": {
      "text/plain": [
       "(10567, 14)"
      ]
     },
     "execution_count": 55,
     "metadata": {},
     "output_type": "execute_result"
    }
   ],
   "source": [
    "propiedades_caba_curado.shape"
   ]
  },
  {
   "cell_type": "code",
   "execution_count": 56,
   "id": "57cd3f96",
   "metadata": {},
   "outputs": [
    {
     "data": {
      "text/plain": [
       "ID                    0\n",
       "property_type       460\n",
       "lat                   0\n",
       "lon                   0\n",
       "description           0\n",
       "title                 0\n",
       "price_usd             0\n",
       "surface_total         0\n",
       "surface_covered       0\n",
       "floor              8850\n",
       "rooms                 0\n",
       "expenses           8032\n",
       "barrio                0\n",
       "comuna                0\n",
       "dtype: int64"
      ]
     },
     "execution_count": 56,
     "metadata": {},
     "output_type": "execute_result"
    }
   ],
   "source": [
    "propiedades_caba_curado.isna().sum()"
   ]
  },
  {
   "cell_type": "markdown",
   "id": "899fb65e",
   "metadata": {},
   "source": [
    "#### Imputamos el resto de los valores nulos de la columna property_type por 'apartment'"
   ]
  },
  {
   "cell_type": "code",
   "execution_count": 57,
   "id": "091ab62d",
   "metadata": {},
   "outputs": [],
   "source": [
    "propiedades_caba_curado['property_type']=propiedades_caba_curado['property_type'].fillna('apartment')"
   ]
  },
  {
   "cell_type": "code",
   "execution_count": 58,
   "id": "7dd8d85a",
   "metadata": {},
   "outputs": [
    {
     "data": {
      "text/plain": [
       "ID                    0\n",
       "property_type         0\n",
       "lat                   0\n",
       "lon                   0\n",
       "description           0\n",
       "title                 0\n",
       "price_usd             0\n",
       "surface_total         0\n",
       "surface_covered       0\n",
       "floor              8850\n",
       "rooms                 0\n",
       "expenses           8032\n",
       "barrio                0\n",
       "comuna                0\n",
       "dtype: int64"
      ]
     },
     "execution_count": 58,
     "metadata": {},
     "output_type": "execute_result"
    }
   ],
   "source": [
    "# Verificamos que se hayan imputado correctamente\n",
    "propiedades_caba_curado.isna().sum()"
   ]
  },
  {
   "cell_type": "code",
   "execution_count": 59,
   "id": "0e679ca1",
   "metadata": {},
   "outputs": [
    {
     "data": {
      "text/plain": [
       "property_type\n",
       "apartment    9311\n",
       "house         768\n",
       "Name: property_type, dtype: int64"
      ]
     },
     "execution_count": 59,
     "metadata": {},
     "output_type": "execute_result"
    }
   ],
   "source": [
    "# Inspeccionamos la cantidad de propiedades de cada tipo\n",
    "propiedades_caba['property_type'].groupby(propiedades_caba_curado['property_type']).count()"
   ]
  },
  {
   "cell_type": "code",
   "execution_count": 60,
   "id": "bc653b70",
   "metadata": {},
   "outputs": [
    {
     "data": {
      "text/plain": [
       "(10567, 14)"
      ]
     },
     "execution_count": 60,
     "metadata": {},
     "output_type": "execute_result"
    }
   ],
   "source": [
    "propiedades_caba.shape"
   ]
  },
  {
   "cell_type": "code",
   "execution_count": 61,
   "id": "2702e482",
   "metadata": {},
   "outputs": [
    {
     "data": {
      "text/plain": [
       "ID                    0\n",
       "property_type         0\n",
       "lat                   0\n",
       "lon                   0\n",
       "description           0\n",
       "title                 0\n",
       "price_usd             0\n",
       "surface_total         0\n",
       "surface_covered       0\n",
       "floor              8850\n",
       "rooms                 0\n",
       "expenses           8032\n",
       "barrio                0\n",
       "comuna                0\n",
       "dtype: int64"
      ]
     },
     "execution_count": 61,
     "metadata": {},
     "output_type": "execute_result"
    }
   ],
   "source": [
    "propiedades_caba_curado.isna().sum()"
   ]
  },
  {
   "cell_type": "markdown",
   "id": "fa6e1e74",
   "metadata": {},
   "source": [
    "#### Curamos el resto de las columnas de los inmuebles de tipología  house"
   ]
  },
  {
   "cell_type": "code",
   "execution_count": 62,
   "id": "989d4403",
   "metadata": {},
   "outputs": [],
   "source": [
    "# Filtramos las casas\n",
    "solo_casas = propiedades_caba_curado[propiedades_caba_curado['property_type']=='house']"
   ]
  },
  {
   "cell_type": "code",
   "execution_count": 63,
   "id": "ad3c4005",
   "metadata": {},
   "outputs": [
    {
     "data": {
      "text/html": [
       "<div>\n",
       "<style scoped>\n",
       "    .dataframe tbody tr th:only-of-type {\n",
       "        vertical-align: middle;\n",
       "    }\n",
       "\n",
       "    .dataframe tbody tr th {\n",
       "        vertical-align: top;\n",
       "    }\n",
       "\n",
       "    .dataframe thead th {\n",
       "        text-align: right;\n",
       "    }\n",
       "</style>\n",
       "<table border=\"1\" class=\"dataframe\">\n",
       "  <thead>\n",
       "    <tr style=\"text-align: right;\">\n",
       "      <th></th>\n",
       "      <th>ID</th>\n",
       "      <th>property_type</th>\n",
       "      <th>lat</th>\n",
       "      <th>lon</th>\n",
       "      <th>description</th>\n",
       "      <th>title</th>\n",
       "      <th>price_usd</th>\n",
       "      <th>surface_total</th>\n",
       "      <th>surface_covered</th>\n",
       "      <th>floor</th>\n",
       "      <th>rooms</th>\n",
       "      <th>expenses</th>\n",
       "      <th>barrio</th>\n",
       "      <th>comuna</th>\n",
       "    </tr>\n",
       "  </thead>\n",
       "  <tbody>\n",
       "    <tr>\n",
       "      <th>10</th>\n",
       "      <td>10108</td>\n",
       "      <td>house</td>\n",
       "      <td>-346.474.215</td>\n",
       "      <td>-58.495.243.200.000.000</td>\n",
       "      <td>Se ingresa a un living comedor de 4,70 x 4 con...</td>\n",
       "      <td>Casa - Mataderos.|.HOUSE</td>\n",
       "      <td>180000</td>\n",
       "      <td>100</td>\n",
       "      <td>100</td>\n",
       "      <td>NaN</td>\n",
       "      <td>3</td>\n",
       "      <td>NaN</td>\n",
       "      <td>MATADEROS</td>\n",
       "      <td>9</td>\n",
       "    </tr>\n",
       "    <tr>\n",
       "      <th>22</th>\n",
       "      <td>4792</td>\n",
       "      <td>house</td>\n",
       "      <td>-3.454.950.333</td>\n",
       "      <td>-5.845.836.639</td>\n",
       "      <td>Ciudad:Capital fe-Zona:Residencial-Asfalto-Pro...</td>\n",
       "      <td>Guayra    1800 - U$D 153.000 - Tipo casa PH en...</td>\n",
       "      <td>153000</td>\n",
       "      <td>63</td>\n",
       "      <td>63</td>\n",
       "      <td>1.0</td>\n",
       "      <td>1</td>\n",
       "      <td>NaN</td>\n",
       "      <td>NUÑEZ</td>\n",
       "      <td>13</td>\n",
       "    </tr>\n",
       "    <tr>\n",
       "      <th>28</th>\n",
       "      <td>6073</td>\n",
       "      <td>house</td>\n",
       "      <td>-34.623.331</td>\n",
       "      <td>-585.044.576</td>\n",
       "      <td>Ciudad:Capital fe-Zona:Buena-Asfalto-Informaci...</td>\n",
       "      <td>Cap J G Bermudez    1600 - U$D 75.000 - Tipo c...</td>\n",
       "      <td>75000</td>\n",
       "      <td>66</td>\n",
       "      <td>66</td>\n",
       "      <td>2.0</td>\n",
       "      <td>2</td>\n",
       "      <td>NaN</td>\n",
       "      <td>MONTE CASTRO</td>\n",
       "      <td>10</td>\n",
       "    </tr>\n",
       "    <tr>\n",
       "      <th>63</th>\n",
       "      <td>5815</td>\n",
       "      <td>house</td>\n",
       "      <td>-346.476.198.967</td>\n",
       "      <td>-585.104.939.923</td>\n",
       "      <td>Corredor Responsable: Marcelo Trujillo - CUCIC...</td>\n",
       "      <td>HERMOSA CASA EN LA MEJOR ZONA DE LINIERS.|.HOUSE</td>\n",
       "      <td>340000</td>\n",
       "      <td>323</td>\n",
       "      <td>147</td>\n",
       "      <td>NaN</td>\n",
       "      <td>4</td>\n",
       "      <td>NaN</td>\n",
       "      <td>LINIERS</td>\n",
       "      <td>9</td>\n",
       "    </tr>\n",
       "    <tr>\n",
       "      <th>67</th>\n",
       "      <td>911</td>\n",
       "      <td>house</td>\n",
       "      <td>-34.549.591</td>\n",
       "      <td>-58.448.598</td>\n",
       "      <td>Corredor Responsable: Raul Hector Merlo - CUCI...</td>\n",
       "      <td>Casa barrio River a reciclar.|.HOUSE</td>\n",
       "      <td>420000</td>\n",
       "      <td>210</td>\n",
       "      <td>210</td>\n",
       "      <td>NaN</td>\n",
       "      <td>5</td>\n",
       "      <td>NaN</td>\n",
       "      <td>BELGRANO</td>\n",
       "      <td>13</td>\n",
       "    </tr>\n",
       "  </tbody>\n",
       "</table>\n",
       "</div>"
      ],
      "text/plain": [
       "       ID property_type               lat                      lon  \\\n",
       "10  10108         house      -346.474.215  -58.495.243.200.000.000   \n",
       "22   4792         house    -3.454.950.333           -5.845.836.639   \n",
       "28   6073         house       -34.623.331             -585.044.576   \n",
       "63   5815         house  -346.476.198.967         -585.104.939.923   \n",
       "67    911         house       -34.549.591              -58.448.598   \n",
       "\n",
       "                                          description  \\\n",
       "10  Se ingresa a un living comedor de 4,70 x 4 con...   \n",
       "22  Ciudad:Capital fe-Zona:Residencial-Asfalto-Pro...   \n",
       "28  Ciudad:Capital fe-Zona:Buena-Asfalto-Informaci...   \n",
       "63  Corredor Responsable: Marcelo Trujillo - CUCIC...   \n",
       "67  Corredor Responsable: Raul Hector Merlo - CUCI...   \n",
       "\n",
       "                                                title  price_usd  \\\n",
       "10                           Casa - Mataderos.|.HOUSE     180000   \n",
       "22  Guayra    1800 - U$D 153.000 - Tipo casa PH en...     153000   \n",
       "28  Cap J G Bermudez    1600 - U$D 75.000 - Tipo c...      75000   \n",
       "63   HERMOSA CASA EN LA MEJOR ZONA DE LINIERS.|.HOUSE     340000   \n",
       "67               Casa barrio River a reciclar.|.HOUSE     420000   \n",
       "\n",
       "    surface_total  surface_covered  floor  rooms  expenses        barrio  \\\n",
       "10            100              100    NaN      3       NaN     MATADEROS   \n",
       "22             63               63    1.0      1       NaN         NUÑEZ   \n",
       "28             66               66    2.0      2       NaN  MONTE CASTRO   \n",
       "63            323              147    NaN      4       NaN       LINIERS   \n",
       "67            210              210    NaN      5       NaN      BELGRANO   \n",
       "\n",
       "    comuna  \n",
       "10       9  \n",
       "22      13  \n",
       "28      10  \n",
       "63       9  \n",
       "67      13  "
      ]
     },
     "execution_count": 63,
     "metadata": {},
     "output_type": "execute_result"
    }
   ],
   "source": [
    "solo_casas.head(5)"
   ]
  },
  {
   "cell_type": "code",
   "execution_count": 64,
   "id": "afbf1865",
   "metadata": {},
   "outputs": [
    {
     "data": {
      "text/plain": [
       "ID                   0\n",
       "property_type        0\n",
       "lat                  0\n",
       "lon                  0\n",
       "description          0\n",
       "title                0\n",
       "price_usd            0\n",
       "surface_total        0\n",
       "surface_covered      0\n",
       "floor              661\n",
       "rooms                0\n",
       "expenses           792\n",
       "barrio               0\n",
       "comuna               0\n",
       "dtype: int64"
      ]
     },
     "execution_count": 64,
     "metadata": {},
     "output_type": "execute_result"
    }
   ],
   "source": [
    "solo_casas.isna().sum()"
   ]
  },
  {
   "cell_type": "markdown",
   "id": "2117d785",
   "metadata": {},
   "source": [
    "Al tratarse de **casas**, se reimputan las columnas **floor** y **expenses** por 0, para simplificar el análisis, considerando que al tratarse de ese tipo de viviendas es razonable que no tengan piso ni expensas. "
   ]
  },
  {
   "cell_type": "code",
   "execution_count": 65,
   "id": "a282fc6f",
   "metadata": {},
   "outputs": [],
   "source": [
    "solo_casas = solo_casas.fillna(0)"
   ]
  },
  {
   "cell_type": "code",
   "execution_count": 66,
   "id": "2f871940",
   "metadata": {
    "scrolled": true
   },
   "outputs": [
    {
     "data": {
      "text/plain": [
       "ID                 0\n",
       "property_type      0\n",
       "lat                0\n",
       "lon                0\n",
       "description        0\n",
       "title              0\n",
       "price_usd          0\n",
       "surface_total      0\n",
       "surface_covered    0\n",
       "floor              0\n",
       "rooms              0\n",
       "expenses           0\n",
       "barrio             0\n",
       "comuna             0\n",
       "dtype: int64"
      ]
     },
     "execution_count": 66,
     "metadata": {},
     "output_type": "execute_result"
    }
   ],
   "source": [
    "solo_casas.isna().sum()"
   ]
  },
  {
   "cell_type": "markdown",
   "id": "4ecd5202",
   "metadata": {},
   "source": [
    "#### Curamos el resto de las columnas de los inmuebles de tipología apartment"
   ]
  },
  {
   "cell_type": "code",
   "execution_count": 67,
   "id": "cc19bacf",
   "metadata": {},
   "outputs": [],
   "source": [
    "# Filtramos los departamentos\n",
    "solo_deptos = propiedades_caba_curado[propiedades_caba_curado['property_type']=='apartment']"
   ]
  },
  {
   "cell_type": "code",
   "execution_count": 68,
   "id": "145c8c54",
   "metadata": {},
   "outputs": [
    {
     "data": {
      "text/html": [
       "<div>\n",
       "<style scoped>\n",
       "    .dataframe tbody tr th:only-of-type {\n",
       "        vertical-align: middle;\n",
       "    }\n",
       "\n",
       "    .dataframe tbody tr th {\n",
       "        vertical-align: top;\n",
       "    }\n",
       "\n",
       "    .dataframe thead th {\n",
       "        text-align: right;\n",
       "    }\n",
       "</style>\n",
       "<table border=\"1\" class=\"dataframe\">\n",
       "  <thead>\n",
       "    <tr style=\"text-align: right;\">\n",
       "      <th></th>\n",
       "      <th>ID</th>\n",
       "      <th>property_type</th>\n",
       "      <th>lat</th>\n",
       "      <th>lon</th>\n",
       "      <th>description</th>\n",
       "      <th>title</th>\n",
       "      <th>price_usd</th>\n",
       "      <th>surface_total</th>\n",
       "      <th>surface_covered</th>\n",
       "      <th>floor</th>\n",
       "      <th>rooms</th>\n",
       "      <th>expenses</th>\n",
       "      <th>barrio</th>\n",
       "      <th>comuna</th>\n",
       "    </tr>\n",
       "  </thead>\n",
       "  <tbody>\n",
       "    <tr>\n",
       "      <th>0</th>\n",
       "      <td>5415</td>\n",
       "      <td>apartment</td>\n",
       "      <td>-346.115.808</td>\n",
       "      <td>-584.101.838</td>\n",
       "      <td>Departamento de 2 ambientes superficie total 5...</td>\n",
       "      <td>Venta Departamento 2 ambientes 52m2 cochera Ap...</td>\n",
       "      <td>100000</td>\n",
       "      <td>52</td>\n",
       "      <td>44</td>\n",
       "      <td>NaN</td>\n",
       "      <td>2</td>\n",
       "      <td>NaN</td>\n",
       "      <td>BALVANERA</td>\n",
       "      <td>3</td>\n",
       "    </tr>\n",
       "    <tr>\n",
       "      <th>1</th>\n",
       "      <td>1761</td>\n",
       "      <td>apartment</td>\n",
       "      <td>-345.904.453</td>\n",
       "      <td>-58.410.856.200.000.000</td>\n",
       "      <td>Piso de 4 ambientes con dependencia y balcón a...</td>\n",
       "      <td>Guemes y C.Díaz - Piso de 4 c/dependencia en v...</td>\n",
       "      <td>350000</td>\n",
       "      <td>111</td>\n",
       "      <td>104</td>\n",
       "      <td>NaN</td>\n",
       "      <td>4</td>\n",
       "      <td>5000.0</td>\n",
       "      <td>PALERMO</td>\n",
       "      <td>14</td>\n",
       "    </tr>\n",
       "    <tr>\n",
       "      <th>2</th>\n",
       "      <td>1826</td>\n",
       "      <td>apartment</td>\n",
       "      <td>-345.829.338.033</td>\n",
       "      <td>-584.219.018.513</td>\n",
       "      <td>Living comedor.Dormitorios 1 con placard. Coci...</td>\n",
       "      <td>Venta. Departamento 2 Ambientes. Guemes 4400. ...</td>\n",
       "      <td>93500</td>\n",
       "      <td>32</td>\n",
       "      <td>32</td>\n",
       "      <td>NaN</td>\n",
       "      <td>2</td>\n",
       "      <td>NaN</td>\n",
       "      <td>PALERMO</td>\n",
       "      <td>14</td>\n",
       "    </tr>\n",
       "    <tr>\n",
       "      <th>3</th>\n",
       "      <td>3410</td>\n",
       "      <td>apartment</td>\n",
       "      <td>-346.149.296</td>\n",
       "      <td>-58.426.629.000.000.000</td>\n",
       "      <td>3 AMBIENTES. CONTRAFRENTE. 55 M2. IMPECABLE. V...</td>\n",
       "      <td>DEPARTAMENTO EN VENTA.|.APARTMENT</td>\n",
       "      <td>140000</td>\n",
       "      <td>55</td>\n",
       "      <td>55</td>\n",
       "      <td>3.0</td>\n",
       "      <td>3</td>\n",
       "      <td>1733.0</td>\n",
       "      <td>ALMAGRO</td>\n",
       "      <td>5</td>\n",
       "    </tr>\n",
       "    <tr>\n",
       "      <th>4</th>\n",
       "      <td>946</td>\n",
       "      <td>apartment</td>\n",
       "      <td>-34.573.452</td>\n",
       "      <td>-584.615.581</td>\n",
       "      <td>LIVING/COMEDOR, TOILETTE, 3 DORMITORIOS (SUITE...</td>\n",
       "      <td>VENTA: Importante piso muy alto en torre de ca...</td>\n",
       "      <td>690000</td>\n",
       "      <td>185</td>\n",
       "      <td>185</td>\n",
       "      <td>NaN</td>\n",
       "      <td>4</td>\n",
       "      <td>NaN</td>\n",
       "      <td>BELGRANO</td>\n",
       "      <td>13</td>\n",
       "    </tr>\n",
       "    <tr>\n",
       "      <th>...</th>\n",
       "      <td>...</td>\n",
       "      <td>...</td>\n",
       "      <td>...</td>\n",
       "      <td>...</td>\n",
       "      <td>...</td>\n",
       "      <td>...</td>\n",
       "      <td>...</td>\n",
       "      <td>...</td>\n",
       "      <td>...</td>\n",
       "      <td>...</td>\n",
       "      <td>...</td>\n",
       "      <td>...</td>\n",
       "      <td>...</td>\n",
       "      <td>...</td>\n",
       "    </tr>\n",
       "    <tr>\n",
       "      <th>10562</th>\n",
       "      <td>431</td>\n",
       "      <td>apartment</td>\n",
       "      <td>-34.556.834</td>\n",
       "      <td>-5.845.995.500.000.000</td>\n",
       "      <td>Corredor Responsable: Marcelo Trujillo - CUCIC...</td>\n",
       "      <td>MONOAMBIENTE A ESTRENAR AL FRENTE CON BALCON.|...</td>\n",
       "      <td>112900</td>\n",
       "      <td>39</td>\n",
       "      <td>36</td>\n",
       "      <td>1.0</td>\n",
       "      <td>1</td>\n",
       "      <td>NaN</td>\n",
       "      <td>BELGRANO</td>\n",
       "      <td>13</td>\n",
       "    </tr>\n",
       "    <tr>\n",
       "      <th>10563</th>\n",
       "      <td>5580</td>\n",
       "      <td>apartment</td>\n",
       "      <td>-3.460.287.476</td>\n",
       "      <td>-5.841.070.938</td>\n",
       "      <td>Ciudad:Capital fe-Zona:Residencial-Asfalto-Osn...</td>\n",
       "      <td>Bolivia    4694 - U$D 168.000 - Departamento e...</td>\n",
       "      <td>168000</td>\n",
       "      <td>73</td>\n",
       "      <td>62</td>\n",
       "      <td>10.0</td>\n",
       "      <td>2</td>\n",
       "      <td>NaN</td>\n",
       "      <td>BALVANERA</td>\n",
       "      <td>3</td>\n",
       "    </tr>\n",
       "    <tr>\n",
       "      <th>10564</th>\n",
       "      <td>7470</td>\n",
       "      <td>apartment</td>\n",
       "      <td>-3.460.404.260.000.000</td>\n",
       "      <td>-58.383.418.500.000.000</td>\n",
       "      <td>VENTA MONAMBIENTE A LATERAL.MUY  LUMINOSIDAD.C...</td>\n",
       "      <td>AV. CORRIENTES 1100 10º.|.APARTMENT</td>\n",
       "      <td>70000</td>\n",
       "      <td>23</td>\n",
       "      <td>23</td>\n",
       "      <td>NaN</td>\n",
       "      <td>1</td>\n",
       "      <td>1400.0</td>\n",
       "      <td>SAN NICOLAS</td>\n",
       "      <td>1</td>\n",
       "    </tr>\n",
       "    <tr>\n",
       "      <th>10565</th>\n",
       "      <td>5323</td>\n",
       "      <td>apartment</td>\n",
       "      <td>-346.150.319.346</td>\n",
       "      <td>-584.047.450.392</td>\n",
       "      <td>- Hermoso monoambiente en 9° piso. - Superfici...</td>\n",
       "      <td>Venta. Monoambiente en piso alto. 32 mtrs². Sa...</td>\n",
       "      <td>73900</td>\n",
       "      <td>32</td>\n",
       "      <td>32</td>\n",
       "      <td>NaN</td>\n",
       "      <td>1</td>\n",
       "      <td>NaN</td>\n",
       "      <td>BALVANERA</td>\n",
       "      <td>3</td>\n",
       "    </tr>\n",
       "    <tr>\n",
       "      <th>10566</th>\n",
       "      <td>2310</td>\n",
       "      <td>apartment</td>\n",
       "      <td>-345.730.512</td>\n",
       "      <td>-584.210.702</td>\n",
       "      <td>DEPARTAMENTO DUPLEX  DE 7 AMBIENTES CON  TERRA...</td>\n",
       "      <td>Departamento - Palermo.|.APARTMENT</td>\n",
       "      <td>690000</td>\n",
       "      <td>557</td>\n",
       "      <td>375</td>\n",
       "      <td>NaN</td>\n",
       "      <td>7</td>\n",
       "      <td>26000.0</td>\n",
       "      <td>PALERMO</td>\n",
       "      <td>14</td>\n",
       "    </tr>\n",
       "  </tbody>\n",
       "</table>\n",
       "<p>9771 rows × 14 columns</p>\n",
       "</div>"
      ],
      "text/plain": [
       "         ID property_type                     lat                      lon  \\\n",
       "0      5415     apartment            -346.115.808             -584.101.838   \n",
       "1      1761     apartment            -345.904.453  -58.410.856.200.000.000   \n",
       "2      1826     apartment        -345.829.338.033         -584.219.018.513   \n",
       "3      3410     apartment            -346.149.296  -58.426.629.000.000.000   \n",
       "4       946     apartment             -34.573.452             -584.615.581   \n",
       "...     ...           ...                     ...                      ...   \n",
       "10562   431     apartment             -34.556.834   -5.845.995.500.000.000   \n",
       "10563  5580     apartment          -3.460.287.476           -5.841.070.938   \n",
       "10564  7470     apartment  -3.460.404.260.000.000  -58.383.418.500.000.000   \n",
       "10565  5323     apartment        -346.150.319.346         -584.047.450.392   \n",
       "10566  2310     apartment            -345.730.512             -584.210.702   \n",
       "\n",
       "                                             description  \\\n",
       "0      Departamento de 2 ambientes superficie total 5...   \n",
       "1      Piso de 4 ambientes con dependencia y balcón a...   \n",
       "2      Living comedor.Dormitorios 1 con placard. Coci...   \n",
       "3      3 AMBIENTES. CONTRAFRENTE. 55 M2. IMPECABLE. V...   \n",
       "4      LIVING/COMEDOR, TOILETTE, 3 DORMITORIOS (SUITE...   \n",
       "...                                                  ...   \n",
       "10562  Corredor Responsable: Marcelo Trujillo - CUCIC...   \n",
       "10563  Ciudad:Capital fe-Zona:Residencial-Asfalto-Osn...   \n",
       "10564  VENTA MONAMBIENTE A LATERAL.MUY  LUMINOSIDAD.C...   \n",
       "10565  - Hermoso monoambiente en 9° piso. - Superfici...   \n",
       "10566  DEPARTAMENTO DUPLEX  DE 7 AMBIENTES CON  TERRA...   \n",
       "\n",
       "                                                   title  price_usd  \\\n",
       "0      Venta Departamento 2 ambientes 52m2 cochera Ap...     100000   \n",
       "1      Guemes y C.Díaz - Piso de 4 c/dependencia en v...     350000   \n",
       "2      Venta. Departamento 2 Ambientes. Guemes 4400. ...      93500   \n",
       "3                      DEPARTAMENTO EN VENTA.|.APARTMENT     140000   \n",
       "4      VENTA: Importante piso muy alto en torre de ca...     690000   \n",
       "...                                                  ...        ...   \n",
       "10562  MONOAMBIENTE A ESTRENAR AL FRENTE CON BALCON.|...     112900   \n",
       "10563  Bolivia    4694 - U$D 168.000 - Departamento e...     168000   \n",
       "10564                AV. CORRIENTES 1100 10º.|.APARTMENT      70000   \n",
       "10565  Venta. Monoambiente en piso alto. 32 mtrs². Sa...      73900   \n",
       "10566                 Departamento - Palermo.|.APARTMENT     690000   \n",
       "\n",
       "       surface_total  surface_covered  floor  rooms  expenses       barrio  \\\n",
       "0                 52               44    NaN      2       NaN    BALVANERA   \n",
       "1                111              104    NaN      4    5000.0      PALERMO   \n",
       "2                 32               32    NaN      2       NaN      PALERMO   \n",
       "3                 55               55    3.0      3    1733.0      ALMAGRO   \n",
       "4                185              185    NaN      4       NaN     BELGRANO   \n",
       "...              ...              ...    ...    ...       ...          ...   \n",
       "10562             39               36    1.0      1       NaN     BELGRANO   \n",
       "10563             73               62   10.0      2       NaN    BALVANERA   \n",
       "10564             23               23    NaN      1    1400.0  SAN NICOLAS   \n",
       "10565             32               32    NaN      1       NaN    BALVANERA   \n",
       "10566            557              375    NaN      7   26000.0      PALERMO   \n",
       "\n",
       "       comuna  \n",
       "0           3  \n",
       "1          14  \n",
       "2          14  \n",
       "3           5  \n",
       "4          13  \n",
       "...       ...  \n",
       "10562      13  \n",
       "10563       3  \n",
       "10564       1  \n",
       "10565       3  \n",
       "10566      14  \n",
       "\n",
       "[9771 rows x 14 columns]"
      ]
     },
     "execution_count": 68,
     "metadata": {},
     "output_type": "execute_result"
    }
   ],
   "source": [
    "solo_deptos"
   ]
  },
  {
   "cell_type": "code",
   "execution_count": 69,
   "id": "33deca49",
   "metadata": {},
   "outputs": [
    {
     "data": {
      "text/plain": [
       "ID                    0\n",
       "property_type         0\n",
       "lat                   0\n",
       "lon                   0\n",
       "description           0\n",
       "title                 0\n",
       "price_usd             0\n",
       "surface_total         0\n",
       "surface_covered       0\n",
       "floor              8189\n",
       "rooms                 0\n",
       "expenses           7240\n",
       "barrio                0\n",
       "comuna                0\n",
       "dtype: int64"
      ]
     },
     "execution_count": 69,
     "metadata": {},
     "output_type": "execute_result"
    }
   ],
   "source": [
    "solo_deptos.isna().sum()"
   ]
  },
  {
   "cell_type": "code",
   "execution_count": 70,
   "id": "d6e08005",
   "metadata": {
    "scrolled": true
   },
   "outputs": [
    {
     "data": {
      "text/html": [
       "<div>\n",
       "<style scoped>\n",
       "    .dataframe tbody tr th:only-of-type {\n",
       "        vertical-align: middle;\n",
       "    }\n",
       "\n",
       "    .dataframe tbody tr th {\n",
       "        vertical-align: top;\n",
       "    }\n",
       "\n",
       "    .dataframe thead th {\n",
       "        text-align: right;\n",
       "    }\n",
       "</style>\n",
       "<table border=\"1\" class=\"dataframe\">\n",
       "  <thead>\n",
       "    <tr style=\"text-align: right;\">\n",
       "      <th></th>\n",
       "      <th>ID</th>\n",
       "      <th>price_usd</th>\n",
       "      <th>surface_total</th>\n",
       "      <th>surface_covered</th>\n",
       "      <th>floor</th>\n",
       "      <th>rooms</th>\n",
       "      <th>expenses</th>\n",
       "      <th>comuna</th>\n",
       "    </tr>\n",
       "  </thead>\n",
       "  <tbody>\n",
       "    <tr>\n",
       "      <th>ID</th>\n",
       "      <td>1.000000</td>\n",
       "      <td>-0.197822</td>\n",
       "      <td>-0.058994</td>\n",
       "      <td>-0.059950</td>\n",
       "      <td>-0.031652</td>\n",
       "      <td>-0.122643</td>\n",
       "      <td>-0.255532</td>\n",
       "      <td>-0.119135</td>\n",
       "    </tr>\n",
       "    <tr>\n",
       "      <th>price_usd</th>\n",
       "      <td>-0.197822</td>\n",
       "      <td>1.000000</td>\n",
       "      <td>0.209951</td>\n",
       "      <td>0.194267</td>\n",
       "      <td>0.013015</td>\n",
       "      <td>0.527102</td>\n",
       "      <td>0.835768</td>\n",
       "      <td>0.009015</td>\n",
       "    </tr>\n",
       "    <tr>\n",
       "      <th>surface_total</th>\n",
       "      <td>-0.058994</td>\n",
       "      <td>0.209951</td>\n",
       "      <td>1.000000</td>\n",
       "      <td>0.888272</td>\n",
       "      <td>0.000664</td>\n",
       "      <td>0.185588</td>\n",
       "      <td>0.336085</td>\n",
       "      <td>0.004524</td>\n",
       "    </tr>\n",
       "    <tr>\n",
       "      <th>surface_covered</th>\n",
       "      <td>-0.059950</td>\n",
       "      <td>0.194267</td>\n",
       "      <td>0.888272</td>\n",
       "      <td>1.000000</td>\n",
       "      <td>-0.000728</td>\n",
       "      <td>0.198374</td>\n",
       "      <td>0.813204</td>\n",
       "      <td>-0.006635</td>\n",
       "    </tr>\n",
       "    <tr>\n",
       "      <th>floor</th>\n",
       "      <td>-0.031652</td>\n",
       "      <td>0.013015</td>\n",
       "      <td>0.000664</td>\n",
       "      <td>-0.000728</td>\n",
       "      <td>1.000000</td>\n",
       "      <td>-0.055469</td>\n",
       "      <td>0.214803</td>\n",
       "      <td>0.098631</td>\n",
       "    </tr>\n",
       "    <tr>\n",
       "      <th>rooms</th>\n",
       "      <td>-0.122643</td>\n",
       "      <td>0.527102</td>\n",
       "      <td>0.185588</td>\n",
       "      <td>0.198374</td>\n",
       "      <td>-0.055469</td>\n",
       "      <td>1.000000</td>\n",
       "      <td>0.571735</td>\n",
       "      <td>-0.098504</td>\n",
       "    </tr>\n",
       "    <tr>\n",
       "      <th>expenses</th>\n",
       "      <td>-0.255532</td>\n",
       "      <td>0.835768</td>\n",
       "      <td>0.336085</td>\n",
       "      <td>0.813204</td>\n",
       "      <td>0.214803</td>\n",
       "      <td>0.571735</td>\n",
       "      <td>1.000000</td>\n",
       "      <td>0.100907</td>\n",
       "    </tr>\n",
       "    <tr>\n",
       "      <th>comuna</th>\n",
       "      <td>-0.119135</td>\n",
       "      <td>0.009015</td>\n",
       "      <td>0.004524</td>\n",
       "      <td>-0.006635</td>\n",
       "      <td>0.098631</td>\n",
       "      <td>-0.098504</td>\n",
       "      <td>0.100907</td>\n",
       "      <td>1.000000</td>\n",
       "    </tr>\n",
       "  </tbody>\n",
       "</table>\n",
       "</div>"
      ],
      "text/plain": [
       "                       ID  price_usd  surface_total  surface_covered  \\\n",
       "ID               1.000000  -0.197822      -0.058994        -0.059950   \n",
       "price_usd       -0.197822   1.000000       0.209951         0.194267   \n",
       "surface_total   -0.058994   0.209951       1.000000         0.888272   \n",
       "surface_covered -0.059950   0.194267       0.888272         1.000000   \n",
       "floor           -0.031652   0.013015       0.000664        -0.000728   \n",
       "rooms           -0.122643   0.527102       0.185588         0.198374   \n",
       "expenses        -0.255532   0.835768       0.336085         0.813204   \n",
       "comuna          -0.119135   0.009015       0.004524        -0.006635   \n",
       "\n",
       "                    floor     rooms  expenses    comuna  \n",
       "ID              -0.031652 -0.122643 -0.255532 -0.119135  \n",
       "price_usd        0.013015  0.527102  0.835768  0.009015  \n",
       "surface_total    0.000664  0.185588  0.336085  0.004524  \n",
       "surface_covered -0.000728  0.198374  0.813204 -0.006635  \n",
       "floor            1.000000 -0.055469  0.214803  0.098631  \n",
       "rooms           -0.055469  1.000000  0.571735 -0.098504  \n",
       "expenses         0.214803  0.571735  1.000000  0.100907  \n",
       "comuna           0.098631 -0.098504  0.100907  1.000000  "
      ]
     },
     "execution_count": 70,
     "metadata": {},
     "output_type": "execute_result"
    }
   ],
   "source": [
    "# Analizamos la correlación de variables en el conjunto de datos relacionado a solo deptos\n",
    "solo_deptos.corr(method='pearson')"
   ]
  },
  {
   "cell_type": "markdown",
   "id": "7c65f506",
   "metadata": {},
   "source": [
    "La variable **expenses** se encuentra áltamente correlacionada con las variables **price_usd** y **surface_covered**.\n",
    "Por ello, para imputar los valores faltantes de la variable **expenses** vamos a imputar por los valores de la columna **price_usd**. \n",
    "En relación a la variable **floor**, no se observa que tenga alta correlación con ninguna de las otras variables del dataset, incluso, en relación a la variable **price_usd** que es nuestra variable objetivo, por lo que vamos a imputar los valores faltantes de dicha variable por 0."
   ]
  },
  {
   "cell_type": "markdown",
   "id": "65afa215",
   "metadata": {},
   "source": [
    "**1.Imputamos los valores faltantes de la variable floor por 0**"
   ]
  },
  {
   "cell_type": "code",
   "execution_count": 71,
   "id": "934c2296",
   "metadata": {
    "scrolled": true
   },
   "outputs": [
    {
     "name": "stderr",
     "output_type": "stream",
     "text": [
      "/var/folders/n2/xr5yjlg94nz19djzmwz0ls640000gp/T/ipykernel_56989/2453717686.py:1: SettingWithCopyWarning: \n",
      "A value is trying to be set on a copy of a slice from a DataFrame.\n",
      "Try using .loc[row_indexer,col_indexer] = value instead\n",
      "\n",
      "See the caveats in the documentation: https://pandas.pydata.org/pandas-docs/stable/user_guide/indexing.html#returning-a-view-versus-a-copy\n",
      "  solo_deptos['floor']=solo_deptos['floor'].fillna(0)\n"
     ]
    }
   ],
   "source": [
    "solo_deptos['floor']=solo_deptos['floor'].fillna(0)"
   ]
  },
  {
   "cell_type": "code",
   "execution_count": 72,
   "id": "3153f1be",
   "metadata": {
    "scrolled": true
   },
   "outputs": [
    {
     "data": {
      "text/plain": [
       "Index(['ID', 'property_type', 'lat', 'lon', 'description', 'title',\n",
       "       'price_usd', 'surface_total', 'surface_covered', 'floor', 'rooms',\n",
       "       'expenses', 'barrio', 'comuna'],\n",
       "      dtype='object')"
      ]
     },
     "execution_count": 72,
     "metadata": {},
     "output_type": "execute_result"
    }
   ],
   "source": [
    "solo_deptos.columns"
   ]
  },
  {
   "cell_type": "markdown",
   "id": "a7b13359",
   "metadata": {},
   "source": [
    "**2. Unimos los datasets de casas y departamentos**"
   ]
  },
  {
   "cell_type": "code",
   "execution_count": 73,
   "id": "ddb621cf",
   "metadata": {},
   "outputs": [],
   "source": [
    "propiedades_caba_prov = pd.concat([solo_casas, solo_deptos], axis=0)"
   ]
  },
  {
   "cell_type": "code",
   "execution_count": 74,
   "id": "8b733156",
   "metadata": {
    "scrolled": true
   },
   "outputs": [
    {
     "data": {
      "text/html": [
       "<div>\n",
       "<style scoped>\n",
       "    .dataframe tbody tr th:only-of-type {\n",
       "        vertical-align: middle;\n",
       "    }\n",
       "\n",
       "    .dataframe tbody tr th {\n",
       "        vertical-align: top;\n",
       "    }\n",
       "\n",
       "    .dataframe thead th {\n",
       "        text-align: right;\n",
       "    }\n",
       "</style>\n",
       "<table border=\"1\" class=\"dataframe\">\n",
       "  <thead>\n",
       "    <tr style=\"text-align: right;\">\n",
       "      <th></th>\n",
       "      <th>ID</th>\n",
       "      <th>property_type</th>\n",
       "      <th>lat</th>\n",
       "      <th>lon</th>\n",
       "      <th>description</th>\n",
       "      <th>title</th>\n",
       "      <th>price_usd</th>\n",
       "      <th>surface_total</th>\n",
       "      <th>surface_covered</th>\n",
       "      <th>floor</th>\n",
       "      <th>rooms</th>\n",
       "      <th>expenses</th>\n",
       "      <th>barrio</th>\n",
       "      <th>comuna</th>\n",
       "    </tr>\n",
       "  </thead>\n",
       "  <tbody>\n",
       "    <tr>\n",
       "      <th>10</th>\n",
       "      <td>10108</td>\n",
       "      <td>house</td>\n",
       "      <td>-346.474.215</td>\n",
       "      <td>-58.495.243.200.000.000</td>\n",
       "      <td>Se ingresa a un living comedor de 4,70 x 4 con...</td>\n",
       "      <td>Casa - Mataderos.|.HOUSE</td>\n",
       "      <td>180000</td>\n",
       "      <td>100</td>\n",
       "      <td>100</td>\n",
       "      <td>0.0</td>\n",
       "      <td>3</td>\n",
       "      <td>0.0</td>\n",
       "      <td>MATADEROS</td>\n",
       "      <td>9</td>\n",
       "    </tr>\n",
       "    <tr>\n",
       "      <th>22</th>\n",
       "      <td>4792</td>\n",
       "      <td>house</td>\n",
       "      <td>-3.454.950.333</td>\n",
       "      <td>-5.845.836.639</td>\n",
       "      <td>Ciudad:Capital fe-Zona:Residencial-Asfalto-Pro...</td>\n",
       "      <td>Guayra    1800 - U$D 153.000 - Tipo casa PH en...</td>\n",
       "      <td>153000</td>\n",
       "      <td>63</td>\n",
       "      <td>63</td>\n",
       "      <td>1.0</td>\n",
       "      <td>1</td>\n",
       "      <td>0.0</td>\n",
       "      <td>NUÑEZ</td>\n",
       "      <td>13</td>\n",
       "    </tr>\n",
       "    <tr>\n",
       "      <th>28</th>\n",
       "      <td>6073</td>\n",
       "      <td>house</td>\n",
       "      <td>-34.623.331</td>\n",
       "      <td>-585.044.576</td>\n",
       "      <td>Ciudad:Capital fe-Zona:Buena-Asfalto-Informaci...</td>\n",
       "      <td>Cap J G Bermudez    1600 - U$D 75.000 - Tipo c...</td>\n",
       "      <td>75000</td>\n",
       "      <td>66</td>\n",
       "      <td>66</td>\n",
       "      <td>2.0</td>\n",
       "      <td>2</td>\n",
       "      <td>0.0</td>\n",
       "      <td>MONTE CASTRO</td>\n",
       "      <td>10</td>\n",
       "    </tr>\n",
       "    <tr>\n",
       "      <th>63</th>\n",
       "      <td>5815</td>\n",
       "      <td>house</td>\n",
       "      <td>-346.476.198.967</td>\n",
       "      <td>-585.104.939.923</td>\n",
       "      <td>Corredor Responsable: Marcelo Trujillo - CUCIC...</td>\n",
       "      <td>HERMOSA CASA EN LA MEJOR ZONA DE LINIERS.|.HOUSE</td>\n",
       "      <td>340000</td>\n",
       "      <td>323</td>\n",
       "      <td>147</td>\n",
       "      <td>0.0</td>\n",
       "      <td>4</td>\n",
       "      <td>0.0</td>\n",
       "      <td>LINIERS</td>\n",
       "      <td>9</td>\n",
       "    </tr>\n",
       "    <tr>\n",
       "      <th>67</th>\n",
       "      <td>911</td>\n",
       "      <td>house</td>\n",
       "      <td>-34.549.591</td>\n",
       "      <td>-58.448.598</td>\n",
       "      <td>Corredor Responsable: Raul Hector Merlo - CUCI...</td>\n",
       "      <td>Casa barrio River a reciclar.|.HOUSE</td>\n",
       "      <td>420000</td>\n",
       "      <td>210</td>\n",
       "      <td>210</td>\n",
       "      <td>0.0</td>\n",
       "      <td>5</td>\n",
       "      <td>0.0</td>\n",
       "      <td>BELGRANO</td>\n",
       "      <td>13</td>\n",
       "    </tr>\n",
       "    <tr>\n",
       "      <th>...</th>\n",
       "      <td>...</td>\n",
       "      <td>...</td>\n",
       "      <td>...</td>\n",
       "      <td>...</td>\n",
       "      <td>...</td>\n",
       "      <td>...</td>\n",
       "      <td>...</td>\n",
       "      <td>...</td>\n",
       "      <td>...</td>\n",
       "      <td>...</td>\n",
       "      <td>...</td>\n",
       "      <td>...</td>\n",
       "      <td>...</td>\n",
       "      <td>...</td>\n",
       "    </tr>\n",
       "    <tr>\n",
       "      <th>10562</th>\n",
       "      <td>431</td>\n",
       "      <td>apartment</td>\n",
       "      <td>-34.556.834</td>\n",
       "      <td>-5.845.995.500.000.000</td>\n",
       "      <td>Corredor Responsable: Marcelo Trujillo - CUCIC...</td>\n",
       "      <td>MONOAMBIENTE A ESTRENAR AL FRENTE CON BALCON.|...</td>\n",
       "      <td>112900</td>\n",
       "      <td>39</td>\n",
       "      <td>36</td>\n",
       "      <td>1.0</td>\n",
       "      <td>1</td>\n",
       "      <td>NaN</td>\n",
       "      <td>BELGRANO</td>\n",
       "      <td>13</td>\n",
       "    </tr>\n",
       "    <tr>\n",
       "      <th>10563</th>\n",
       "      <td>5580</td>\n",
       "      <td>apartment</td>\n",
       "      <td>-3.460.287.476</td>\n",
       "      <td>-5.841.070.938</td>\n",
       "      <td>Ciudad:Capital fe-Zona:Residencial-Asfalto-Osn...</td>\n",
       "      <td>Bolivia    4694 - U$D 168.000 - Departamento e...</td>\n",
       "      <td>168000</td>\n",
       "      <td>73</td>\n",
       "      <td>62</td>\n",
       "      <td>10.0</td>\n",
       "      <td>2</td>\n",
       "      <td>NaN</td>\n",
       "      <td>BALVANERA</td>\n",
       "      <td>3</td>\n",
       "    </tr>\n",
       "    <tr>\n",
       "      <th>10564</th>\n",
       "      <td>7470</td>\n",
       "      <td>apartment</td>\n",
       "      <td>-3.460.404.260.000.000</td>\n",
       "      <td>-58.383.418.500.000.000</td>\n",
       "      <td>VENTA MONAMBIENTE A LATERAL.MUY  LUMINOSIDAD.C...</td>\n",
       "      <td>AV. CORRIENTES 1100 10º.|.APARTMENT</td>\n",
       "      <td>70000</td>\n",
       "      <td>23</td>\n",
       "      <td>23</td>\n",
       "      <td>0.0</td>\n",
       "      <td>1</td>\n",
       "      <td>1400.0</td>\n",
       "      <td>SAN NICOLAS</td>\n",
       "      <td>1</td>\n",
       "    </tr>\n",
       "    <tr>\n",
       "      <th>10565</th>\n",
       "      <td>5323</td>\n",
       "      <td>apartment</td>\n",
       "      <td>-346.150.319.346</td>\n",
       "      <td>-584.047.450.392</td>\n",
       "      <td>- Hermoso monoambiente en 9° piso. - Superfici...</td>\n",
       "      <td>Venta. Monoambiente en piso alto. 32 mtrs². Sa...</td>\n",
       "      <td>73900</td>\n",
       "      <td>32</td>\n",
       "      <td>32</td>\n",
       "      <td>0.0</td>\n",
       "      <td>1</td>\n",
       "      <td>NaN</td>\n",
       "      <td>BALVANERA</td>\n",
       "      <td>3</td>\n",
       "    </tr>\n",
       "    <tr>\n",
       "      <th>10566</th>\n",
       "      <td>2310</td>\n",
       "      <td>apartment</td>\n",
       "      <td>-345.730.512</td>\n",
       "      <td>-584.210.702</td>\n",
       "      <td>DEPARTAMENTO DUPLEX  DE 7 AMBIENTES CON  TERRA...</td>\n",
       "      <td>Departamento - Palermo.|.APARTMENT</td>\n",
       "      <td>690000</td>\n",
       "      <td>557</td>\n",
       "      <td>375</td>\n",
       "      <td>0.0</td>\n",
       "      <td>7</td>\n",
       "      <td>26000.0</td>\n",
       "      <td>PALERMO</td>\n",
       "      <td>14</td>\n",
       "    </tr>\n",
       "  </tbody>\n",
       "</table>\n",
       "<p>10567 rows × 14 columns</p>\n",
       "</div>"
      ],
      "text/plain": [
       "          ID property_type                     lat                      lon  \\\n",
       "10     10108         house            -346.474.215  -58.495.243.200.000.000   \n",
       "22      4792         house          -3.454.950.333           -5.845.836.639   \n",
       "28      6073         house             -34.623.331             -585.044.576   \n",
       "63      5815         house        -346.476.198.967         -585.104.939.923   \n",
       "67       911         house             -34.549.591              -58.448.598   \n",
       "...      ...           ...                     ...                      ...   \n",
       "10562    431     apartment             -34.556.834   -5.845.995.500.000.000   \n",
       "10563   5580     apartment          -3.460.287.476           -5.841.070.938   \n",
       "10564   7470     apartment  -3.460.404.260.000.000  -58.383.418.500.000.000   \n",
       "10565   5323     apartment        -346.150.319.346         -584.047.450.392   \n",
       "10566   2310     apartment            -345.730.512             -584.210.702   \n",
       "\n",
       "                                             description  \\\n",
       "10     Se ingresa a un living comedor de 4,70 x 4 con...   \n",
       "22     Ciudad:Capital fe-Zona:Residencial-Asfalto-Pro...   \n",
       "28     Ciudad:Capital fe-Zona:Buena-Asfalto-Informaci...   \n",
       "63     Corredor Responsable: Marcelo Trujillo - CUCIC...   \n",
       "67     Corredor Responsable: Raul Hector Merlo - CUCI...   \n",
       "...                                                  ...   \n",
       "10562  Corredor Responsable: Marcelo Trujillo - CUCIC...   \n",
       "10563  Ciudad:Capital fe-Zona:Residencial-Asfalto-Osn...   \n",
       "10564  VENTA MONAMBIENTE A LATERAL.MUY  LUMINOSIDAD.C...   \n",
       "10565  - Hermoso monoambiente en 9° piso. - Superfici...   \n",
       "10566  DEPARTAMENTO DUPLEX  DE 7 AMBIENTES CON  TERRA...   \n",
       "\n",
       "                                                   title  price_usd  \\\n",
       "10                              Casa - Mataderos.|.HOUSE     180000   \n",
       "22     Guayra    1800 - U$D 153.000 - Tipo casa PH en...     153000   \n",
       "28     Cap J G Bermudez    1600 - U$D 75.000 - Tipo c...      75000   \n",
       "63      HERMOSA CASA EN LA MEJOR ZONA DE LINIERS.|.HOUSE     340000   \n",
       "67                  Casa barrio River a reciclar.|.HOUSE     420000   \n",
       "...                                                  ...        ...   \n",
       "10562  MONOAMBIENTE A ESTRENAR AL FRENTE CON BALCON.|...     112900   \n",
       "10563  Bolivia    4694 - U$D 168.000 - Departamento e...     168000   \n",
       "10564                AV. CORRIENTES 1100 10º.|.APARTMENT      70000   \n",
       "10565  Venta. Monoambiente en piso alto. 32 mtrs². Sa...      73900   \n",
       "10566                 Departamento - Palermo.|.APARTMENT     690000   \n",
       "\n",
       "       surface_total  surface_covered  floor  rooms  expenses        barrio  \\\n",
       "10               100              100    0.0      3       0.0     MATADEROS   \n",
       "22                63               63    1.0      1       0.0         NUÑEZ   \n",
       "28                66               66    2.0      2       0.0  MONTE CASTRO   \n",
       "63               323              147    0.0      4       0.0       LINIERS   \n",
       "67               210              210    0.0      5       0.0      BELGRANO   \n",
       "...              ...              ...    ...    ...       ...           ...   \n",
       "10562             39               36    1.0      1       NaN      BELGRANO   \n",
       "10563             73               62   10.0      2       NaN     BALVANERA   \n",
       "10564             23               23    0.0      1    1400.0   SAN NICOLAS   \n",
       "10565             32               32    0.0      1       NaN     BALVANERA   \n",
       "10566            557              375    0.0      7   26000.0       PALERMO   \n",
       "\n",
       "       comuna  \n",
       "10          9  \n",
       "22         13  \n",
       "28         10  \n",
       "63          9  \n",
       "67         13  \n",
       "...       ...  \n",
       "10562      13  \n",
       "10563       3  \n",
       "10564       1  \n",
       "10565       3  \n",
       "10566      14  \n",
       "\n",
       "[10567 rows x 14 columns]"
      ]
     },
     "execution_count": 74,
     "metadata": {},
     "output_type": "execute_result"
    }
   ],
   "source": [
    "propiedades_caba_prov"
   ]
  },
  {
   "cell_type": "code",
   "execution_count": 75,
   "id": "31777067",
   "metadata": {
    "scrolled": true
   },
   "outputs": [
    {
     "data": {
      "text/plain": [
       "ID                    0\n",
       "property_type         0\n",
       "lat                   0\n",
       "lon                   0\n",
       "description           0\n",
       "title                 0\n",
       "price_usd             0\n",
       "surface_total         0\n",
       "surface_covered       0\n",
       "floor                 0\n",
       "rooms                 0\n",
       "expenses           7240\n",
       "barrio                0\n",
       "comuna                0\n",
       "dtype: int64"
      ]
     },
     "execution_count": 75,
     "metadata": {},
     "output_type": "execute_result"
    }
   ],
   "source": [
    "propiedades_caba_prov.isna().sum()"
   ]
  },
  {
   "cell_type": "code",
   "execution_count": 76,
   "id": "2add465a",
   "metadata": {},
   "outputs": [
    {
     "data": {
      "text/plain": [
       "(10567, 14)"
      ]
     },
     "execution_count": 76,
     "metadata": {},
     "output_type": "execute_result"
    }
   ],
   "source": [
    "propiedades_caba_prov.shape"
   ]
  },
  {
   "cell_type": "markdown",
   "id": "ad8f103f",
   "metadata": {},
   "source": [
    "**3. Imputamos los valores faltantes de la variable expenses con KNNImputer**\n"
   ]
  },
  {
   "cell_type": "markdown",
   "id": "f9775143",
   "metadata": {},
   "source": [
    "K-Nearest Neighbor es un algoritmo muy utilizado para una clasificación simple. El algoritmo utiliza \"similitud de características\" para predecir los valores de cualquier nuevo punto de datos. Esto significa que al nuevo punto se le asigna un valor en función de su parecido con los puntos del conjunto de entrenamiento."
   ]
  },
  {
   "cell_type": "markdown",
   "id": "8d6b2cb5",
   "metadata": {},
   "source": [
    "**4. Transformamos las columnas categóricas de interés: ENCODING**"
   ]
  },
  {
   "cell_type": "markdown",
   "id": "51ffb1e0",
   "metadata": {},
   "source": [
    "Previo a imputar los valores faltantes, vamos a transformar en números la variable categórica que nos interesa para luego utilizarla en la imputación."
   ]
  },
  {
   "cell_type": "code",
   "execution_count": 77,
   "id": "029eef48",
   "metadata": {},
   "outputs": [
    {
     "data": {
      "text/plain": [
       "PALERMO              1693\n",
       "RECOLETA             1145\n",
       "BELGRANO              784\n",
       "BALVANERA             578\n",
       "CABALLITO             551\n",
       "ALMAGRO               448\n",
       "FLORES                442\n",
       "RETIRO                409\n",
       "VILLA CRESPO          386\n",
       "VILLA URQUIZA         339\n",
       "NUÑEZ                 297\n",
       "SAN NICOLAS           278\n",
       "COLEGIALES            208\n",
       "VILLA DEVOTO          201\n",
       "MONSERRAT             200\n",
       "PUERTO MADERO         190\n",
       "SAAVEDRA              174\n",
       "CONSTITUCION          133\n",
       "BARRACAS              129\n",
       "VILLA DEL PARQUE      124\n",
       "LINIERS               119\n",
       "SAN CRISTOBAL         104\n",
       "MONTE CASTRO           98\n",
       "FLORESTA               97\n",
       "SAN TELMO              96\n",
       "CHACARITA              86\n",
       "VILLA PUEYRREDON       86\n",
       "COGHLAN                84\n",
       "VILLA GRAL. MITRE      84\n",
       "PARQUE CHACABUCO       84\n",
       "VILLA ORTUZAR          82\n",
       "BOCA                   76\n",
       "VELEZ SARSFIELD        73\n",
       "MATADEROS              71\n",
       "BOEDO                  66\n",
       "PARQUE CHAS            64\n",
       "VILLA LURO             64\n",
       "PARQUE PATRICIOS       64\n",
       "VILLA LUGANO           61\n",
       "PATERNAL               53\n",
       "VILLA SANTA RITA       53\n",
       "VERSALLES              49\n",
       "NUEVA POMPEYA          35\n",
       "AGRONOMIA              34\n",
       "PARQUE AVELLANEDA      34\n",
       "VILLA REAL             25\n",
       "VILLA SOLDATI          10\n",
       "VILLA RIACHUELO         6\n",
       "Name: barrio, dtype: int64"
      ]
     },
     "execution_count": 77,
     "metadata": {},
     "output_type": "execute_result"
    }
   ],
   "source": [
    "# Variable que vamos a codificar = barrio\n",
    "propiedades_caba_prov['barrio'].value_counts()"
   ]
  },
  {
   "cell_type": "code",
   "execution_count": 78,
   "id": "6abdf966",
   "metadata": {},
   "outputs": [],
   "source": [
    "# Creamos una funcion que va recibir 2 variables, la primera es un dataset y la segunda el nombre de la columna que voy a transformar\n",
    "\n",
    "def oneHotEncoder (df, columna):\n",
    "    temp = pd.get_dummies(df[columna], prefix = columna)\n",
    "    df = df.drop(columna, axis=\"columns\")\n",
    "    df = pd.concat([df, temp], axis=\"columns\")\n",
    "    return df"
   ]
  },
  {
   "cell_type": "code",
   "execution_count": 79,
   "id": "f452cb75",
   "metadata": {},
   "outputs": [],
   "source": [
    "# aplico la funcion  de encoding al dataset  y a la columna barrio\n",
    "\n",
    "prop_caba_final_onehot=oneHotEncoder(propiedades_caba_prov,'barrio')"
   ]
  },
  {
   "cell_type": "code",
   "execution_count": 80,
   "id": "8c8bebad",
   "metadata": {},
   "outputs": [
    {
     "data": {
      "text/plain": [
       "Index(['ID', 'property_type', 'lat', 'lon', 'description', 'title',\n",
       "       'price_usd', 'surface_total', 'surface_covered', 'floor', 'rooms',\n",
       "       'expenses', 'comuna', 'barrio_AGRONOMIA', 'barrio_ALMAGRO',\n",
       "       'barrio_BALVANERA', 'barrio_BARRACAS', 'barrio_BELGRANO', 'barrio_BOCA',\n",
       "       'barrio_BOEDO', 'barrio_CABALLITO', 'barrio_CHACARITA',\n",
       "       'barrio_COGHLAN', 'barrio_COLEGIALES', 'barrio_CONSTITUCION',\n",
       "       'barrio_FLORES', 'barrio_FLORESTA', 'barrio_LINIERS',\n",
       "       'barrio_MATADEROS', 'barrio_MONSERRAT', 'barrio_MONTE CASTRO',\n",
       "       'barrio_NUEVA POMPEYA', 'barrio_NUÑEZ', 'barrio_PALERMO',\n",
       "       'barrio_PARQUE AVELLANEDA', 'barrio_PARQUE CHACABUCO',\n",
       "       'barrio_PARQUE CHAS', 'barrio_PARQUE PATRICIOS', 'barrio_PATERNAL',\n",
       "       'barrio_PUERTO MADERO', 'barrio_RECOLETA', 'barrio_RETIRO',\n",
       "       'barrio_SAAVEDRA', 'barrio_SAN CRISTOBAL', 'barrio_SAN NICOLAS',\n",
       "       'barrio_SAN TELMO', 'barrio_VELEZ SARSFIELD', 'barrio_VERSALLES',\n",
       "       'barrio_VILLA CRESPO', 'barrio_VILLA DEL PARQUE', 'barrio_VILLA DEVOTO',\n",
       "       'barrio_VILLA GRAL. MITRE', 'barrio_VILLA LUGANO', 'barrio_VILLA LURO',\n",
       "       'barrio_VILLA ORTUZAR', 'barrio_VILLA PUEYRREDON', 'barrio_VILLA REAL',\n",
       "       'barrio_VILLA RIACHUELO', 'barrio_VILLA SANTA RITA',\n",
       "       'barrio_VILLA SOLDATI', 'barrio_VILLA URQUIZA'],\n",
       "      dtype='object')"
      ]
     },
     "execution_count": 80,
     "metadata": {},
     "output_type": "execute_result"
    }
   ],
   "source": [
    "prop_caba_final_onehot.columns"
   ]
  },
  {
   "cell_type": "code",
   "execution_count": 81,
   "id": "d8074ccf",
   "metadata": {},
   "outputs": [],
   "source": [
    "# Cambio el índice, para que sea el ID\n",
    "prop_caba_final_onehot.set_index('ID', inplace = True)"
   ]
  },
  {
   "cell_type": "code",
   "execution_count": 82,
   "id": "7f3b2c26",
   "metadata": {},
   "outputs": [
    {
     "data": {
      "text/plain": [
       "Index(['ID', 'property_type', 'lat', 'lon', 'description', 'title',\n",
       "       'price_usd', 'surface_total', 'surface_covered', 'floor', 'rooms',\n",
       "       'expenses', 'barrio', 'comuna'],\n",
       "      dtype='object')"
      ]
     },
     "execution_count": 82,
     "metadata": {},
     "output_type": "execute_result"
    }
   ],
   "source": [
    "propiedades_caba_prov.columns"
   ]
  },
  {
   "cell_type": "code",
   "execution_count": 83,
   "id": "a4bea101",
   "metadata": {},
   "outputs": [],
   "source": [
    "col_drop = propiedades_caba_prov[['ID', 'property_type', 'lat', 'lon', 'description', 'title','barrio']]\n"
   ]
  },
  {
   "cell_type": "code",
   "execution_count": 84,
   "id": "0ca68b1b",
   "metadata": {},
   "outputs": [
    {
     "data": {
      "text/html": [
       "<div>\n",
       "<style scoped>\n",
       "    .dataframe tbody tr th:only-of-type {\n",
       "        vertical-align: middle;\n",
       "    }\n",
       "\n",
       "    .dataframe tbody tr th {\n",
       "        vertical-align: top;\n",
       "    }\n",
       "\n",
       "    .dataframe thead th {\n",
       "        text-align: right;\n",
       "    }\n",
       "</style>\n",
       "<table border=\"1\" class=\"dataframe\">\n",
       "  <thead>\n",
       "    <tr style=\"text-align: right;\">\n",
       "      <th></th>\n",
       "      <th>ID</th>\n",
       "      <th>property_type</th>\n",
       "      <th>lat</th>\n",
       "      <th>lon</th>\n",
       "      <th>description</th>\n",
       "      <th>title</th>\n",
       "      <th>price_usd</th>\n",
       "      <th>surface_total</th>\n",
       "      <th>surface_covered</th>\n",
       "      <th>floor</th>\n",
       "      <th>rooms</th>\n",
       "      <th>expenses</th>\n",
       "      <th>barrio</th>\n",
       "      <th>comuna</th>\n",
       "    </tr>\n",
       "  </thead>\n",
       "  <tbody>\n",
       "    <tr>\n",
       "      <th>10</th>\n",
       "      <td>10108</td>\n",
       "      <td>house</td>\n",
       "      <td>-346.474.215</td>\n",
       "      <td>-58.495.243.200.000.000</td>\n",
       "      <td>Se ingresa a un living comedor de 4,70 x 4 con...</td>\n",
       "      <td>Casa - Mataderos.|.HOUSE</td>\n",
       "      <td>180000</td>\n",
       "      <td>100</td>\n",
       "      <td>100</td>\n",
       "      <td>0.0</td>\n",
       "      <td>3</td>\n",
       "      <td>0.0</td>\n",
       "      <td>MATADEROS</td>\n",
       "      <td>9</td>\n",
       "    </tr>\n",
       "    <tr>\n",
       "      <th>22</th>\n",
       "      <td>4792</td>\n",
       "      <td>house</td>\n",
       "      <td>-3.454.950.333</td>\n",
       "      <td>-5.845.836.639</td>\n",
       "      <td>Ciudad:Capital fe-Zona:Residencial-Asfalto-Pro...</td>\n",
       "      <td>Guayra    1800 - U$D 153.000 - Tipo casa PH en...</td>\n",
       "      <td>153000</td>\n",
       "      <td>63</td>\n",
       "      <td>63</td>\n",
       "      <td>1.0</td>\n",
       "      <td>1</td>\n",
       "      <td>0.0</td>\n",
       "      <td>NUÑEZ</td>\n",
       "      <td>13</td>\n",
       "    </tr>\n",
       "    <tr>\n",
       "      <th>28</th>\n",
       "      <td>6073</td>\n",
       "      <td>house</td>\n",
       "      <td>-34.623.331</td>\n",
       "      <td>-585.044.576</td>\n",
       "      <td>Ciudad:Capital fe-Zona:Buena-Asfalto-Informaci...</td>\n",
       "      <td>Cap J G Bermudez    1600 - U$D 75.000 - Tipo c...</td>\n",
       "      <td>75000</td>\n",
       "      <td>66</td>\n",
       "      <td>66</td>\n",
       "      <td>2.0</td>\n",
       "      <td>2</td>\n",
       "      <td>0.0</td>\n",
       "      <td>MONTE CASTRO</td>\n",
       "      <td>10</td>\n",
       "    </tr>\n",
       "    <tr>\n",
       "      <th>63</th>\n",
       "      <td>5815</td>\n",
       "      <td>house</td>\n",
       "      <td>-346.476.198.967</td>\n",
       "      <td>-585.104.939.923</td>\n",
       "      <td>Corredor Responsable: Marcelo Trujillo - CUCIC...</td>\n",
       "      <td>HERMOSA CASA EN LA MEJOR ZONA DE LINIERS.|.HOUSE</td>\n",
       "      <td>340000</td>\n",
       "      <td>323</td>\n",
       "      <td>147</td>\n",
       "      <td>0.0</td>\n",
       "      <td>4</td>\n",
       "      <td>0.0</td>\n",
       "      <td>LINIERS</td>\n",
       "      <td>9</td>\n",
       "    </tr>\n",
       "    <tr>\n",
       "      <th>67</th>\n",
       "      <td>911</td>\n",
       "      <td>house</td>\n",
       "      <td>-34.549.591</td>\n",
       "      <td>-58.448.598</td>\n",
       "      <td>Corredor Responsable: Raul Hector Merlo - CUCI...</td>\n",
       "      <td>Casa barrio River a reciclar.|.HOUSE</td>\n",
       "      <td>420000</td>\n",
       "      <td>210</td>\n",
       "      <td>210</td>\n",
       "      <td>0.0</td>\n",
       "      <td>5</td>\n",
       "      <td>0.0</td>\n",
       "      <td>BELGRANO</td>\n",
       "      <td>13</td>\n",
       "    </tr>\n",
       "  </tbody>\n",
       "</table>\n",
       "</div>"
      ],
      "text/plain": [
       "       ID property_type               lat                      lon  \\\n",
       "10  10108         house      -346.474.215  -58.495.243.200.000.000   \n",
       "22   4792         house    -3.454.950.333           -5.845.836.639   \n",
       "28   6073         house       -34.623.331             -585.044.576   \n",
       "63   5815         house  -346.476.198.967         -585.104.939.923   \n",
       "67    911         house       -34.549.591              -58.448.598   \n",
       "\n",
       "                                          description  \\\n",
       "10  Se ingresa a un living comedor de 4,70 x 4 con...   \n",
       "22  Ciudad:Capital fe-Zona:Residencial-Asfalto-Pro...   \n",
       "28  Ciudad:Capital fe-Zona:Buena-Asfalto-Informaci...   \n",
       "63  Corredor Responsable: Marcelo Trujillo - CUCIC...   \n",
       "67  Corredor Responsable: Raul Hector Merlo - CUCI...   \n",
       "\n",
       "                                                title  price_usd  \\\n",
       "10                           Casa - Mataderos.|.HOUSE     180000   \n",
       "22  Guayra    1800 - U$D 153.000 - Tipo casa PH en...     153000   \n",
       "28  Cap J G Bermudez    1600 - U$D 75.000 - Tipo c...      75000   \n",
       "63   HERMOSA CASA EN LA MEJOR ZONA DE LINIERS.|.HOUSE     340000   \n",
       "67               Casa barrio River a reciclar.|.HOUSE     420000   \n",
       "\n",
       "    surface_total  surface_covered  floor  rooms  expenses        barrio  \\\n",
       "10            100              100    0.0      3       0.0     MATADEROS   \n",
       "22             63               63    1.0      1       0.0         NUÑEZ   \n",
       "28             66               66    2.0      2       0.0  MONTE CASTRO   \n",
       "63            323              147    0.0      4       0.0       LINIERS   \n",
       "67            210              210    0.0      5       0.0      BELGRANO   \n",
       "\n",
       "    comuna  \n",
       "10       9  \n",
       "22      13  \n",
       "28      10  \n",
       "63       9  \n",
       "67      13  "
      ]
     },
     "execution_count": 84,
     "metadata": {},
     "output_type": "execute_result"
    }
   ],
   "source": [
    "propiedades_caba_prov.head()"
   ]
  },
  {
   "cell_type": "code",
   "execution_count": 85,
   "id": "ee63d804",
   "metadata": {},
   "outputs": [],
   "source": [
    "# Eliminamos la columnas que no se van a utilizar en la imputación\n",
    "prop_caba_knn = prop_caba_final_onehot.drop(columns=['property_type', 'lat', 'lon', 'description', 'title'])"
   ]
  },
  {
   "cell_type": "code",
   "execution_count": 86,
   "id": "507b576a",
   "metadata": {},
   "outputs": [],
   "source": [
    "# Imputamos los valores faltantes con KNN\n",
    "imputer = KNNImputer(n_neighbors=2, weights=\"uniform\")\n",
    "prop_caba_knn = pd.DataFrame(imputer.fit_transform(prop_caba_knn),columns=prop_caba_knn.columns)\n"
   ]
  },
  {
   "cell_type": "code",
   "execution_count": 87,
   "id": "897c85b6",
   "metadata": {
    "scrolled": true
   },
   "outputs": [
    {
     "data": {
      "text/html": [
       "<div>\n",
       "<style scoped>\n",
       "    .dataframe tbody tr th:only-of-type {\n",
       "        vertical-align: middle;\n",
       "    }\n",
       "\n",
       "    .dataframe tbody tr th {\n",
       "        vertical-align: top;\n",
       "    }\n",
       "\n",
       "    .dataframe thead th {\n",
       "        text-align: right;\n",
       "    }\n",
       "</style>\n",
       "<table border=\"1\" class=\"dataframe\">\n",
       "  <thead>\n",
       "    <tr style=\"text-align: right;\">\n",
       "      <th></th>\n",
       "      <th>price_usd</th>\n",
       "      <th>surface_total</th>\n",
       "      <th>surface_covered</th>\n",
       "      <th>floor</th>\n",
       "      <th>rooms</th>\n",
       "      <th>expenses</th>\n",
       "      <th>comuna</th>\n",
       "      <th>barrio_AGRONOMIA</th>\n",
       "      <th>barrio_ALMAGRO</th>\n",
       "      <th>barrio_BALVANERA</th>\n",
       "      <th>...</th>\n",
       "      <th>barrio_VILLA GRAL. MITRE</th>\n",
       "      <th>barrio_VILLA LUGANO</th>\n",
       "      <th>barrio_VILLA LURO</th>\n",
       "      <th>barrio_VILLA ORTUZAR</th>\n",
       "      <th>barrio_VILLA PUEYRREDON</th>\n",
       "      <th>barrio_VILLA REAL</th>\n",
       "      <th>barrio_VILLA RIACHUELO</th>\n",
       "      <th>barrio_VILLA SANTA RITA</th>\n",
       "      <th>barrio_VILLA SOLDATI</th>\n",
       "      <th>barrio_VILLA URQUIZA</th>\n",
       "    </tr>\n",
       "  </thead>\n",
       "  <tbody>\n",
       "    <tr>\n",
       "      <th>0</th>\n",
       "      <td>180000.0</td>\n",
       "      <td>100.0</td>\n",
       "      <td>100.0</td>\n",
       "      <td>0.0</td>\n",
       "      <td>3.0</td>\n",
       "      <td>0.0</td>\n",
       "      <td>9.0</td>\n",
       "      <td>0.0</td>\n",
       "      <td>0.0</td>\n",
       "      <td>0.0</td>\n",
       "      <td>...</td>\n",
       "      <td>0.0</td>\n",
       "      <td>0.0</td>\n",
       "      <td>0.0</td>\n",
       "      <td>0.0</td>\n",
       "      <td>0.0</td>\n",
       "      <td>0.0</td>\n",
       "      <td>0.0</td>\n",
       "      <td>0.0</td>\n",
       "      <td>0.0</td>\n",
       "      <td>0.0</td>\n",
       "    </tr>\n",
       "    <tr>\n",
       "      <th>1</th>\n",
       "      <td>153000.0</td>\n",
       "      <td>63.0</td>\n",
       "      <td>63.0</td>\n",
       "      <td>1.0</td>\n",
       "      <td>1.0</td>\n",
       "      <td>0.0</td>\n",
       "      <td>13.0</td>\n",
       "      <td>0.0</td>\n",
       "      <td>0.0</td>\n",
       "      <td>0.0</td>\n",
       "      <td>...</td>\n",
       "      <td>0.0</td>\n",
       "      <td>0.0</td>\n",
       "      <td>0.0</td>\n",
       "      <td>0.0</td>\n",
       "      <td>0.0</td>\n",
       "      <td>0.0</td>\n",
       "      <td>0.0</td>\n",
       "      <td>0.0</td>\n",
       "      <td>0.0</td>\n",
       "      <td>0.0</td>\n",
       "    </tr>\n",
       "    <tr>\n",
       "      <th>2</th>\n",
       "      <td>75000.0</td>\n",
       "      <td>66.0</td>\n",
       "      <td>66.0</td>\n",
       "      <td>2.0</td>\n",
       "      <td>2.0</td>\n",
       "      <td>0.0</td>\n",
       "      <td>10.0</td>\n",
       "      <td>0.0</td>\n",
       "      <td>0.0</td>\n",
       "      <td>0.0</td>\n",
       "      <td>...</td>\n",
       "      <td>0.0</td>\n",
       "      <td>0.0</td>\n",
       "      <td>0.0</td>\n",
       "      <td>0.0</td>\n",
       "      <td>0.0</td>\n",
       "      <td>0.0</td>\n",
       "      <td>0.0</td>\n",
       "      <td>0.0</td>\n",
       "      <td>0.0</td>\n",
       "      <td>0.0</td>\n",
       "    </tr>\n",
       "  </tbody>\n",
       "</table>\n",
       "<p>3 rows × 55 columns</p>\n",
       "</div>"
      ],
      "text/plain": [
       "   price_usd  surface_total  surface_covered  floor  rooms  expenses  comuna  \\\n",
       "0   180000.0          100.0            100.0    0.0    3.0       0.0     9.0   \n",
       "1   153000.0           63.0             63.0    1.0    1.0       0.0    13.0   \n",
       "2    75000.0           66.0             66.0    2.0    2.0       0.0    10.0   \n",
       "\n",
       "   barrio_AGRONOMIA  barrio_ALMAGRO  barrio_BALVANERA  ...  \\\n",
       "0               0.0             0.0               0.0  ...   \n",
       "1               0.0             0.0               0.0  ...   \n",
       "2               0.0             0.0               0.0  ...   \n",
       "\n",
       "   barrio_VILLA GRAL. MITRE  barrio_VILLA LUGANO  barrio_VILLA LURO  \\\n",
       "0                       0.0                  0.0                0.0   \n",
       "1                       0.0                  0.0                0.0   \n",
       "2                       0.0                  0.0                0.0   \n",
       "\n",
       "   barrio_VILLA ORTUZAR  barrio_VILLA PUEYRREDON  barrio_VILLA REAL  \\\n",
       "0                   0.0                      0.0                0.0   \n",
       "1                   0.0                      0.0                0.0   \n",
       "2                   0.0                      0.0                0.0   \n",
       "\n",
       "   barrio_VILLA RIACHUELO  barrio_VILLA SANTA RITA  barrio_VILLA SOLDATI  \\\n",
       "0                     0.0                      0.0                   0.0   \n",
       "1                     0.0                      0.0                   0.0   \n",
       "2                     0.0                      0.0                   0.0   \n",
       "\n",
       "   barrio_VILLA URQUIZA  \n",
       "0                   0.0  \n",
       "1                   0.0  \n",
       "2                   0.0  \n",
       "\n",
       "[3 rows x 55 columns]"
      ]
     },
     "execution_count": 87,
     "metadata": {},
     "output_type": "execute_result"
    }
   ],
   "source": [
    "prop_caba_knn.head(3)"
   ]
  },
  {
   "cell_type": "markdown",
   "id": "af8728f9",
   "metadata": {},
   "source": [
    "**5. Concatenamos el dataset numérico imputado, y el de los datos categóricos, poara obtener el dataset final**"
   ]
  },
  {
   "cell_type": "code",
   "execution_count": 88,
   "id": "78e1394c",
   "metadata": {},
   "outputs": [],
   "source": [
    "propiedades_caba_final = pd.concat([col_drop, prop_caba_knn], axis=1)"
   ]
  },
  {
   "cell_type": "code",
   "execution_count": 89,
   "id": "38cac014",
   "metadata": {},
   "outputs": [
    {
     "data": {
      "text/html": [
       "<div>\n",
       "<style scoped>\n",
       "    .dataframe tbody tr th:only-of-type {\n",
       "        vertical-align: middle;\n",
       "    }\n",
       "\n",
       "    .dataframe tbody tr th {\n",
       "        vertical-align: top;\n",
       "    }\n",
       "\n",
       "    .dataframe thead th {\n",
       "        text-align: right;\n",
       "    }\n",
       "</style>\n",
       "<table border=\"1\" class=\"dataframe\">\n",
       "  <thead>\n",
       "    <tr style=\"text-align: right;\">\n",
       "      <th></th>\n",
       "      <th>ID</th>\n",
       "      <th>property_type</th>\n",
       "      <th>lat</th>\n",
       "      <th>lon</th>\n",
       "      <th>description</th>\n",
       "      <th>title</th>\n",
       "      <th>barrio</th>\n",
       "      <th>price_usd</th>\n",
       "      <th>surface_total</th>\n",
       "      <th>surface_covered</th>\n",
       "      <th>...</th>\n",
       "      <th>barrio_VILLA GRAL. MITRE</th>\n",
       "      <th>barrio_VILLA LUGANO</th>\n",
       "      <th>barrio_VILLA LURO</th>\n",
       "      <th>barrio_VILLA ORTUZAR</th>\n",
       "      <th>barrio_VILLA PUEYRREDON</th>\n",
       "      <th>barrio_VILLA REAL</th>\n",
       "      <th>barrio_VILLA RIACHUELO</th>\n",
       "      <th>barrio_VILLA SANTA RITA</th>\n",
       "      <th>barrio_VILLA SOLDATI</th>\n",
       "      <th>barrio_VILLA URQUIZA</th>\n",
       "    </tr>\n",
       "  </thead>\n",
       "  <tbody>\n",
       "    <tr>\n",
       "      <th>10</th>\n",
       "      <td>10108</td>\n",
       "      <td>house</td>\n",
       "      <td>-346.474.215</td>\n",
       "      <td>-58.495.243.200.000.000</td>\n",
       "      <td>Se ingresa a un living comedor de 4,70 x 4 con...</td>\n",
       "      <td>Casa - Mataderos.|.HOUSE</td>\n",
       "      <td>MATADEROS</td>\n",
       "      <td>260000.0</td>\n",
       "      <td>150.0</td>\n",
       "      <td>150.0</td>\n",
       "      <td>...</td>\n",
       "      <td>0.0</td>\n",
       "      <td>0.0</td>\n",
       "      <td>0.0</td>\n",
       "      <td>0.0</td>\n",
       "      <td>0.0</td>\n",
       "      <td>0.0</td>\n",
       "      <td>0.0</td>\n",
       "      <td>0.0</td>\n",
       "      <td>0.0</td>\n",
       "      <td>0.0</td>\n",
       "    </tr>\n",
       "    <tr>\n",
       "      <th>22</th>\n",
       "      <td>4792</td>\n",
       "      <td>house</td>\n",
       "      <td>-3.454.950.333</td>\n",
       "      <td>-5.845.836.639</td>\n",
       "      <td>Ciudad:Capital fe-Zona:Residencial-Asfalto-Pro...</td>\n",
       "      <td>Guayra    1800 - U$D 153.000 - Tipo casa PH en...</td>\n",
       "      <td>NUÑEZ</td>\n",
       "      <td>285000.0</td>\n",
       "      <td>215.0</td>\n",
       "      <td>160.0</td>\n",
       "      <td>...</td>\n",
       "      <td>0.0</td>\n",
       "      <td>0.0</td>\n",
       "      <td>0.0</td>\n",
       "      <td>0.0</td>\n",
       "      <td>0.0</td>\n",
       "      <td>0.0</td>\n",
       "      <td>0.0</td>\n",
       "      <td>0.0</td>\n",
       "      <td>0.0</td>\n",
       "      <td>0.0</td>\n",
       "    </tr>\n",
       "    <tr>\n",
       "      <th>28</th>\n",
       "      <td>6073</td>\n",
       "      <td>house</td>\n",
       "      <td>-34.623.331</td>\n",
       "      <td>-585.044.576</td>\n",
       "      <td>Ciudad:Capital fe-Zona:Buena-Asfalto-Informaci...</td>\n",
       "      <td>Cap J G Bermudez    1600 - U$D 75.000 - Tipo c...</td>\n",
       "      <td>MONTE CASTRO</td>\n",
       "      <td>850000.0</td>\n",
       "      <td>456.0</td>\n",
       "      <td>412.0</td>\n",
       "      <td>...</td>\n",
       "      <td>0.0</td>\n",
       "      <td>0.0</td>\n",
       "      <td>0.0</td>\n",
       "      <td>0.0</td>\n",
       "      <td>0.0</td>\n",
       "      <td>0.0</td>\n",
       "      <td>0.0</td>\n",
       "      <td>0.0</td>\n",
       "      <td>0.0</td>\n",
       "      <td>1.0</td>\n",
       "    </tr>\n",
       "  </tbody>\n",
       "</table>\n",
       "<p>3 rows × 62 columns</p>\n",
       "</div>"
      ],
      "text/plain": [
       "       ID property_type             lat                      lon  \\\n",
       "10  10108         house    -346.474.215  -58.495.243.200.000.000   \n",
       "22   4792         house  -3.454.950.333           -5.845.836.639   \n",
       "28   6073         house     -34.623.331             -585.044.576   \n",
       "\n",
       "                                          description  \\\n",
       "10  Se ingresa a un living comedor de 4,70 x 4 con...   \n",
       "22  Ciudad:Capital fe-Zona:Residencial-Asfalto-Pro...   \n",
       "28  Ciudad:Capital fe-Zona:Buena-Asfalto-Informaci...   \n",
       "\n",
       "                                                title        barrio  \\\n",
       "10                           Casa - Mataderos.|.HOUSE     MATADEROS   \n",
       "22  Guayra    1800 - U$D 153.000 - Tipo casa PH en...         NUÑEZ   \n",
       "28  Cap J G Bermudez    1600 - U$D 75.000 - Tipo c...  MONTE CASTRO   \n",
       "\n",
       "    price_usd  surface_total  surface_covered  ...  barrio_VILLA GRAL. MITRE  \\\n",
       "10   260000.0          150.0            150.0  ...                       0.0   \n",
       "22   285000.0          215.0            160.0  ...                       0.0   \n",
       "28   850000.0          456.0            412.0  ...                       0.0   \n",
       "\n",
       "    barrio_VILLA LUGANO  barrio_VILLA LURO  barrio_VILLA ORTUZAR  \\\n",
       "10                  0.0                0.0                   0.0   \n",
       "22                  0.0                0.0                   0.0   \n",
       "28                  0.0                0.0                   0.0   \n",
       "\n",
       "    barrio_VILLA PUEYRREDON  barrio_VILLA REAL  barrio_VILLA RIACHUELO  \\\n",
       "10                      0.0                0.0                     0.0   \n",
       "22                      0.0                0.0                     0.0   \n",
       "28                      0.0                0.0                     0.0   \n",
       "\n",
       "    barrio_VILLA SANTA RITA  barrio_VILLA SOLDATI  barrio_VILLA URQUIZA  \n",
       "10                      0.0                   0.0                   0.0  \n",
       "22                      0.0                   0.0                   0.0  \n",
       "28                      0.0                   0.0                   1.0  \n",
       "\n",
       "[3 rows x 62 columns]"
      ]
     },
     "execution_count": 89,
     "metadata": {},
     "output_type": "execute_result"
    }
   ],
   "source": [
    "propiedades_caba_final.head(3)"
   ]
  },
  {
   "cell_type": "code",
   "execution_count": 90,
   "id": "5867b73f",
   "metadata": {},
   "outputs": [
    {
     "data": {
      "text/plain": [
       "ID                         0\n",
       "property_type              0\n",
       "lat                        0\n",
       "lon                        0\n",
       "description                0\n",
       "                          ..\n",
       "barrio_VILLA REAL          0\n",
       "barrio_VILLA RIACHUELO     0\n",
       "barrio_VILLA SANTA RITA    0\n",
       "barrio_VILLA SOLDATI       0\n",
       "barrio_VILLA URQUIZA       0\n",
       "Length: 62, dtype: int64"
      ]
     },
     "execution_count": 90,
     "metadata": {},
     "output_type": "execute_result"
    }
   ],
   "source": [
    "# Verificamos que no hayan quedado registros nulos\n",
    "propiedades_caba_final.isna().sum()"
   ]
  },
  {
   "cell_type": "code",
   "execution_count": 91,
   "id": "5e925e58",
   "metadata": {
    "scrolled": true
   },
   "outputs": [
    {
     "data": {
      "text/plain": [
       "Index(['ID', 'property_type', 'lat', 'lon', 'description', 'title', 'barrio',\n",
       "       'price_usd', 'surface_total', 'surface_covered', 'floor', 'rooms',\n",
       "       'expenses', 'comuna', 'barrio_AGRONOMIA', 'barrio_ALMAGRO',\n",
       "       'barrio_BALVANERA', 'barrio_BARRACAS', 'barrio_BELGRANO', 'barrio_BOCA',\n",
       "       'barrio_BOEDO', 'barrio_CABALLITO', 'barrio_CHACARITA',\n",
       "       'barrio_COGHLAN', 'barrio_COLEGIALES', 'barrio_CONSTITUCION',\n",
       "       'barrio_FLORES', 'barrio_FLORESTA', 'barrio_LINIERS',\n",
       "       'barrio_MATADEROS', 'barrio_MONSERRAT', 'barrio_MONTE CASTRO',\n",
       "       'barrio_NUEVA POMPEYA', 'barrio_NUÑEZ', 'barrio_PALERMO',\n",
       "       'barrio_PARQUE AVELLANEDA', 'barrio_PARQUE CHACABUCO',\n",
       "       'barrio_PARQUE CHAS', 'barrio_PARQUE PATRICIOS', 'barrio_PATERNAL',\n",
       "       'barrio_PUERTO MADERO', 'barrio_RECOLETA', 'barrio_RETIRO',\n",
       "       'barrio_SAAVEDRA', 'barrio_SAN CRISTOBAL', 'barrio_SAN NICOLAS',\n",
       "       'barrio_SAN TELMO', 'barrio_VELEZ SARSFIELD', 'barrio_VERSALLES',\n",
       "       'barrio_VILLA CRESPO', 'barrio_VILLA DEL PARQUE', 'barrio_VILLA DEVOTO',\n",
       "       'barrio_VILLA GRAL. MITRE', 'barrio_VILLA LUGANO', 'barrio_VILLA LURO',\n",
       "       'barrio_VILLA ORTUZAR', 'barrio_VILLA PUEYRREDON', 'barrio_VILLA REAL',\n",
       "       'barrio_VILLA RIACHUELO', 'barrio_VILLA SANTA RITA',\n",
       "       'barrio_VILLA SOLDATI', 'barrio_VILLA URQUIZA'],\n",
       "      dtype='object')"
      ]
     },
     "execution_count": 91,
     "metadata": {},
     "output_type": "execute_result"
    }
   ],
   "source": [
    "propiedades_caba_final.columns"
   ]
  },
  {
   "cell_type": "code",
   "execution_count": 92,
   "id": "e3b42cb1",
   "metadata": {},
   "outputs": [],
   "source": [
    "# Convertimos a número entero el valor de price_usd\n",
    "propiedades_caba_final['price_usd'] = propiedades_caba_final['price_usd'].astype(int)"
   ]
  },
  {
   "cell_type": "markdown",
   "id": "4d8cd0e5",
   "metadata": {},
   "source": [
    "### Eliminación de outliers\n",
    "Teniendo en cuenta que nuestra variable a predecir es el precio de venta de las propiedades, vamos a analizar brevemente esta variable para ver su distribución, y sus medidas estadísticas."
   ]
  },
  {
   "cell_type": "code",
   "execution_count": 93,
   "id": "9ba60137",
   "metadata": {},
   "outputs": [
    {
     "data": {
      "text/plain": [
       "<Figure size 720x360 with 0 Axes>"
      ]
     },
     "execution_count": 93,
     "metadata": {},
     "output_type": "execute_result"
    },
    {
     "data": {
      "image/png": "[encoded data removed]",
      "text/plain": [
       "<Figure size 720x360 with 1 Axes>"
      ]
     },
     "metadata": {
      "needs_background": "light"
     },
     "output_type": "display_data"
    },
    {
     "data": {
      "text/plain": [
       "<Figure size 720x360 with 0 Axes>"
      ]
     },
     "metadata": {},
     "output_type": "display_data"
    }
   ],
   "source": [
    "plt.figure(figsize=(10, 5))\n",
    "sns.histplot(data=propiedades_caba_final['price_usd'])\n",
    "plt.ticklabel_format(style='plain', axis='x')\n",
    "plt.title('Price uUDS')\n",
    "plt.xlim([0,500000])\n",
    "plt.figure(figsize=(10, 5))\n"
   ]
  },
  {
   "cell_type": "code",
   "execution_count": 94,
   "id": "56e807dc",
   "metadata": {
    "scrolled": false
   },
   "outputs": [
    {
     "data": {
      "text/plain": [
       "count       10567.00\n",
       "mean       304326.24\n",
       "std        371265.81\n",
       "min          5043.00\n",
       "25%        124000.00\n",
       "50%        189000.00\n",
       "75%        340000.00\n",
       "max      11111111.00\n",
       "Name: price_usd, dtype: float64"
      ]
     },
     "execution_count": 94,
     "metadata": {},
     "output_type": "execute_result"
    }
   ],
   "source": [
    "# Analizamos la variable price_usd original\n",
    "propiedades_caba_final['price_usd'].describe().round(2)\n"
   ]
  },
  {
   "cell_type": "markdown",
   "id": "a878401d",
   "metadata": {},
   "source": [
    "Como podemos observar, es muy amplia la diferencia entre el valor mínimo de la variable, y el valor máximo. Esto puede ser un porblema, ya que la media puede no ser representativa, porque puede estar muy influenciada por valores extremos. Para subsanar esta problemática, vamos a eliminar valores extremos utilizando **percentiles**.\n",
    "Se denomina percentil o quantil k, al valor de nuestros datos que deja el k% de los otros valores por debajo.\n",
    "A continuación vamos a calcular el percentil 95 de la variable **price_usd**, y vamos a quedarnos con los registros que se encuentren por debajo de ese percentil para continuar nuestros análisis."
   ]
  },
  {
   "cell_type": "code",
   "execution_count": 95,
   "id": "91105e04",
   "metadata": {
    "scrolled": true
   },
   "outputs": [
    {
     "data": {
      "text/plain": [
       "890000.0"
      ]
     },
     "execution_count": 95,
     "metadata": {},
     "output_type": "execute_result"
    }
   ],
   "source": [
    "k=95\n",
    "percentile_95= propiedades_caba_final['price_usd'].quantile(k/100)\n",
    "percentile_95"
   ]
  },
  {
   "cell_type": "markdown",
   "id": "657f350d",
   "metadata": {},
   "source": [
    "**Limitamos el dataset, considerando sólo los valores de precio de venta <= $890.000**"
   ]
  },
  {
   "cell_type": "code",
   "execution_count": 96,
   "id": "2d46113f",
   "metadata": {},
   "outputs": [],
   "source": [
    "condition_1=propiedades_caba_final.price_usd <= 890000\n",
    "\n",
    "propiedades_caba_final=propiedades_caba_final[condition_1]"
   ]
  },
  {
   "cell_type": "code",
   "execution_count": 97,
   "id": "44a60af4",
   "metadata": {},
   "outputs": [
    {
     "data": {
      "text/plain": [
       "(10048, 62)"
      ]
     },
     "execution_count": 97,
     "metadata": {},
     "output_type": "execute_result"
    }
   ],
   "source": [
    "propiedades_caba_final.shape"
   ]
  },
  {
   "cell_type": "code",
   "execution_count": 98,
   "id": "69b8263d",
   "metadata": {},
   "outputs": [
    {
     "data": {
      "text/plain": [
       "count     10048.00\n",
       "mean     239892.77\n",
       "std      171657.09\n",
       "min        5043.00\n",
       "25%      120000.00\n",
       "50%      180000.00\n",
       "75%      300000.00\n",
       "max      890000.00\n",
       "Name: price_usd, dtype: float64"
      ]
     },
     "execution_count": 98,
     "metadata": {},
     "output_type": "execute_result"
    }
   ],
   "source": [
    "# Analizamos la variable price_usd sin outliers\n",
    "propiedades_caba_final['price_usd'].describe().round(2)"
   ]
  },
  {
   "cell_type": "markdown",
   "id": "94e75550",
   "metadata": {},
   "source": [
    "### Visualizamos los datos"
   ]
  },
  {
   "cell_type": "code",
   "execution_count": 99,
   "id": "4ce66c6d",
   "metadata": {},
   "outputs": [],
   "source": [
    "columnas = ['property_type', 'lat', 'lon', 'description', 'title',\n",
    "       'price_usd', 'surface_total', 'surface_covered', 'floor', 'rooms',\n",
    "       'expenses', 'comuna']"
   ]
  },
  {
   "cell_type": "code",
   "execution_count": 100,
   "id": "1c1110fd",
   "metadata": {
    "scrolled": true
   },
   "outputs": [
    {
     "data": {
      "text/plain": [
       "<seaborn.axisgrid.PairGrid at 0x7fb242503a30>"
      ]
     },
     "execution_count": 100,
     "metadata": {},
     "output_type": "execute_result"
    },
    {
     "data": {
      "image/png": "[encoded data removed]",
      "text/plain": [
       "<Figure size 1260x1260 with 56 Axes>"
      ]
     },
     "metadata": {
      "needs_background": "light"
     },
     "output_type": "display_data"
    }
   ],
   "source": [
    "# Visualización general de las variables\n",
    "sns.pairplot(propiedades_caba_final[columnas])"
   ]
  },
  {
   "cell_type": "code",
   "execution_count": 101,
   "id": "d531d661",
   "metadata": {},
   "outputs": [
    {
     "data": {
      "text/plain": [
       "array([[<AxesSubplot:title={'center':'price_usd'}>,\n",
       "        <AxesSubplot:title={'center':'surface_total'}>,\n",
       "        <AxesSubplot:title={'center':'surface_covered'}>],\n",
       "       [<AxesSubplot:title={'center':'floor'}>,\n",
       "        <AxesSubplot:title={'center':'rooms'}>,\n",
       "        <AxesSubplot:title={'center':'expenses'}>],\n",
       "       [<AxesSubplot:title={'center':'comuna'}>, <AxesSubplot:>,\n",
       "        <AxesSubplot:>]], dtype=object)"
      ]
     },
     "execution_count": 101,
     "metadata": {},
     "output_type": "execute_result"
    },
    {
     "data": {
      "image/png": "[encoded data removed]",
      "text/plain": [
       "<Figure size 1440x1080 with 9 Axes>"
      ]
     },
     "metadata": {
      "needs_background": "light"
     },
     "output_type": "display_data"
    }
   ],
   "source": [
    "# Visualizamos las variables numéricas actuales\n",
    "propiedades_caba_final[columnas].hist(bins=50, figsize=(20,15))"
   ]
  },
  {
   "cell_type": "markdown",
   "id": "a43ac915",
   "metadata": {},
   "source": [
    "Como vimos en el análisis de correlación realizado precedentemente, y visualizando estos gráficos de a pares de variables, podemos confirmar que la variable que más se encuentra corelacionada positivamente al precio de las propiedades es **expenses**.<br>\n",
    "A continuación vamos a visualizarlas en detalle:"
   ]
  },
  {
   "cell_type": "markdown",
   "id": "458989a5",
   "metadata": {},
   "source": [
    "#### Analizamos las variables price_usd y expenses"
   ]
  },
  {
   "cell_type": "code",
   "execution_count": 102,
   "id": "e2d046d2",
   "metadata": {},
   "outputs": [
    {
     "data": {
      "image/png": "[encoded data removed]",
      "text/plain": [
       "<Figure size 432x288 with 1 Axes>"
      ]
     },
     "metadata": {
      "needs_background": "light"
     },
     "output_type": "display_data"
    }
   ],
   "source": [
    "sns.scatterplot(data=propiedades_caba_final,x='expenses', y='price_usd', palette='CMRmap')\n",
    "\n",
    "# Remove scietific notation\n",
    "plt.ticklabel_format(useOffset=False, style='plain')"
   ]
  },
  {
   "cell_type": "markdown",
   "id": "d3443861",
   "metadata": {},
   "source": [
    "#### Analizamos la variable price_usd"
   ]
  },
  {
   "cell_type": "code",
   "execution_count": 103,
   "id": "ebb5165c",
   "metadata": {
    "scrolled": false
   },
   "outputs": [
    {
     "data": {
      "text/plain": [
       "count     10048.00\n",
       "mean     239892.77\n",
       "std      171657.09\n",
       "min        5043.00\n",
       "25%      120000.00\n",
       "50%      180000.00\n",
       "75%      300000.00\n",
       "max      890000.00\n",
       "Name: price_usd, dtype: float64"
      ]
     },
     "execution_count": 103,
     "metadata": {},
     "output_type": "execute_result"
    }
   ],
   "source": [
    "# Analizamos la variable price_usd\n",
    "propiedades_caba_final['price_usd'].describe().round(2)\n"
   ]
  },
  {
   "cell_type": "code",
   "execution_count": 104,
   "id": "fc694dd7",
   "metadata": {},
   "outputs": [
    {
     "data": {
      "text/plain": [
       "<Figure size 720x360 with 0 Axes>"
      ]
     },
     "execution_count": 104,
     "metadata": {},
     "output_type": "execute_result"
    },
    {
     "data": {
      "image/png": "[encoded data removed]",
      "text/plain": [
       "<Figure size 720x360 with 1 Axes>"
      ]
     },
     "metadata": {
      "needs_background": "light"
     },
     "output_type": "display_data"
    },
    {
     "data": {
      "text/plain": [
       "<Figure size 720x360 with 0 Axes>"
      ]
     },
     "metadata": {},
     "output_type": "display_data"
    }
   ],
   "source": [
    "plt.figure(figsize=(10, 5))\n",
    "sns.histplot(data=propiedades_caba_final['price_usd'])\n",
    "plt.ticklabel_format(style='plain', axis='x')\n",
    "plt.title('Price uUDS')\n",
    "plt.xlim([0,500000])\n",
    "plt.figure(figsize=(10, 5))\n"
   ]
  },
  {
   "cell_type": "code",
   "execution_count": 105,
   "id": "36b1a1db",
   "metadata": {
    "scrolled": true
   },
   "outputs": [
    {
     "data": {
      "text/plain": [
       "<AxesSubplot:xlabel='price_usd'>"
      ]
     },
     "execution_count": 105,
     "metadata": {},
     "output_type": "execute_result"
    },
    {
     "data": {
      "image/png": "[encoded data removed]",
      "text/plain": [
       "<Figure size 432x288 with 1 Axes>"
      ]
     },
     "metadata": {
      "needs_background": "light"
     },
     "output_type": "display_data"
    }
   ],
   "source": [
    "sns.boxplot(data = propiedades_caba_final, x = 'price_usd')\n",
    "\n"
   ]
  },
  {
   "cell_type": "markdown",
   "id": "9f3c0f58",
   "metadata": {},
   "source": [
    "De la visualización preliminar, podemos observar que la variable analizada tendría muchos valores atípicos"
   ]
  },
  {
   "cell_type": "markdown",
   "id": "cd718a05",
   "metadata": {},
   "source": [
    "#### Analizamos la variable barrio\n"
   ]
  },
  {
   "cell_type": "code",
   "execution_count": 106,
   "id": "a822cc4d",
   "metadata": {},
   "outputs": [
    {
     "data": {
      "image/png": "[encoded data removed]",
      "text/plain": [
       "<Figure size 1296x504 with 1 Axes>"
      ]
     },
     "metadata": {
      "needs_background": "light"
     },
     "output_type": "display_data"
    }
   ],
   "source": [
    "plt.figure(figsize=(18,7))\n",
    "sns.countplot(x='barrio', data=propiedades_caba_final,palette='CMRmap')\n",
    "plt.xticks(rotation=90)\n",
    "plt.xlabel('Barrio')\n",
    "plt.ylabel('Cantidad')\n",
    "plt.title('Porpiedades por barrio', fontsize=15)\n",
    "plt.show()"
   ]
  },
  {
   "cell_type": "code",
   "execution_count": null,
   "id": "954b388e",
   "metadata": {},
   "outputs": [],
   "source": []
  },
  {
   "cell_type": "markdown",
   "id": "e41a4482",
   "metadata": {},
   "source": [
    "### Análisis adicional de la base de datos"
   ]
  },
  {
   "cell_type": "markdown",
   "id": "63fa94ea",
   "metadata": {},
   "source": [
    "#### 1. Cuál es el ID del inmueble que requiere mayor gasto/inversión ('price_usd' + 'expenses') para adquirirlo?\n"
   ]
  },
  {
   "cell_type": "code",
   "execution_count": 107,
   "id": "f2363288",
   "metadata": {},
   "outputs": [],
   "source": [
    "propiedades_caba_final['price_and_expenses'] = propiedades_caba_final.price_usd + propiedades_caba_final.expenses"
   ]
  },
  {
   "cell_type": "code",
   "execution_count": 108,
   "id": "c489bb80",
   "metadata": {},
   "outputs": [
    {
     "data": {
      "text/plain": [
       "914700.0"
      ]
     },
     "execution_count": 108,
     "metadata": {},
     "output_type": "execute_result"
    }
   ],
   "source": [
    "propiedades_caba_final['price_and_expenses'].max()"
   ]
  },
  {
   "cell_type": "code",
   "execution_count": 109,
   "id": "486dccd5",
   "metadata": {},
   "outputs": [],
   "source": [
    "id_maximo =  propiedades_caba_final.loc[propiedades_caba_final[\"price_and_expenses\"].idxmax()]\n"
   ]
  },
  {
   "cell_type": "code",
   "execution_count": 110,
   "id": "1db94628",
   "metadata": {
    "scrolled": true
   },
   "outputs": [
    {
     "data": {
      "text/plain": [
       "ID                                                                      9202\n",
       "property_type                                                          house\n",
       "lat                                                  -34.652.083.000.000.000\n",
       "lon                                                              -58.370.631\n",
       "description                Casa en dos plantas, sobre lote propio de 9,40...\n",
       "                                                 ...                        \n",
       "barrio_VILLA RIACHUELO                                                   0.0\n",
       "barrio_VILLA SANTA RITA                                                  0.0\n",
       "barrio_VILLA SOLDATI                                                     0.0\n",
       "barrio_VILLA URQUIZA                                                     0.0\n",
       "price_and_expenses                                                  914700.0\n",
       "Name: 2829, Length: 63, dtype: object"
      ]
     },
     "execution_count": 110,
     "metadata": {},
     "output_type": "execute_result"
    }
   ],
   "source": [
    "id_maximo"
   ]
  },
  {
   "cell_type": "markdown",
   "id": "d60a549d",
   "metadata": {},
   "source": [
    "El ID del inmueble que requiere mayor inversión (precio + expensas) para adquirirlo es el Nº **9202**"
   ]
  },
  {
   "cell_type": "markdown",
   "id": "f1af122a",
   "metadata": {},
   "source": [
    "#### 2. Cuál es el ID de la casa ('house') que tiene una superficie descubierta de al menos 800 m2 y su valor ('price_usd') es el más barato?"
   ]
  },
  {
   "cell_type": "code",
   "execution_count": 111,
   "id": "139859b3",
   "metadata": {},
   "outputs": [],
   "source": [
    "# Creamos la columna superficie descubierta\n",
    "propiedades_caba_final['sup_desc'] = propiedades_caba_final.surface_total - propiedades_caba_final.surface_covered"
   ]
  },
  {
   "cell_type": "code",
   "execution_count": 112,
   "id": "728f5d77",
   "metadata": {},
   "outputs": [],
   "source": [
    "# Filtramos las casas\n",
    "houses = propiedades_caba_final[propiedades_caba_final['property_type']=='house']"
   ]
  },
  {
   "cell_type": "code",
   "execution_count": 113,
   "id": "2ef17e6d",
   "metadata": {},
   "outputs": [],
   "source": [
    "# Convertimos a número entero el valor de price_usd\n",
    "propiedades_caba_final['sup_desc'] = propiedades_caba_final['sup_desc'].astype(int)"
   ]
  },
  {
   "cell_type": "code",
   "execution_count": 114,
   "id": "d18a3ed3",
   "metadata": {
    "scrolled": true
   },
   "outputs": [],
   "source": [
    "limit1 = houses[houses['sup_desc'] >= 800] "
   ]
  },
  {
   "cell_type": "code",
   "execution_count": 115,
   "id": "62280cd4",
   "metadata": {},
   "outputs": [],
   "source": [
    "limit2 = limit1['price_usd'].min()"
   ]
  },
  {
   "cell_type": "code",
   "execution_count": 116,
   "id": "96382d79",
   "metadata": {},
   "outputs": [
    {
     "data": {
      "text/plain": [
       "790000"
      ]
     },
     "execution_count": 116,
     "metadata": {},
     "output_type": "execute_result"
    }
   ],
   "source": [
    "limit2"
   ]
  },
  {
   "cell_type": "code",
   "execution_count": 117,
   "id": "5c709c86",
   "metadata": {},
   "outputs": [],
   "source": [
    "id_minimo =  limit1.loc[limit1[\"price_and_expenses\"].idxmin()]\n"
   ]
  },
  {
   "cell_type": "code",
   "execution_count": 118,
   "id": "fd1deb36",
   "metadata": {
    "scrolled": false
   },
   "outputs": [
    {
     "data": {
      "text/plain": [
       "ID                                                                      3691\n",
       "property_type                                                          house\n",
       "lat                                                              -34.597.465\n",
       "lon                                                  -58.387.848.999.999.900\n",
       "description                Corredor Responsable: Power Bienes Raíces SRL ...\n",
       "                                                 ...                        \n",
       "barrio_VILLA SANTA RITA                                                  0.0\n",
       "barrio_VILLA SOLDATI                                                     0.0\n",
       "barrio_VILLA URQUIZA                                                     0.0\n",
       "price_and_expenses                                                  800000.0\n",
       "sup_desc                                                              2167.0\n",
       "Name: 5934, Length: 64, dtype: object"
      ]
     },
     "execution_count": 118,
     "metadata": {},
     "output_type": "execute_result"
    }
   ],
   "source": [
    "id_minimo"
   ]
  },
  {
   "cell_type": "markdown",
   "id": "a9ca3f99",
   "metadata": {},
   "source": [
    "El ID que cumple con las condiciones solicitadas es el Nº **3691**"
   ]
  },
  {
   "cell_type": "markdown",
   "id": "59934a3c",
   "metadata": {},
   "source": [
    "#### 3. Obtener el TOP de las 3 propiedades más caras, para cada tipo de propiedad "
   ]
  },
  {
   "cell_type": "code",
   "execution_count": 119,
   "id": "86d795d5",
   "metadata": {
    "scrolled": true
   },
   "outputs": [
    {
     "data": {
      "text/html": [
       "<div>\n",
       "<style scoped>\n",
       "    .dataframe tbody tr th:only-of-type {\n",
       "        vertical-align: middle;\n",
       "    }\n",
       "\n",
       "    .dataframe tbody tr th {\n",
       "        vertical-align: top;\n",
       "    }\n",
       "\n",
       "    .dataframe thead th {\n",
       "        text-align: right;\n",
       "    }\n",
       "</style>\n",
       "<table border=\"1\" class=\"dataframe\">\n",
       "  <thead>\n",
       "    <tr style=\"text-align: right;\">\n",
       "      <th></th>\n",
       "      <th>ID</th>\n",
       "      <th>property_type</th>\n",
       "      <th>lat</th>\n",
       "      <th>lon</th>\n",
       "      <th>description</th>\n",
       "      <th>title</th>\n",
       "      <th>barrio</th>\n",
       "      <th>price_usd</th>\n",
       "      <th>surface_total</th>\n",
       "      <th>surface_covered</th>\n",
       "      <th>...</th>\n",
       "      <th>barrio_VILLA LURO</th>\n",
       "      <th>barrio_VILLA ORTUZAR</th>\n",
       "      <th>barrio_VILLA PUEYRREDON</th>\n",
       "      <th>barrio_VILLA REAL</th>\n",
       "      <th>barrio_VILLA RIACHUELO</th>\n",
       "      <th>barrio_VILLA SANTA RITA</th>\n",
       "      <th>barrio_VILLA SOLDATI</th>\n",
       "      <th>barrio_VILLA URQUIZA</th>\n",
       "      <th>price_and_expenses</th>\n",
       "      <th>sup_desc</th>\n",
       "    </tr>\n",
       "  </thead>\n",
       "  <tbody>\n",
       "    <tr>\n",
       "      <th>550</th>\n",
       "      <td>10267</td>\n",
       "      <td>house</td>\n",
       "      <td>-345.744.895</td>\n",
       "      <td>-584.589.525</td>\n",
       "      <td>*Casa de 2 Plantas* Sep cub. 315m2* Sup. terre...</td>\n",
       "      <td>Casa - Belgrano.|.HOUSE</td>\n",
       "      <td>COLEGIALES</td>\n",
       "      <td>890000</td>\n",
       "      <td>400.0</td>\n",
       "      <td>400.0</td>\n",
       "      <td>...</td>\n",
       "      <td>0.0</td>\n",
       "      <td>0.0</td>\n",
       "      <td>0.0</td>\n",
       "      <td>0.0</td>\n",
       "      <td>0.0</td>\n",
       "      <td>0.0</td>\n",
       "      <td>0.0</td>\n",
       "      <td>0.0</td>\n",
       "      <td>890000.0</td>\n",
       "      <td>0.0</td>\n",
       "    </tr>\n",
       "    <tr>\n",
       "      <th>2829</th>\n",
       "      <td>9202</td>\n",
       "      <td>house</td>\n",
       "      <td>-34.652.083.000.000.000</td>\n",
       "      <td>-58.370.631</td>\n",
       "      <td>Casa en dos plantas, sobre lote propio de 9,40...</td>\n",
       "      <td>Casa s/lote propio a Reciclar.|.HOUSE</td>\n",
       "      <td>BARRACAS</td>\n",
       "      <td>890000</td>\n",
       "      <td>287.0</td>\n",
       "      <td>287.0</td>\n",
       "      <td>...</td>\n",
       "      <td>0.0</td>\n",
       "      <td>0.0</td>\n",
       "      <td>0.0</td>\n",
       "      <td>0.0</td>\n",
       "      <td>0.0</td>\n",
       "      <td>0.0</td>\n",
       "      <td>0.0</td>\n",
       "      <td>0.0</td>\n",
       "      <td>914700.0</td>\n",
       "      <td>0.0</td>\n",
       "    </tr>\n",
       "    <tr>\n",
       "      <th>2983</th>\n",
       "      <td>267</td>\n",
       "      <td>house</td>\n",
       "      <td>-3.456.528</td>\n",
       "      <td>-5.850.279.200.000.000</td>\n",
       "      <td>Corredor Responsable: Daniel Acosta - CUCICBA ...</td>\n",
       "      <td>CASA BARRIO PARQUE SAAVEDRA - 6 AMB con  PARQU...</td>\n",
       "      <td>SAAVEDRA</td>\n",
       "      <td>890000</td>\n",
       "      <td>245.0</td>\n",
       "      <td>230.0</td>\n",
       "      <td>...</td>\n",
       "      <td>0.0</td>\n",
       "      <td>0.0</td>\n",
       "      <td>0.0</td>\n",
       "      <td>0.0</td>\n",
       "      <td>0.0</td>\n",
       "      <td>0.0</td>\n",
       "      <td>0.0</td>\n",
       "      <td>0.0</td>\n",
       "      <td>907500.0</td>\n",
       "      <td>15.0</td>\n",
       "    </tr>\n",
       "  </tbody>\n",
       "</table>\n",
       "<p>3 rows × 64 columns</p>\n",
       "</div>"
      ],
      "text/plain": [
       "         ID property_type                      lat                     lon  \\\n",
       "550   10267         house             -345.744.895            -584.589.525   \n",
       "2829   9202         house  -34.652.083.000.000.000             -58.370.631   \n",
       "2983    267         house               -3.456.528  -5.850.279.200.000.000   \n",
       "\n",
       "                                            description  \\\n",
       "550   *Casa de 2 Plantas* Sep cub. 315m2* Sup. terre...   \n",
       "2829  Casa en dos plantas, sobre lote propio de 9,40...   \n",
       "2983  Corredor Responsable: Daniel Acosta - CUCICBA ...   \n",
       "\n",
       "                                                  title      barrio  \\\n",
       "550                             Casa - Belgrano.|.HOUSE  COLEGIALES   \n",
       "2829              Casa s/lote propio a Reciclar.|.HOUSE    BARRACAS   \n",
       "2983  CASA BARRIO PARQUE SAAVEDRA - 6 AMB con  PARQU...    SAAVEDRA   \n",
       "\n",
       "      price_usd  surface_total  surface_covered  ...  barrio_VILLA LURO  \\\n",
       "550      890000          400.0            400.0  ...                0.0   \n",
       "2829     890000          287.0            287.0  ...                0.0   \n",
       "2983     890000          245.0            230.0  ...                0.0   \n",
       "\n",
       "      barrio_VILLA ORTUZAR  barrio_VILLA PUEYRREDON  barrio_VILLA REAL  \\\n",
       "550                    0.0                      0.0                0.0   \n",
       "2829                   0.0                      0.0                0.0   \n",
       "2983                   0.0                      0.0                0.0   \n",
       "\n",
       "      barrio_VILLA RIACHUELO  barrio_VILLA SANTA RITA  barrio_VILLA SOLDATI  \\\n",
       "550                      0.0                      0.0                   0.0   \n",
       "2829                     0.0                      0.0                   0.0   \n",
       "2983                     0.0                      0.0                   0.0   \n",
       "\n",
       "      barrio_VILLA URQUIZA  price_and_expenses  sup_desc  \n",
       "550                    0.0            890000.0       0.0  \n",
       "2829                   0.0            914700.0       0.0  \n",
       "2983                   0.0            907500.0      15.0  \n",
       "\n",
       "[3 rows x 64 columns]"
      ]
     },
     "execution_count": 119,
     "metadata": {},
     "output_type": "execute_result"
    }
   ],
   "source": [
    "# PARA CASAS\n",
    "houses.nlargest(3, ['price_usd'])"
   ]
  },
  {
   "cell_type": "code",
   "execution_count": 120,
   "id": "b3898868",
   "metadata": {},
   "outputs": [],
   "source": [
    "# Filtramos los departamentos\n",
    "apartments = propiedades_caba_final[propiedades_caba_final['property_type']=='apartment']"
   ]
  },
  {
   "cell_type": "code",
   "execution_count": 121,
   "id": "34ba2c51",
   "metadata": {},
   "outputs": [
    {
     "data": {
      "text/html": [
       "<div>\n",
       "<style scoped>\n",
       "    .dataframe tbody tr th:only-of-type {\n",
       "        vertical-align: middle;\n",
       "    }\n",
       "\n",
       "    .dataframe tbody tr th {\n",
       "        vertical-align: top;\n",
       "    }\n",
       "\n",
       "    .dataframe thead th {\n",
       "        text-align: right;\n",
       "    }\n",
       "</style>\n",
       "<table border=\"1\" class=\"dataframe\">\n",
       "  <thead>\n",
       "    <tr style=\"text-align: right;\">\n",
       "      <th></th>\n",
       "      <th>ID</th>\n",
       "      <th>property_type</th>\n",
       "      <th>lat</th>\n",
       "      <th>lon</th>\n",
       "      <th>description</th>\n",
       "      <th>title</th>\n",
       "      <th>barrio</th>\n",
       "      <th>price_usd</th>\n",
       "      <th>surface_total</th>\n",
       "      <th>surface_covered</th>\n",
       "      <th>...</th>\n",
       "      <th>barrio_VILLA LURO</th>\n",
       "      <th>barrio_VILLA ORTUZAR</th>\n",
       "      <th>barrio_VILLA PUEYRREDON</th>\n",
       "      <th>barrio_VILLA REAL</th>\n",
       "      <th>barrio_VILLA RIACHUELO</th>\n",
       "      <th>barrio_VILLA SANTA RITA</th>\n",
       "      <th>barrio_VILLA SOLDATI</th>\n",
       "      <th>barrio_VILLA URQUIZA</th>\n",
       "      <th>price_and_expenses</th>\n",
       "      <th>sup_desc</th>\n",
       "    </tr>\n",
       "  </thead>\n",
       "  <tbody>\n",
       "    <tr>\n",
       "      <th>502</th>\n",
       "      <td>4834</td>\n",
       "      <td>apartment</td>\n",
       "      <td>-34.539.573.299.999.900</td>\n",
       "      <td>-58.465.854.500.000.000</td>\n",
       "      <td>Venta 2 ambientes en Núñez.APTO CRÉDITO. Depar...</td>\n",
       "      <td>Departamento - L.De Nuñez.|.APARTMENT</td>\n",
       "      <td>NUÑEZ</td>\n",
       "      <td>890000</td>\n",
       "      <td>550.0</td>\n",
       "      <td>450.0</td>\n",
       "      <td>...</td>\n",
       "      <td>0.0</td>\n",
       "      <td>0.0</td>\n",
       "      <td>0.0</td>\n",
       "      <td>0.0</td>\n",
       "      <td>0.0</td>\n",
       "      <td>0.0</td>\n",
       "      <td>0.0</td>\n",
       "      <td>0.0</td>\n",
       "      <td>890000.0</td>\n",
       "      <td>100</td>\n",
       "    </tr>\n",
       "    <tr>\n",
       "      <th>1300</th>\n",
       "      <td>1745</td>\n",
       "      <td>apartment</td>\n",
       "      <td>-345.813.261.618</td>\n",
       "      <td>-584.107.224.041</td>\n",
       "      <td>DEPARTAMENTOS DE DOS AMBIENTES DE CATEGORÍA Y ...</td>\n",
       "      <td>DEPARTAMENTO DE DOS AMBIENTES CON ESCRITORIO.|...</td>\n",
       "      <td>PALERMO</td>\n",
       "      <td>890000</td>\n",
       "      <td>175.0</td>\n",
       "      <td>175.0</td>\n",
       "      <td>...</td>\n",
       "      <td>0.0</td>\n",
       "      <td>0.0</td>\n",
       "      <td>0.0</td>\n",
       "      <td>0.0</td>\n",
       "      <td>0.0</td>\n",
       "      <td>0.0</td>\n",
       "      <td>0.0</td>\n",
       "      <td>0.0</td>\n",
       "      <td>902650.0</td>\n",
       "      <td>0</td>\n",
       "    </tr>\n",
       "    <tr>\n",
       "      <th>1647</th>\n",
       "      <td>9611</td>\n",
       "      <td>apartment</td>\n",
       "      <td>-346.000.485</td>\n",
       "      <td>-58.486.163.100.000.000</td>\n",
       "      <td>HERMOSO MONOAMBIENTE UBICADO EN LA MEJOR ZONA ...</td>\n",
       "      <td>EXCELENTE MONOAMBIENTE.|.APARTMENT</td>\n",
       "      <td>VILLA DEL PARQUE</td>\n",
       "      <td>890000</td>\n",
       "      <td>287.0</td>\n",
       "      <td>238.0</td>\n",
       "      <td>...</td>\n",
       "      <td>0.0</td>\n",
       "      <td>0.0</td>\n",
       "      <td>0.0</td>\n",
       "      <td>0.0</td>\n",
       "      <td>0.0</td>\n",
       "      <td>0.0</td>\n",
       "      <td>0.0</td>\n",
       "      <td>0.0</td>\n",
       "      <td>907000.0</td>\n",
       "      <td>49</td>\n",
       "    </tr>\n",
       "  </tbody>\n",
       "</table>\n",
       "<p>3 rows × 64 columns</p>\n",
       "</div>"
      ],
      "text/plain": [
       "        ID property_type                      lat                      lon  \\\n",
       "502   4834     apartment  -34.539.573.299.999.900  -58.465.854.500.000.000   \n",
       "1300  1745     apartment         -345.813.261.618         -584.107.224.041   \n",
       "1647  9611     apartment             -346.000.485  -58.486.163.100.000.000   \n",
       "\n",
       "                                            description  \\\n",
       "502   Venta 2 ambientes en Núñez.APTO CRÉDITO. Depar...   \n",
       "1300  DEPARTAMENTOS DE DOS AMBIENTES DE CATEGORÍA Y ...   \n",
       "1647  HERMOSO MONOAMBIENTE UBICADO EN LA MEJOR ZONA ...   \n",
       "\n",
       "                                                  title            barrio  \\\n",
       "502               Departamento - L.De Nuñez.|.APARTMENT             NUÑEZ   \n",
       "1300  DEPARTAMENTO DE DOS AMBIENTES CON ESCRITORIO.|...           PALERMO   \n",
       "1647                 EXCELENTE MONOAMBIENTE.|.APARTMENT  VILLA DEL PARQUE   \n",
       "\n",
       "      price_usd  surface_total  surface_covered  ...  barrio_VILLA LURO  \\\n",
       "502      890000          550.0            450.0  ...                0.0   \n",
       "1300     890000          175.0            175.0  ...                0.0   \n",
       "1647     890000          287.0            238.0  ...                0.0   \n",
       "\n",
       "      barrio_VILLA ORTUZAR  barrio_VILLA PUEYRREDON  barrio_VILLA REAL  \\\n",
       "502                    0.0                      0.0                0.0   \n",
       "1300                   0.0                      0.0                0.0   \n",
       "1647                   0.0                      0.0                0.0   \n",
       "\n",
       "      barrio_VILLA RIACHUELO  barrio_VILLA SANTA RITA  barrio_VILLA SOLDATI  \\\n",
       "502                      0.0                      0.0                   0.0   \n",
       "1300                     0.0                      0.0                   0.0   \n",
       "1647                     0.0                      0.0                   0.0   \n",
       "\n",
       "      barrio_VILLA URQUIZA  price_and_expenses  sup_desc  \n",
       "502                    0.0            890000.0       100  \n",
       "1300                   0.0            902650.0         0  \n",
       "1647                   0.0            907000.0        49  \n",
       "\n",
       "[3 rows x 64 columns]"
      ]
     },
     "execution_count": 121,
     "metadata": {},
     "output_type": "execute_result"
    }
   ],
   "source": [
    "# PARA DEPARTAMENTOS\n",
    "apartments.nlargest(3, ['price_usd'])"
   ]
  },
  {
   "cell_type": "markdown",
   "id": "63d7d7bd",
   "metadata": {},
   "source": [
    "#### 4. Obtener el valor promedio de las propiedades de cada barrio"
   ]
  },
  {
   "cell_type": "code",
   "execution_count": 122,
   "id": "b37eb29d",
   "metadata": {},
   "outputs": [],
   "source": [
    "promedio_barrio = propiedades_caba_final['price_usd'].groupby(propiedades_caba_final['barrio']).mean().sort_values(ascending=False)"
   ]
  },
  {
   "cell_type": "code",
   "execution_count": 123,
   "id": "6d7bf635",
   "metadata": {
    "scrolled": true
   },
   "outputs": [
    {
     "data": {
      "text/plain": [
       "barrio\n",
       "VILLA SOLDATI        398555.56\n",
       "VILLA RIACHUELO      330813.33\n",
       "BOEDO                274102.66\n",
       "SAN CRISTOBAL        258274.18\n",
       "LINIERS              257819.18\n",
       "NUEVA POMPEYA        257786.62\n",
       "BOCA                 256095.70\n",
       "ALMAGRO              253839.16\n",
       "NUÑEZ                253225.86\n",
       "MONTE CASTRO         253193.01\n",
       "MATADEROS            252055.92\n",
       "VILLA LURO           249819.92\n",
       "COGHLAN              249703.57\n",
       "RETIRO               249670.09\n",
       "BARRACAS             247693.89\n",
       "FLORES               245308.50\n",
       "VILLA ORTUZAR        244962.96\n",
       "MONSERRAT            244798.12\n",
       "AGRONOMIA            244598.76\n",
       "PARQUE AVELLANEDA    244515.18\n",
       "PARQUE CHAS          243913.03\n",
       "VILLA GRAL. MITRE    243228.82\n",
       "BELGRANO             242159.82\n",
       "RECOLETA             241333.58\n",
       "PALERMO              240930.76\n",
       "VILLA DEL PARQUE     240725.17\n",
       "VILLA REAL           240099.41\n",
       "BALVANERA            239397.08\n",
       "SAN NICOLAS          237634.32\n",
       "SAAVEDRA             236301.14\n",
       "PUERTO MADERO        234624.95\n",
       "COLEGIALES           233838.44\n",
       "PATERNAL             233319.61\n",
       "VILLA CRESPO         233201.14\n",
       "VILLA URQUIZA        231033.76\n",
       "VILLA SANTA RITA     230941.41\n",
       "CABALLITO            230483.26\n",
       "PARQUE CHACABUCO     230420.39\n",
       "VILLA LUGANO         223738.96\n",
       "CHACARITA            223358.35\n",
       "VILLA DEVOTO         223305.12\n",
       "FLORESTA             220194.66\n",
       "VELEZ SARSFIELD      219635.45\n",
       "SAN TELMO            217008.39\n",
       "VERSALLES            215046.04\n",
       "VILLA PUEYRREDON     213826.53\n",
       "PARQUE PATRICIOS     201008.13\n",
       "CONSTITUCION         198227.67\n",
       "Name: price_usd, dtype: float64"
      ]
     },
     "execution_count": 123,
     "metadata": {},
     "output_type": "execute_result"
    }
   ],
   "source": [
    "promedio_barrio.round(2)"
   ]
  },
  {
   "cell_type": "markdown",
   "id": "752ebd55",
   "metadata": {},
   "source": [
    "#### 5. Cuál es la comuna con más propiedades a la venta?"
   ]
  },
  {
   "cell_type": "code",
   "execution_count": 124,
   "id": "63c62824",
   "metadata": {
    "scrolled": true
   },
   "outputs": [
    {
     "data": {
      "text/plain": [
       "comuna\n",
       "14    1693\n",
       "1     1306\n",
       "13    1289\n",
       "2     1145\n",
       "15     705\n",
       "12     683\n",
       "3      682\n",
       "6      551\n",
       "7      526\n",
       "5      514\n",
       "11     462\n",
       "10     406\n",
       "4      304\n",
       "9      224\n",
       "8       77\n",
       "Name: property_type, dtype: int64"
      ]
     },
     "execution_count": 124,
     "metadata": {},
     "output_type": "execute_result"
    }
   ],
   "source": [
    "propiedades_caba_curado['property_type'].groupby(propiedades_caba_curado['comuna']).count().sort_values(ascending=False)"
   ]
  },
  {
   "cell_type": "markdown",
   "id": "54ffd703",
   "metadata": {},
   "source": [
    "La comuna con más propiedades a la venta es la número **14**"
   ]
  },
  {
   "cell_type": "markdown",
   "id": "2cac1001",
   "metadata": {},
   "source": [
    "#### 6. Cuál es el barrio con mayor costo promedio por metro cuadrado descubierto?"
   ]
  },
  {
   "cell_type": "code",
   "execution_count": 125,
   "id": "30c2ce2f",
   "metadata": {},
   "outputs": [],
   "source": [
    "propiedades_caba_final['price_m2_desc'] = propiedades_caba_final.price_usd / propiedades_caba_final.sup_desc"
   ]
  },
  {
   "cell_type": "code",
   "execution_count": 126,
   "id": "bebb2b0c",
   "metadata": {},
   "outputs": [],
   "source": [
    "# Eliminamos los valores inf del DF, que se generaron cuando se realizó el cálculo de la variable price_m2_desc\n",
    "propiedades_caba_final=propiedades_caba_final.replace([np.inf],np.nan)"
   ]
  },
  {
   "cell_type": "code",
   "execution_count": 127,
   "id": "fd169cea",
   "metadata": {},
   "outputs": [
    {
     "data": {
      "text/plain": [
       "ID                         0\n",
       "property_type              0\n",
       "lat                        0\n",
       "lon                        0\n",
       "description                0\n",
       "                        ... \n",
       "barrio_VILLA SOLDATI       0\n",
       "barrio_VILLA URQUIZA       0\n",
       "price_and_expenses         0\n",
       "sup_desc                   0\n",
       "price_m2_desc           3939\n",
       "Length: 65, dtype: int64"
      ]
     },
     "execution_count": 127,
     "metadata": {},
     "output_type": "execute_result"
    }
   ],
   "source": [
    "# Verificamos que no hayan quedado registros nulos\n",
    "propiedades_caba_final.isna().sum()"
   ]
  },
  {
   "cell_type": "code",
   "execution_count": 128,
   "id": "8f28a787",
   "metadata": {},
   "outputs": [],
   "source": [
    "# Imputamos los NAN por 0, ya que se trata de propiedades que no tienen metros descubiertos\n",
    "propiedades_caba_final['price_m2_desc'] = propiedades_caba_final['price_m2_desc'].fillna(0)\n"
   ]
  },
  {
   "cell_type": "code",
   "execution_count": 129,
   "id": "aaec17f2",
   "metadata": {},
   "outputs": [
    {
     "data": {
      "text/plain": [
       "ID                      0\n",
       "property_type           0\n",
       "lat                     0\n",
       "lon                     0\n",
       "description             0\n",
       "                       ..\n",
       "barrio_VILLA SOLDATI    0\n",
       "barrio_VILLA URQUIZA    0\n",
       "price_and_expenses      0\n",
       "sup_desc                0\n",
       "price_m2_desc           0\n",
       "Length: 65, dtype: int64"
      ]
     },
     "execution_count": 129,
     "metadata": {},
     "output_type": "execute_result"
    }
   ],
   "source": [
    "# Verificamos que no hayan quedado registros nulos\n",
    "propiedades_caba_final.isna().sum()"
   ]
  },
  {
   "cell_type": "code",
   "execution_count": 130,
   "id": "f60a1e26",
   "metadata": {
    "scrolled": false
   },
   "outputs": [
    {
     "data": {
      "text/plain": [
       "count     10048.00\n",
       "mean      19334.18\n",
       "std       26899.09\n",
       "min           0.00\n",
       "25%           0.00\n",
       "50%        9811.76\n",
       "75%       30000.00\n",
       "max      324000.00\n",
       "Name: price_m2_desc, dtype: float64"
      ]
     },
     "execution_count": 130,
     "metadata": {},
     "output_type": "execute_result"
    }
   ],
   "source": [
    "propiedades_caba_final['price_m2_desc'].describe().round(2)"
   ]
  },
  {
   "cell_type": "code",
   "execution_count": 131,
   "id": "5c86445d",
   "metadata": {
    "scrolled": true
   },
   "outputs": [
    {
     "data": {
      "text/plain": [
       "barrio\n",
       "VELEZ SARSFIELD      27971.50\n",
       "VILLA GRAL. MITRE    25700.93\n",
       "BOEDO                23884.68\n",
       "AGRONOMIA            23152.94\n",
       "NUEVA POMPEYA        22974.61\n",
       "FLORESTA             22631.93\n",
       "LINIERS              21693.30\n",
       "VILLA ORTUZAR        21582.05\n",
       "SAAVEDRA             21430.63\n",
       "SAN CRISTOBAL        21238.80\n",
       "VILLA DEL PARQUE     21005.71\n",
       "BELGRANO             20935.26\n",
       "VILLA LUGANO         20919.32\n",
       "SAN TELMO            20752.63\n",
       "ALMAGRO              20629.88\n",
       "NUÑEZ                20509.73\n",
       "COGHLAN              20384.23\n",
       "VILLA LURO           20237.57\n",
       "BARRACAS             20235.96\n",
       "PARQUE PATRICIOS     20174.09\n",
       "PUERTO MADERO        20039.95\n",
       "RECOLETA             20032.33\n",
       "FLORES               19772.08\n",
       "VILLA CRESPO         19609.35\n",
       "PATERNAL             19409.94\n",
       "RETIRO               19153.33\n",
       "SAN NICOLAS          19076.30\n",
       "VILLA URQUIZA        18919.63\n",
       "BALVANERA            18847.61\n",
       "CHACARITA            18743.41\n",
       "CABALLITO            18705.95\n",
       "PARQUE CHACABUCO     18578.84\n",
       "PALERMO              18369.00\n",
       "BOCA                 18047.79\n",
       "VERSALLES            17720.17\n",
       "CONSTITUCION         16480.54\n",
       "MONSERRAT            16293.69\n",
       "MONTE CASTRO         16131.20\n",
       "COLEGIALES           15936.39\n",
       "PARQUE AVELLANEDA    15888.20\n",
       "VILLA DEVOTO         15783.67\n",
       "VILLA RIACHUELO      15532.23\n",
       "MATADEROS            15314.25\n",
       "VILLA SANTA RITA     15048.73\n",
       "VILLA PUEYRREDON     13983.69\n",
       "VILLA SOLDATI        13878.37\n",
       "PARQUE CHAS          13309.46\n",
       "VILLA REAL           12720.25\n",
       "Name: price_m2_desc, dtype: float64"
      ]
     },
     "execution_count": 131,
     "metadata": {},
     "output_type": "execute_result"
    }
   ],
   "source": [
    "propiedades_caba_final['price_m2_desc'].groupby(propiedades_caba_final['barrio']).mean().sort_values(ascending=False).round(2)"
   ]
  },
  {
   "cell_type": "markdown",
   "id": "10abc82d",
   "metadata": {},
   "source": [
    "El barrio con mayor costo promedio por metro cuadrado descubierto es **VELEZ SARSFIELD**."
   ]
  },
  {
   "cell_type": "markdown",
   "id": "5a954a7d",
   "metadata": {},
   "source": [
    "# Predicción del valor de las propiedades"
   ]
  },
  {
   "cell_type": "markdown",
   "id": "1f9da25b",
   "metadata": {},
   "source": [
    "### Con 59 variables"
   ]
  },
  {
   "cell_type": "code",
   "execution_count": 132,
   "id": "709ed170",
   "metadata": {
    "scrolled": true
   },
   "outputs": [
    {
     "data": {
      "text/plain": [
       "(10048, 65)"
      ]
     },
     "execution_count": 132,
     "metadata": {},
     "output_type": "execute_result"
    }
   ],
   "source": [
    "propiedades_caba_final.shape"
   ]
  },
  {
   "cell_type": "markdown",
   "id": "6f34165c",
   "metadata": {},
   "source": [
    "#### Seleccionamos las variables relevantes para predecir "
   ]
  },
  {
   "cell_type": "markdown",
   "id": "ce8d8055",
   "metadata": {},
   "source": [
    "Como vimos precedentemente, el dataset final, contiene hasta el momento 65 variables. Hay algunas que vamos a descartar para el análisis inicialmente, por considerarlas menos relevantes. Estas son:\n",
    "- lat\n",
    "- lon\n",
    "- descripcion\n",
    "- title\n",
    "- barrio \n",
    "\n",
    "Asimismo, la variable **property_type** es una variable que consideramos importante, pero es categórica, por lo que vamos a codificarla, tal como hicimos con la variable barrio."
   ]
  },
  {
   "cell_type": "markdown",
   "id": "492bf463",
   "metadata": {},
   "source": [
    "##### Convertimos la variable 'property_type' en variable numérica"
   ]
  },
  {
   "cell_type": "code",
   "execution_count": 133,
   "id": "416014e6",
   "metadata": {},
   "outputs": [],
   "source": [
    "# Aplicamos la funcion de encoding a la columna 'property_type'\n",
    "\n",
    "propiedades_caba_final=oneHotEncoder(propiedades_caba_final,'property_type')"
   ]
  },
  {
   "cell_type": "code",
   "execution_count": 134,
   "id": "3328b111",
   "metadata": {},
   "outputs": [
    {
     "data": {
      "text/html": [
       "<div>\n",
       "<style scoped>\n",
       "    .dataframe tbody tr th:only-of-type {\n",
       "        vertical-align: middle;\n",
       "    }\n",
       "\n",
       "    .dataframe tbody tr th {\n",
       "        vertical-align: top;\n",
       "    }\n",
       "\n",
       "    .dataframe thead th {\n",
       "        text-align: right;\n",
       "    }\n",
       "</style>\n",
       "<table border=\"1\" class=\"dataframe\">\n",
       "  <thead>\n",
       "    <tr style=\"text-align: right;\">\n",
       "      <th></th>\n",
       "      <th>ID</th>\n",
       "      <th>lat</th>\n",
       "      <th>lon</th>\n",
       "      <th>description</th>\n",
       "      <th>title</th>\n",
       "      <th>barrio</th>\n",
       "      <th>price_usd</th>\n",
       "      <th>surface_total</th>\n",
       "      <th>surface_covered</th>\n",
       "      <th>floor</th>\n",
       "      <th>...</th>\n",
       "      <th>barrio_VILLA REAL</th>\n",
       "      <th>barrio_VILLA RIACHUELO</th>\n",
       "      <th>barrio_VILLA SANTA RITA</th>\n",
       "      <th>barrio_VILLA SOLDATI</th>\n",
       "      <th>barrio_VILLA URQUIZA</th>\n",
       "      <th>price_and_expenses</th>\n",
       "      <th>sup_desc</th>\n",
       "      <th>price_m2_desc</th>\n",
       "      <th>property_type_apartment</th>\n",
       "      <th>property_type_house</th>\n",
       "    </tr>\n",
       "  </thead>\n",
       "  <tbody>\n",
       "    <tr>\n",
       "      <th>10</th>\n",
       "      <td>10108</td>\n",
       "      <td>-346.474.215</td>\n",
       "      <td>-58.495.243.200.000.000</td>\n",
       "      <td>Se ingresa a un living comedor de 4,70 x 4 con...</td>\n",
       "      <td>Casa - Mataderos.|.HOUSE</td>\n",
       "      <td>MATADEROS</td>\n",
       "      <td>260000</td>\n",
       "      <td>150.0</td>\n",
       "      <td>150.0</td>\n",
       "      <td>0.0</td>\n",
       "      <td>...</td>\n",
       "      <td>0.0</td>\n",
       "      <td>0.0</td>\n",
       "      <td>0.0</td>\n",
       "      <td>0.0</td>\n",
       "      <td>0.0</td>\n",
       "      <td>260000.0</td>\n",
       "      <td>0</td>\n",
       "      <td>0.000000</td>\n",
       "      <td>0</td>\n",
       "      <td>1</td>\n",
       "    </tr>\n",
       "    <tr>\n",
       "      <th>22</th>\n",
       "      <td>4792</td>\n",
       "      <td>-3.454.950.333</td>\n",
       "      <td>-5.845.836.639</td>\n",
       "      <td>Ciudad:Capital fe-Zona:Residencial-Asfalto-Pro...</td>\n",
       "      <td>Guayra    1800 - U$D 153.000 - Tipo casa PH en...</td>\n",
       "      <td>NUÑEZ</td>\n",
       "      <td>285000</td>\n",
       "      <td>215.0</td>\n",
       "      <td>160.0</td>\n",
       "      <td>0.0</td>\n",
       "      <td>...</td>\n",
       "      <td>0.0</td>\n",
       "      <td>0.0</td>\n",
       "      <td>0.0</td>\n",
       "      <td>0.0</td>\n",
       "      <td>0.0</td>\n",
       "      <td>285000.0</td>\n",
       "      <td>55</td>\n",
       "      <td>5181.818182</td>\n",
       "      <td>0</td>\n",
       "      <td>1</td>\n",
       "    </tr>\n",
       "  </tbody>\n",
       "</table>\n",
       "<p>2 rows × 66 columns</p>\n",
       "</div>"
      ],
      "text/plain": [
       "       ID             lat                      lon  \\\n",
       "10  10108    -346.474.215  -58.495.243.200.000.000   \n",
       "22   4792  -3.454.950.333           -5.845.836.639   \n",
       "\n",
       "                                          description  \\\n",
       "10  Se ingresa a un living comedor de 4,70 x 4 con...   \n",
       "22  Ciudad:Capital fe-Zona:Residencial-Asfalto-Pro...   \n",
       "\n",
       "                                                title     barrio  price_usd  \\\n",
       "10                           Casa - Mataderos.|.HOUSE  MATADEROS     260000   \n",
       "22  Guayra    1800 - U$D 153.000 - Tipo casa PH en...      NUÑEZ     285000   \n",
       "\n",
       "    surface_total  surface_covered  floor  ...  barrio_VILLA REAL  \\\n",
       "10          150.0            150.0    0.0  ...                0.0   \n",
       "22          215.0            160.0    0.0  ...                0.0   \n",
       "\n",
       "    barrio_VILLA RIACHUELO  barrio_VILLA SANTA RITA  barrio_VILLA SOLDATI  \\\n",
       "10                     0.0                      0.0                   0.0   \n",
       "22                     0.0                      0.0                   0.0   \n",
       "\n",
       "    barrio_VILLA URQUIZA  price_and_expenses  sup_desc  price_m2_desc  \\\n",
       "10                   0.0            260000.0         0       0.000000   \n",
       "22                   0.0            285000.0        55    5181.818182   \n",
       "\n",
       "    property_type_apartment  property_type_house  \n",
       "10                        0                    1  \n",
       "22                        0                    1  \n",
       "\n",
       "[2 rows x 66 columns]"
      ]
     },
     "execution_count": 134,
     "metadata": {},
     "output_type": "execute_result"
    }
   ],
   "source": [
    "# Corroboramos que se aplicó correctamente\n",
    "propiedades_caba_final.head(2)"
   ]
  },
  {
   "cell_type": "code",
   "execution_count": 135,
   "id": "88b2a2d0",
   "metadata": {},
   "outputs": [],
   "source": [
    "# Reseteamos el índice, para que sea el 'ID'\n",
    "propiedades_caba_final.set_index('ID', inplace = True)\n"
   ]
  },
  {
   "cell_type": "code",
   "execution_count": 136,
   "id": "7edf28a5",
   "metadata": {},
   "outputs": [],
   "source": [
    "col_finales =['price_usd',\n",
    "       'surface_total', 'surface_covered', 'floor', 'rooms', 'expenses',\n",
    "       'comuna', 'barrio_AGRONOMIA', 'barrio_ALMAGRO', 'barrio_BALVANERA',\n",
    "       'barrio_BARRACAS', 'barrio_BELGRANO', 'barrio_BOCA', 'barrio_BOEDO',\n",
    "       'barrio_CABALLITO', 'barrio_CHACARITA', 'barrio_COGHLAN',\n",
    "       'barrio_COLEGIALES', 'barrio_CONSTITUCION', 'barrio_FLORES',\n",
    "       'barrio_FLORESTA', 'barrio_LINIERS', 'barrio_MATADEROS',\n",
    "       'barrio_MONSERRAT', 'barrio_MONTE CASTRO', 'barrio_NUEVA POMPEYA',\n",
    "       'barrio_NUÑEZ', 'barrio_PALERMO', 'barrio_PARQUE AVELLANEDA',\n",
    "       'barrio_PARQUE CHACABUCO', 'barrio_PARQUE CHAS',\n",
    "       'barrio_PARQUE PATRICIOS', 'barrio_PATERNAL', 'barrio_PUERTO MADERO',\n",
    "       'barrio_RECOLETA', 'barrio_RETIRO', 'barrio_SAAVEDRA',\n",
    "       'barrio_SAN CRISTOBAL', 'barrio_SAN NICOLAS', 'barrio_SAN TELMO',\n",
    "       'barrio_VELEZ SARSFIELD', 'barrio_VERSALLES', 'barrio_VILLA CRESPO',\n",
    "       'barrio_VILLA DEL PARQUE', 'barrio_VILLA DEVOTO',\n",
    "       'barrio_VILLA GRAL. MITRE', 'barrio_VILLA LUGANO', 'barrio_VILLA LURO',\n",
    "       'barrio_VILLA ORTUZAR', 'barrio_VILLA PUEYRREDON', 'barrio_VILLA REAL',\n",
    "       'barrio_VILLA RIACHUELO', 'barrio_VILLA SANTA RITA',\n",
    "       'barrio_VILLA SOLDATI', 'barrio_VILLA URQUIZA', 'price_and_expenses',\n",
    "       'sup_desc', 'price_m2_desc', 'property_type_apartment',\n",
    "       'property_type_house']"
   ]
  },
  {
   "cell_type": "code",
   "execution_count": 137,
   "id": "5ea889ee",
   "metadata": {},
   "outputs": [],
   "source": [
    "# Creamos el dataset con el que vamos a predecir el valos de las propiedades\n",
    "prop_caba = propiedades_caba_final[col_finales]"
   ]
  },
  {
   "cell_type": "code",
   "execution_count": 138,
   "id": "eac64c64",
   "metadata": {},
   "outputs": [],
   "source": [
    "#Se convierte el dataframe en un csv:\n",
    "#prop_caba.to_excel('prop_caba.xlsx')\n",
    "\n"
   ]
  },
  {
   "cell_type": "markdown",
   "id": "dfa8730c",
   "metadata": {},
   "source": [
    "#### Seleccionamos algunos modelos y entrenamos"
   ]
  },
  {
   "cell_type": "markdown",
   "id": "e4fa794f",
   "metadata": {},
   "source": [
    "##### Definimos X e Y"
   ]
  },
  {
   "cell_type": "code",
   "execution_count": 139,
   "id": "2a5b83c0",
   "metadata": {},
   "outputs": [],
   "source": [
    "X=prop_caba.drop('price_usd', axis=1)"
   ]
  },
  {
   "cell_type": "code",
   "execution_count": 140,
   "id": "76d60066",
   "metadata": {},
   "outputs": [],
   "source": [
    "y=prop_caba['price_usd']"
   ]
  },
  {
   "cell_type": "markdown",
   "id": "11531238",
   "metadata": {},
   "source": [
    "##### Escalamos los datos (X)"
   ]
  },
  {
   "cell_type": "code",
   "execution_count": 141,
   "id": "b57bd616",
   "metadata": {},
   "outputs": [
    {
     "data": {
      "text/plain": [
       "array([[8.09787010e-04, 9.93339956e-04, 0.00000000e+00, ...,\n",
       "        0.00000000e+00, 0.00000000e+00, 1.00000000e+00],\n",
       "       [1.16304980e-03, 1.06000707e-03, 0.00000000e+00, ...,\n",
       "        1.59932660e-02, 0.00000000e+00, 1.00000000e+00],\n",
       "       [2.47283953e-03, 2.74001827e-03, 0.00000000e+00, ...,\n",
       "        5.96240180e-02, 0.00000000e+00, 1.00000000e+00],\n",
       "       ...,\n",
       "       [1.19565867e-04, 1.46667644e-04, 0.00000000e+00, ...,\n",
       "        0.00000000e+00, 1.00000000e+00, 0.00000000e+00],\n",
       "       [1.68479177e-04, 2.06668044e-04, 0.00000000e+00, ...,\n",
       "        0.00000000e+00, 1.00000000e+00, 0.00000000e+00],\n",
       "       [3.02175555e-03, 2.49334996e-03, 0.00000000e+00, ...,\n",
       "        1.17012617e-02, 1.00000000e+00, 0.00000000e+00]])"
      ]
     },
     "execution_count": 141,
     "metadata": {},
     "output_type": "execute_result"
    }
   ],
   "source": [
    "min_max = MinMaxScaler()\n",
    "X=min_max.fit_transform(X)\n",
    "X"
   ]
  },
  {
   "cell_type": "code",
   "execution_count": 142,
   "id": "71fccb79",
   "metadata": {},
   "outputs": [],
   "source": [
    "# Transformamos X en un dataframe\n",
    "X= pd.DataFrame(X, columns= col_finales[1:])"
   ]
  },
  {
   "cell_type": "code",
   "execution_count": 143,
   "id": "c342ce9f",
   "metadata": {},
   "outputs": [
    {
     "data": {
      "text/html": [
       "<div>\n",
       "<style scoped>\n",
       "    .dataframe tbody tr th:only-of-type {\n",
       "        vertical-align: middle;\n",
       "    }\n",
       "\n",
       "    .dataframe tbody tr th {\n",
       "        vertical-align: top;\n",
       "    }\n",
       "\n",
       "    .dataframe thead th {\n",
       "        text-align: right;\n",
       "    }\n",
       "</style>\n",
       "<table border=\"1\" class=\"dataframe\">\n",
       "  <thead>\n",
       "    <tr style=\"text-align: right;\">\n",
       "      <th></th>\n",
       "      <th>surface_total</th>\n",
       "      <th>surface_covered</th>\n",
       "      <th>floor</th>\n",
       "      <th>rooms</th>\n",
       "      <th>expenses</th>\n",
       "      <th>comuna</th>\n",
       "      <th>barrio_AGRONOMIA</th>\n",
       "      <th>barrio_ALMAGRO</th>\n",
       "      <th>barrio_BALVANERA</th>\n",
       "      <th>barrio_BARRACAS</th>\n",
       "      <th>...</th>\n",
       "      <th>barrio_VILLA REAL</th>\n",
       "      <th>barrio_VILLA RIACHUELO</th>\n",
       "      <th>barrio_VILLA SANTA RITA</th>\n",
       "      <th>barrio_VILLA SOLDATI</th>\n",
       "      <th>barrio_VILLA URQUIZA</th>\n",
       "      <th>price_and_expenses</th>\n",
       "      <th>sup_desc</th>\n",
       "      <th>price_m2_desc</th>\n",
       "      <th>property_type_apartment</th>\n",
       "      <th>property_type_house</th>\n",
       "    </tr>\n",
       "  </thead>\n",
       "  <tbody>\n",
       "    <tr>\n",
       "      <th>0</th>\n",
       "      <td>0.000810</td>\n",
       "      <td>0.000993</td>\n",
       "      <td>0.0</td>\n",
       "      <td>0.103448</td>\n",
       "      <td>0.0</td>\n",
       "      <td>1.000000</td>\n",
       "      <td>0.0</td>\n",
       "      <td>0.0</td>\n",
       "      <td>0.0</td>\n",
       "      <td>0.0</td>\n",
       "      <td>...</td>\n",
       "      <td>0.0</td>\n",
       "      <td>0.0</td>\n",
       "      <td>0.0</td>\n",
       "      <td>0.0</td>\n",
       "      <td>0.0</td>\n",
       "      <td>0.278374</td>\n",
       "      <td>0.000000</td>\n",
       "      <td>0.000000</td>\n",
       "      <td>0.0</td>\n",
       "      <td>1.0</td>\n",
       "    </tr>\n",
       "    <tr>\n",
       "      <th>1</th>\n",
       "      <td>0.001163</td>\n",
       "      <td>0.001060</td>\n",
       "      <td>0.0</td>\n",
       "      <td>0.103448</td>\n",
       "      <td>0.0</td>\n",
       "      <td>0.642857</td>\n",
       "      <td>0.0</td>\n",
       "      <td>0.0</td>\n",
       "      <td>0.0</td>\n",
       "      <td>0.0</td>\n",
       "      <td>...</td>\n",
       "      <td>0.0</td>\n",
       "      <td>0.0</td>\n",
       "      <td>0.0</td>\n",
       "      <td>0.0</td>\n",
       "      <td>0.0</td>\n",
       "      <td>0.305930</td>\n",
       "      <td>0.001618</td>\n",
       "      <td>0.015993</td>\n",
       "      <td>0.0</td>\n",
       "      <td>1.0</td>\n",
       "    </tr>\n",
       "  </tbody>\n",
       "</table>\n",
       "<p>2 rows × 59 columns</p>\n",
       "</div>"
      ],
      "text/plain": [
       "   surface_total  surface_covered  floor     rooms  expenses    comuna  \\\n",
       "0       0.000810         0.000993    0.0  0.103448       0.0  1.000000   \n",
       "1       0.001163         0.001060    0.0  0.103448       0.0  0.642857   \n",
       "\n",
       "   barrio_AGRONOMIA  barrio_ALMAGRO  barrio_BALVANERA  barrio_BARRACAS  ...  \\\n",
       "0               0.0             0.0               0.0              0.0  ...   \n",
       "1               0.0             0.0               0.0              0.0  ...   \n",
       "\n",
       "   barrio_VILLA REAL  barrio_VILLA RIACHUELO  barrio_VILLA SANTA RITA  \\\n",
       "0                0.0                     0.0                      0.0   \n",
       "1                0.0                     0.0                      0.0   \n",
       "\n",
       "   barrio_VILLA SOLDATI  barrio_VILLA URQUIZA  price_and_expenses  sup_desc  \\\n",
       "0                   0.0                   0.0            0.278374  0.000000   \n",
       "1                   0.0                   0.0            0.305930  0.001618   \n",
       "\n",
       "   price_m2_desc  property_type_apartment  property_type_house  \n",
       "0       0.000000                      0.0                  1.0  \n",
       "1       0.015993                      0.0                  1.0  \n",
       "\n",
       "[2 rows x 59 columns]"
      ]
     },
     "execution_count": 143,
     "metadata": {},
     "output_type": "execute_result"
    }
   ],
   "source": [
    "X.head(2)"
   ]
  },
  {
   "cell_type": "markdown",
   "id": "9db2a326",
   "metadata": {},
   "source": [
    "##### Separamos el conjunto de datos en Train y Test, quedándonos con un 30% para medir la performance de los modelos"
   ]
  },
  {
   "cell_type": "code",
   "execution_count": 144,
   "id": "2ef5baa0",
   "metadata": {
    "scrolled": true
   },
   "outputs": [],
   "source": [
    "X_train,X_test,y_train,y_test=train_test_split(X,y,train_size=0.7)"
   ]
  },
  {
   "cell_type": "code",
   "execution_count": 145,
   "id": "48148a30",
   "metadata": {},
   "outputs": [
    {
     "data": {
      "text/plain": [
       "((7033, 59), (3015, 59), (7033,), (3015,))"
      ]
     },
     "execution_count": 145,
     "metadata": {},
     "output_type": "execute_result"
    }
   ],
   "source": [
    "# Revisamos el tamaño de cada muestra\n",
    "X_train.shape,X_test.shape,y_train.shape,y_test.shape"
   ]
  },
  {
   "cell_type": "markdown",
   "id": "831d9fd3",
   "metadata": {},
   "source": [
    "#### LinearRegression"
   ]
  },
  {
   "cell_type": "code",
   "execution_count": 146,
   "id": "5b6f811a",
   "metadata": {},
   "outputs": [],
   "source": [
    "lr=LinearRegression()"
   ]
  },
  {
   "cell_type": "code",
   "execution_count": 147,
   "id": "c46def6e",
   "metadata": {},
   "outputs": [],
   "source": [
    "reg = lr.fit(X_train, y_train)"
   ]
  },
  {
   "cell_type": "code",
   "execution_count": 148,
   "id": "41780db3",
   "metadata": {
    "scrolled": true
   },
   "outputs": [
    {
     "data": {
      "text/plain": [
       "array([ 8.47923671e+04, -6.91241272e+04, -2.12457962e-09, -1.49157131e-09,\n",
       "       -3.10840000e+04, -1.74622983e-10, -2.32830644e-10,  7.27595761e-11,\n",
       "        1.74622983e-10, -3.23780114e-10,  2.25554686e-10,  9.82254278e-11,\n",
       "        5.63886715e-11, -1.45519152e-10,  1.09139364e-10, -5.45696821e-11,\n",
       "        9.45874490e-11, -1.23691279e-10, -1.89174898e-10,  3.45607987e-11,\n",
       "       -4.91127139e-11,  9.45874490e-11, -4.36557457e-11,  1.08229870e-10,\n",
       "        9.27684596e-11, -1.01863407e-10,  4.36557457e-10,  3.36513040e-11,\n",
       "       -5.09317033e-11, -2.00088834e-11, -3.63797881e-12,  1.63709046e-10,\n",
       "        8.73114914e-11,  4.94765118e-10, -3.89263732e-10, -9.09494702e-12,\n",
       "       -7.27595761e-11,  3.71073838e-10, -4.86579665e-11,  5.27506927e-11,\n",
       "       -1.36424205e-11, -3.63797881e-11,  4.91127139e-11, -5.82076609e-11,\n",
       "        5.82076609e-11, -6.18456397e-11,  9.68611857e-11,  1.45519152e-11,\n",
       "       -4.00177669e-11,  1.36424205e-11,  1.45519152e-11,  1.02772901e-10,\n",
       "        4.50199877e-11,  1.74622983e-10,  9.07257000e+05, -1.56682399e+04,\n",
       "       -8.00355338e-11, -3.41970008e-10, -3.74711817e-10])"
      ]
     },
     "execution_count": 148,
     "metadata": {},
     "output_type": "execute_result"
    }
   ],
   "source": [
    "lr.coef_"
   ]
  },
  {
   "cell_type": "code",
   "execution_count": 149,
   "id": "735bfe48",
   "metadata": {
    "scrolled": true
   },
   "outputs": [
    {
     "data": {
      "text/plain": [
       "7443.000000000582"
      ]
     },
     "execution_count": 149,
     "metadata": {},
     "output_type": "execute_result"
    }
   ],
   "source": [
    "reg.intercept_"
   ]
  },
  {
   "cell_type": "markdown",
   "id": "c65b4a4b",
   "metadata": {},
   "source": [
    "##### Predecimos y Evaluamos"
   ]
  },
  {
   "cell_type": "code",
   "execution_count": 150,
   "id": "b42e9819",
   "metadata": {},
   "outputs": [],
   "source": [
    "y_train_pred = reg.predict(X_train)\n",
    "y_test_pred = reg.predict(X_test)"
   ]
  },
  {
   "cell_type": "code",
   "execution_count": 151,
   "id": "16899229",
   "metadata": {},
   "outputs": [
    {
     "data": {
      "text/plain": [
       "array([800000., 240000.,  91000., 185000.])"
      ]
     },
     "execution_count": 151,
     "metadata": {},
     "output_type": "execute_result"
    }
   ],
   "source": [
    "# Probamos pocas instancias\n",
    "muestra_datos=X_test.iloc[ :4]\n",
    "reg.predict(muestra_datos)"
   ]
  },
  {
   "cell_type": "code",
   "execution_count": 152,
   "id": "66ec0d22",
   "metadata": {},
   "outputs": [
    {
     "data": {
      "text/plain": [
       "[800000, 240000, 91000, 185000]"
      ]
     },
     "execution_count": 152,
     "metadata": {},
     "output_type": "execute_result"
    }
   ],
   "source": [
    "# Comparamos con los valores reales\n",
    "list(y_test.iloc[ :4])"
   ]
  },
  {
   "cell_type": "code",
   "execution_count": 153,
   "id": "cb3b151c",
   "metadata": {},
   "outputs": [
    {
     "name": "stdout",
     "output_type": "stream",
     "text": [
      "8.58505955287972e-20\n",
      "8.66040542616916e-20\n"
     ]
    }
   ],
   "source": [
    "# Calculamos el error cuadrático medio\n",
    "train_error = mean_squared_error(y_train, y_train_pred)\n",
    "test_error = mean_squared_error(y_test, y_test_pred)\n",
    "\n",
    "print(train_error)\n",
    "print(test_error)"
   ]
  },
  {
   "cell_type": "code",
   "execution_count": 154,
   "id": "d830565a",
   "metadata": {},
   "outputs": [
    {
     "data": {
      "text/plain": [
       "2.9976945370435715e-09"
      ]
     },
     "execution_count": 154,
     "metadata": {},
     "output_type": "execute_result"
    }
   ],
   "source": [
    "# Error absoluto máximo\n",
    "max_error(y_test, y_test_pred)"
   ]
  },
  {
   "cell_type": "markdown",
   "id": "34d09f73",
   "metadata": {},
   "source": [
    "El error cuadrático medio arroja un valor muy bajo, lo que me hace sospechar de que puede haber un error, ya que al considerar 59 variables, es muy dificil que el modelo sea tan 'perfecto'."
   ]
  },
  {
   "cell_type": "markdown",
   "id": "8733b144",
   "metadata": {},
   "source": [
    "### Dataset Limitado: predicción con 6 variables"
   ]
  },
  {
   "cell_type": "markdown",
   "id": "92fc967f",
   "metadata": {},
   "source": [
    "De acuerdo a lo observado precedentemente, y por la cantidad de columnas finales que tiene el dataset, vamos a predecir el valor de venta de las propiedades "
   ]
  },
  {
   "cell_type": "code",
   "execution_count": 155,
   "id": "983c67dc",
   "metadata": {},
   "outputs": [],
   "source": [
    "# Definimos el dataset limitado\n",
    "df_caba = prop_caba[['price_usd','surface_total', 'surface_covered', 'expenses','comuna','property_type_apartment',\n",
    "       'property_type_house']]"
   ]
  },
  {
   "cell_type": "code",
   "execution_count": 156,
   "id": "9cc78403",
   "metadata": {},
   "outputs": [],
   "source": [
    "new_col = ['price_usd','surface_total', 'surface_covered', 'expenses','comuna','property_type_apartment',\n",
    "       'property_type_house']"
   ]
  },
  {
   "cell_type": "code",
   "execution_count": 157,
   "id": "b2b7ad21",
   "metadata": {
    "scrolled": true
   },
   "outputs": [
    {
     "data": {
      "text/html": [
       "<div>\n",
       "<style scoped>\n",
       "    .dataframe tbody tr th:only-of-type {\n",
       "        vertical-align: middle;\n",
       "    }\n",
       "\n",
       "    .dataframe tbody tr th {\n",
       "        vertical-align: top;\n",
       "    }\n",
       "\n",
       "    .dataframe thead th {\n",
       "        text-align: right;\n",
       "    }\n",
       "</style>\n",
       "<table border=\"1\" class=\"dataframe\">\n",
       "  <thead>\n",
       "    <tr style=\"text-align: right;\">\n",
       "      <th></th>\n",
       "      <th>price_usd</th>\n",
       "      <th>surface_total</th>\n",
       "      <th>surface_covered</th>\n",
       "      <th>expenses</th>\n",
       "      <th>comuna</th>\n",
       "      <th>property_type_apartment</th>\n",
       "      <th>property_type_house</th>\n",
       "    </tr>\n",
       "    <tr>\n",
       "      <th>ID</th>\n",
       "      <th></th>\n",
       "      <th></th>\n",
       "      <th></th>\n",
       "      <th></th>\n",
       "      <th></th>\n",
       "      <th></th>\n",
       "      <th></th>\n",
       "    </tr>\n",
       "  </thead>\n",
       "  <tbody>\n",
       "    <tr>\n",
       "      <th>10108</th>\n",
       "      <td>260000</td>\n",
       "      <td>150.0</td>\n",
       "      <td>150.0</td>\n",
       "      <td>0.0</td>\n",
       "      <td>15.0</td>\n",
       "      <td>0</td>\n",
       "      <td>1</td>\n",
       "    </tr>\n",
       "    <tr>\n",
       "      <th>4792</th>\n",
       "      <td>285000</td>\n",
       "      <td>215.0</td>\n",
       "      <td>160.0</td>\n",
       "      <td>0.0</td>\n",
       "      <td>10.0</td>\n",
       "      <td>0</td>\n",
       "      <td>1</td>\n",
       "    </tr>\n",
       "    <tr>\n",
       "      <th>6073</th>\n",
       "      <td>850000</td>\n",
       "      <td>456.0</td>\n",
       "      <td>412.0</td>\n",
       "      <td>0.0</td>\n",
       "      <td>12.0</td>\n",
       "      <td>0</td>\n",
       "      <td>1</td>\n",
       "    </tr>\n",
       "    <tr>\n",
       "      <th>5815</th>\n",
       "      <td>180000</td>\n",
       "      <td>120.0</td>\n",
       "      <td>120.0</td>\n",
       "      <td>0.0</td>\n",
       "      <td>11.0</td>\n",
       "      <td>0</td>\n",
       "      <td>1</td>\n",
       "    </tr>\n",
       "    <tr>\n",
       "      <th>911</th>\n",
       "      <td>515000</td>\n",
       "      <td>170.0</td>\n",
       "      <td>170.0</td>\n",
       "      <td>0.0</td>\n",
       "      <td>13.0</td>\n",
       "      <td>0</td>\n",
       "      <td>1</td>\n",
       "    </tr>\n",
       "    <tr>\n",
       "      <th>...</th>\n",
       "      <td>...</td>\n",
       "      <td>...</td>\n",
       "      <td>...</td>\n",
       "      <td>...</td>\n",
       "      <td>...</td>\n",
       "      <td>...</td>\n",
       "      <td>...</td>\n",
       "    </tr>\n",
       "    <tr>\n",
       "      <th>431</th>\n",
       "      <td>112900</td>\n",
       "      <td>39.0</td>\n",
       "      <td>36.0</td>\n",
       "      <td>2150.0</td>\n",
       "      <td>13.0</td>\n",
       "      <td>1</td>\n",
       "      <td>0</td>\n",
       "    </tr>\n",
       "    <tr>\n",
       "      <th>5580</th>\n",
       "      <td>168000</td>\n",
       "      <td>73.0</td>\n",
       "      <td>62.0</td>\n",
       "      <td>2600.0</td>\n",
       "      <td>3.0</td>\n",
       "      <td>1</td>\n",
       "      <td>0</td>\n",
       "    </tr>\n",
       "    <tr>\n",
       "      <th>7470</th>\n",
       "      <td>70000</td>\n",
       "      <td>23.0</td>\n",
       "      <td>23.0</td>\n",
       "      <td>1400.0</td>\n",
       "      <td>1.0</td>\n",
       "      <td>1</td>\n",
       "      <td>0</td>\n",
       "    </tr>\n",
       "    <tr>\n",
       "      <th>5323</th>\n",
       "      <td>73900</td>\n",
       "      <td>32.0</td>\n",
       "      <td>32.0</td>\n",
       "      <td>1600.0</td>\n",
       "      <td>3.0</td>\n",
       "      <td>1</td>\n",
       "      <td>0</td>\n",
       "    </tr>\n",
       "    <tr>\n",
       "      <th>2310</th>\n",
       "      <td>690000</td>\n",
       "      <td>557.0</td>\n",
       "      <td>375.0</td>\n",
       "      <td>26000.0</td>\n",
       "      <td>14.0</td>\n",
       "      <td>1</td>\n",
       "      <td>0</td>\n",
       "    </tr>\n",
       "  </tbody>\n",
       "</table>\n",
       "<p>10048 rows × 7 columns</p>\n",
       "</div>"
      ],
      "text/plain": [
       "       price_usd  surface_total  surface_covered  expenses  comuna  \\\n",
       "ID                                                                   \n",
       "10108     260000          150.0            150.0       0.0    15.0   \n",
       "4792      285000          215.0            160.0       0.0    10.0   \n",
       "6073      850000          456.0            412.0       0.0    12.0   \n",
       "5815      180000          120.0            120.0       0.0    11.0   \n",
       "911       515000          170.0            170.0       0.0    13.0   \n",
       "...          ...            ...              ...       ...     ...   \n",
       "431       112900           39.0             36.0    2150.0    13.0   \n",
       "5580      168000           73.0             62.0    2600.0     3.0   \n",
       "7470       70000           23.0             23.0    1400.0     1.0   \n",
       "5323       73900           32.0             32.0    1600.0     3.0   \n",
       "2310      690000          557.0            375.0   26000.0    14.0   \n",
       "\n",
       "       property_type_apartment  property_type_house  \n",
       "ID                                                   \n",
       "10108                        0                    1  \n",
       "4792                         0                    1  \n",
       "6073                         0                    1  \n",
       "5815                         0                    1  \n",
       "911                          0                    1  \n",
       "...                        ...                  ...  \n",
       "431                          1                    0  \n",
       "5580                         1                    0  \n",
       "7470                         1                    0  \n",
       "5323                         1                    0  \n",
       "2310                         1                    0  \n",
       "\n",
       "[10048 rows x 7 columns]"
      ]
     },
     "execution_count": 157,
     "metadata": {},
     "output_type": "execute_result"
    }
   ],
   "source": [
    "df_caba"
   ]
  },
  {
   "cell_type": "markdown",
   "id": "7261d606",
   "metadata": {},
   "source": [
    "##### Definimos X e Y"
   ]
  },
  {
   "cell_type": "code",
   "execution_count": 158,
   "id": "cf3a584a",
   "metadata": {},
   "outputs": [],
   "source": [
    "X1=df_caba.drop('price_usd', axis=1)"
   ]
  },
  {
   "cell_type": "code",
   "execution_count": 159,
   "id": "55b30385",
   "metadata": {},
   "outputs": [],
   "source": [
    "y1=df_caba['price_usd']"
   ]
  },
  {
   "cell_type": "markdown",
   "id": "db37fc9a",
   "metadata": {},
   "source": [
    "##### Escalamos los datos (X)"
   ]
  },
  {
   "cell_type": "code",
   "execution_count": 160,
   "id": "0c215906",
   "metadata": {},
   "outputs": [
    {
     "data": {
      "text/plain": [
       "array([[8.09787010e-04, 9.93339956e-04, 0.00000000e+00, 1.00000000e+00,\n",
       "        0.00000000e+00, 1.00000000e+00],\n",
       "       [1.16304980e-03, 1.06000707e-03, 0.00000000e+00, 6.42857143e-01,\n",
       "        0.00000000e+00, 1.00000000e+00],\n",
       "       [2.47283953e-03, 2.74001827e-03, 0.00000000e+00, 7.85714286e-01,\n",
       "        0.00000000e+00, 1.00000000e+00],\n",
       "       ...,\n",
       "       [1.19565867e-04, 1.46667644e-04, 4.50392485e-02, 0.00000000e+00,\n",
       "        1.00000000e+00, 0.00000000e+00],\n",
       "       [1.68479177e-04, 2.06668044e-04, 5.14734268e-02, 1.42857143e-01,\n",
       "        1.00000000e+00, 0.00000000e+00],\n",
       "       [3.02175555e-03, 2.49334996e-03, 8.36443186e-01, 9.28571429e-01,\n",
       "        1.00000000e+00, 0.00000000e+00]])"
      ]
     },
     "execution_count": 160,
     "metadata": {},
     "output_type": "execute_result"
    }
   ],
   "source": [
    "min_max = MinMaxScaler()\n",
    "X1=min_max.fit_transform(X1)\n",
    "X1"
   ]
  },
  {
   "cell_type": "code",
   "execution_count": 161,
   "id": "1ffe6861",
   "metadata": {},
   "outputs": [],
   "source": [
    "# Transformamos X en un dataframe\n",
    "X1= pd.DataFrame(X1, columns= new_col[1:])"
   ]
  },
  {
   "cell_type": "markdown",
   "id": "02409646",
   "metadata": {},
   "source": [
    "##### Separamos el conjunto de datos en Train y Test, quedándonos con un 30% para medir la performance de los modelos"
   ]
  },
  {
   "cell_type": "code",
   "execution_count": 162,
   "id": "ada41952",
   "metadata": {
    "scrolled": true
   },
   "outputs": [],
   "source": [
    "X1_train,X1_test,y1_train,y1_test=train_test_split(X1,y1,train_size=0.7)"
   ]
  },
  {
   "cell_type": "code",
   "execution_count": 163,
   "id": "93cfb6f9",
   "metadata": {},
   "outputs": [
    {
     "data": {
      "text/plain": [
       "((7033, 6), (3015, 6), (7033,), (3015,))"
      ]
     },
     "execution_count": 163,
     "metadata": {},
     "output_type": "execute_result"
    }
   ],
   "source": [
    "# Revisamos el tamaño de cada muestra\n",
    "X1_train.shape,X1_test.shape,y1_train.shape,y1_test.shape"
   ]
  },
  {
   "cell_type": "markdown",
   "id": "8c382893",
   "metadata": {},
   "source": [
    "#### LinearRegression"
   ]
  },
  {
   "cell_type": "code",
   "execution_count": 164,
   "id": "65128b42",
   "metadata": {},
   "outputs": [],
   "source": [
    "lr=LinearRegression()"
   ]
  },
  {
   "cell_type": "code",
   "execution_count": 165,
   "id": "f1c1e70e",
   "metadata": {},
   "outputs": [],
   "source": [
    "reg = lr.fit(X1_train, y1_train)"
   ]
  },
  {
   "cell_type": "markdown",
   "id": "eeaa4627",
   "metadata": {},
   "source": [
    "##### Predecimos y Evaluamos"
   ]
  },
  {
   "cell_type": "code",
   "execution_count": 166,
   "id": "92b3fdcf",
   "metadata": {},
   "outputs": [],
   "source": [
    "y1_train_pred = reg.predict(X1_train)\n",
    "y1_test_pred = reg.predict(X1_test)"
   ]
  },
  {
   "cell_type": "code",
   "execution_count": 167,
   "id": "5d6b9c42",
   "metadata": {},
   "outputs": [
    {
     "name": "stdout",
     "output_type": "stream",
     "text": [
      "17676400338.72615\n",
      "18166702352.77454\n"
     ]
    }
   ],
   "source": [
    "# Calculamos el error cuadrático medio\n",
    "train_error = mean_squared_error(y1_train, y1_train_pred)\n",
    "test_error = mean_squared_error(y1_test, y1_test_pred)\n",
    "\n",
    "print(train_error)\n",
    "print(test_error)"
   ]
  },
  {
   "cell_type": "code",
   "execution_count": 168,
   "id": "1de9fbe6",
   "metadata": {},
   "outputs": [
    {
     "data": {
      "text/plain": [
       "903496.0177416843"
      ]
     },
     "execution_count": 168,
     "metadata": {},
     "output_type": "execute_result"
    }
   ],
   "source": [
    "# Error absoluto máximo\n",
    "max_error(y1_test, y1_test_pred)"
   ]
  },
  {
   "cell_type": "code",
   "execution_count": 169,
   "id": "ca5e224f",
   "metadata": {},
   "outputs": [
    {
     "data": {
      "text/plain": [
       "array([205430.69684699, 205794.7234307 , 191728.30189622, 187817.2703414 ])"
      ]
     },
     "execution_count": 169,
     "metadata": {},
     "output_type": "execute_result"
    }
   ],
   "source": [
    "# Probamos pocas instancias\n",
    "muestra_datos=X1_test.iloc[ :4]\n",
    "reg.predict(muestra_datos)"
   ]
  },
  {
   "cell_type": "code",
   "execution_count": 170,
   "id": "27703108",
   "metadata": {
    "scrolled": true
   },
   "outputs": [
    {
     "data": {
      "text/plain": [
       "[105000, 84000, 261000, 95000]"
      ]
     },
     "execution_count": 170,
     "metadata": {},
     "output_type": "execute_result"
    }
   ],
   "source": [
    "# Comparamos con los valores reales\n",
    "list(y1_test.iloc[ :4])"
   ]
  },
  {
   "cell_type": "markdown",
   "id": "f7cafde8",
   "metadata": {},
   "source": [
    "##### Comparamos 20 casos"
   ]
  },
  {
   "cell_type": "code",
   "execution_count": 171,
   "id": "c2dc33f0",
   "metadata": {},
   "outputs": [
    {
     "data": {
      "text/html": [
       "<div>\n",
       "<style scoped>\n",
       "    .dataframe tbody tr th:only-of-type {\n",
       "        vertical-align: middle;\n",
       "    }\n",
       "\n",
       "    .dataframe tbody tr th {\n",
       "        vertical-align: top;\n",
       "    }\n",
       "\n",
       "    .dataframe thead th {\n",
       "        text-align: right;\n",
       "    }\n",
       "</style>\n",
       "<table border=\"1\" class=\"dataframe\">\n",
       "  <thead>\n",
       "    <tr style=\"text-align: right;\">\n",
       "      <th></th>\n",
       "      <th>valor_real</th>\n",
       "      <th>valor_predicho</th>\n",
       "    </tr>\n",
       "    <tr>\n",
       "      <th>ID</th>\n",
       "      <th></th>\n",
       "      <th></th>\n",
       "    </tr>\n",
       "  </thead>\n",
       "  <tbody>\n",
       "    <tr>\n",
       "      <th>6686</th>\n",
       "      <td>890000</td>\n",
       "      <td>691942.0</td>\n",
       "    </tr>\n",
       "    <tr>\n",
       "      <th>93</th>\n",
       "      <td>890000</td>\n",
       "      <td>522853.0</td>\n",
       "    </tr>\n",
       "    <tr>\n",
       "      <th>10012</th>\n",
       "      <td>890000</td>\n",
       "      <td>521014.0</td>\n",
       "    </tr>\n",
       "    <tr>\n",
       "      <th>3270</th>\n",
       "      <td>890000</td>\n",
       "      <td>429725.0</td>\n",
       "    </tr>\n",
       "    <tr>\n",
       "      <th>10267</th>\n",
       "      <td>890000</td>\n",
       "      <td>149440.0</td>\n",
       "    </tr>\n",
       "    <tr>\n",
       "      <th>2823</th>\n",
       "      <td>890000</td>\n",
       "      <td>534788.0</td>\n",
       "    </tr>\n",
       "    <tr>\n",
       "      <th>3999</th>\n",
       "      <td>890000</td>\n",
       "      <td>664041.0</td>\n",
       "    </tr>\n",
       "    <tr>\n",
       "      <th>3755</th>\n",
       "      <td>890000</td>\n",
       "      <td>745709.0</td>\n",
       "    </tr>\n",
       "    <tr>\n",
       "      <th>777</th>\n",
       "      <td>890000</td>\n",
       "      <td>559134.0</td>\n",
       "    </tr>\n",
       "    <tr>\n",
       "      <th>6187</th>\n",
       "      <td>890000</td>\n",
       "      <td>703742.0</td>\n",
       "    </tr>\n",
       "    <tr>\n",
       "      <th>9147</th>\n",
       "      <td>890000</td>\n",
       "      <td>535183.0</td>\n",
       "    </tr>\n",
       "    <tr>\n",
       "      <th>246</th>\n",
       "      <td>890000</td>\n",
       "      <td>562245.0</td>\n",
       "    </tr>\n",
       "    <tr>\n",
       "      <th>2841</th>\n",
       "      <td>890000</td>\n",
       "      <td>520025.0</td>\n",
       "    </tr>\n",
       "    <tr>\n",
       "      <th>6452</th>\n",
       "      <td>880000</td>\n",
       "      <td>527886.0</td>\n",
       "    </tr>\n",
       "    <tr>\n",
       "      <th>2724</th>\n",
       "      <td>880000</td>\n",
       "      <td>534860.0</td>\n",
       "    </tr>\n",
       "    <tr>\n",
       "      <th>4559</th>\n",
       "      <td>880000</td>\n",
       "      <td>587596.0</td>\n",
       "    </tr>\n",
       "    <tr>\n",
       "      <th>7300</th>\n",
       "      <td>880000</td>\n",
       "      <td>516933.0</td>\n",
       "    </tr>\n",
       "    <tr>\n",
       "      <th>4326</th>\n",
       "      <td>878000</td>\n",
       "      <td>558221.0</td>\n",
       "    </tr>\n",
       "    <tr>\n",
       "      <th>8247</th>\n",
       "      <td>875000</td>\n",
       "      <td>368051.0</td>\n",
       "    </tr>\n",
       "    <tr>\n",
       "      <th>4083</th>\n",
       "      <td>875000</td>\n",
       "      <td>123387.0</td>\n",
       "    </tr>\n",
       "  </tbody>\n",
       "</table>\n",
       "</div>"
      ],
      "text/plain": [
       "       valor_real  valor_predicho\n",
       "ID                               \n",
       "6686       890000        691942.0\n",
       "93         890000        522853.0\n",
       "10012      890000        521014.0\n",
       "3270       890000        429725.0\n",
       "10267      890000        149440.0\n",
       "2823       890000        534788.0\n",
       "3999       890000        664041.0\n",
       "3755       890000        745709.0\n",
       "777        890000        559134.0\n",
       "6187       890000        703742.0\n",
       "9147       890000        535183.0\n",
       "246        890000        562245.0\n",
       "2841       890000        520025.0\n",
       "6452       880000        527886.0\n",
       "2724       880000        534860.0\n",
       "4559       880000        587596.0\n",
       "7300       880000        516933.0\n",
       "4326       878000        558221.0\n",
       "8247       875000        368051.0\n",
       "4083       875000        123387.0"
      ]
     },
     "execution_count": 171,
     "metadata": {},
     "output_type": "execute_result"
    }
   ],
   "source": [
    "df_resultados = pd.DataFrame({\n",
    "                                #'features':features,\n",
    "                                'valor_real':y1_test,\n",
    "                                'valor_predicho': y1_test_pred\n",
    "                                })\n",
    "df_resultados.sort_values(by='valor_real', ascending=False, inplace=True)\n",
    "df_resultados.head(20).round()"
   ]
  },
  {
   "cell_type": "markdown",
   "id": "f11c158e",
   "metadata": {},
   "source": [
    "El modelo antarior, es bastante malo precidiendo el valor de las propiedades. Vamos a probar otros modelos para ver si mejora la predicción."
   ]
  },
  {
   "cell_type": "markdown",
   "id": "b4bd3f30",
   "metadata": {},
   "source": [
    "##### Cross validation\n",
    "La validación cruzada o cross validation (CV) es una de las técticas utilizadas para probar la efectividad de los modelos de Machine Learning.\n",
    "Consiste en tomar los datos originales, y crear a partir de ellos, dos conjuntos separados: uno para entrenamiento, y uno para prueba. Este procedimiento se repetirá k veces, y en cada iteración se seleccionarán conjuntos diferentes y se aplicará algún método de medición de desempeño, tal como el error cuadrático medio.\n",
    "Al final las iteraciones, se calcula el promedio y std del parámetro de desempeño.\n",
    "este procedimiento se repite para todos los modelos que se estén evaluando, y se elegirá el modelo que tenga la media y std mas pequeña."
   ]
  },
  {
   "cell_type": "code",
   "execution_count": 172,
   "id": "aacd13c2",
   "metadata": {
    "code_folding": [],
    "scrolled": true
   },
   "outputs": [
    {
     "data": {
      "text/plain": [
       "array([-3.22033267e+10, -1.49308764e+11, -1.19600941e+10, -1.30661000e+10,\n",
       "       -1.35029856e+10, -1.13107012e+10, -1.19758426e+10, -1.30632071e+10,\n",
       "       -1.33563379e+10, -1.19771491e+10])"
      ]
     },
     "execution_count": 172,
     "metadata": {},
     "output_type": "execute_result"
    }
   ],
   "source": [
    "# Evaluamos el modelo usando crossvalidation\n",
    "linear_scores=cross_val_score(lr, X1,y1,\n",
    "                             scoring='neg_mean_squared_error',cv=10)\n",
    "linear_scores"
   ]
  },
  {
   "cell_type": "code",
   "execution_count": 173,
   "id": "7893dee2",
   "metadata": {
    "scrolled": true
   },
   "outputs": [
    {
     "data": {
      "text/plain": [
       "array([179452.85360692, 386404.92284989, 109362.21520757, 114307.04267742,\n",
       "       116202.34746818, 106351.78027862, 109434.1928376 , 114294.38806103,\n",
       "       115569.62380351, 109440.16226972])"
      ]
     },
     "execution_count": 173,
     "metadata": {},
     "output_type": "execute_result"
    }
   ],
   "source": [
    "# Cambiamos el signo y sacamos la raiz\n",
    "linear_rmse_Scores=np.sqrt(-linear_scores)\n",
    "linear_rmse_Scores"
   ]
  },
  {
   "cell_type": "code",
   "execution_count": 174,
   "id": "6f8a826b",
   "metadata": {},
   "outputs": [],
   "source": [
    "# Definimos una función que nos devuelva el score, mean y std\n",
    "def display_scores(scores):\n",
    "    print('Scores:', scores)\n",
    "    print('Mean:', scores.mean())\n",
    "    print('Std:', scores.std())\n",
    "    "
   ]
  },
  {
   "cell_type": "code",
   "execution_count": 175,
   "id": "4a525305",
   "metadata": {
    "scrolled": false
   },
   "outputs": [
    {
     "name": "stdout",
     "output_type": "stream",
     "text": [
      "Scores: [179452.85360692 386404.92284989 109362.21520757 114307.04267742\n",
      " 116202.34746818 106351.78027862 109434.1928376  114294.38806103\n",
      " 115569.62380351 109440.16226972]\n",
      "Mean: 146081.95290604644\n",
      "Std: 82659.02191299884\n"
     ]
    }
   ],
   "source": [
    "display_scores(linear_rmse_Scores)"
   ]
  },
  {
   "cell_type": "markdown",
   "id": "7821bd84",
   "metadata": {},
   "source": [
    "#### RandomForestRegressor"
   ]
  },
  {
   "cell_type": "code",
   "execution_count": 176,
   "id": "26e40999",
   "metadata": {},
   "outputs": [],
   "source": [
    "rf_reg=RandomForestRegressor(random_state=0, n_estimators=10)"
   ]
  },
  {
   "cell_type": "code",
   "execution_count": 177,
   "id": "04aface7",
   "metadata": {},
   "outputs": [],
   "source": [
    "rf = rf_reg.fit(X1_train, y1_train)"
   ]
  },
  {
   "cell_type": "code",
   "execution_count": 178,
   "id": "d87e5320",
   "metadata": {},
   "outputs": [],
   "source": [
    "y1_train_pred = rf.predict(X1_train)\n",
    "y1_test_pred = rf.predict(X1_test)"
   ]
  },
  {
   "cell_type": "code",
   "execution_count": 179,
   "id": "780a73e8",
   "metadata": {},
   "outputs": [
    {
     "name": "stdout",
     "output_type": "stream",
     "text": [
      "894058585.9992019\n",
      "4649291413.964465\n"
     ]
    }
   ],
   "source": [
    "# Calculamos el error cuadrático medio\n",
    "train_error = mean_squared_error(y1_train, y1_train_pred)\n",
    "test_error = mean_squared_error(y1_test, y1_test_pred)\n",
    "\n",
    "print(train_error)\n",
    "print(test_error)"
   ]
  },
  {
   "cell_type": "code",
   "execution_count": 180,
   "id": "af7ede84",
   "metadata": {},
   "outputs": [
    {
     "data": {
      "text/plain": [
       "483666.6666666667"
      ]
     },
     "execution_count": 180,
     "metadata": {},
     "output_type": "execute_result"
    }
   ],
   "source": [
    "# Error absoluto máximo\n",
    "max_error(y1_test, y1_test_pred)"
   ]
  },
  {
   "cell_type": "code",
   "execution_count": 181,
   "id": "1729641c",
   "metadata": {},
   "outputs": [
    {
     "data": {
      "text/plain": [
       "array([110259.56666667,  95204.9       , 140446.9       , 185190.        ])"
      ]
     },
     "execution_count": 181,
     "metadata": {},
     "output_type": "execute_result"
    }
   ],
   "source": [
    "# Probamos pocas instancias\n",
    "muestra_datos=X1_test.iloc[ :4]\n",
    "rf.predict(muestra_datos)"
   ]
  },
  {
   "cell_type": "code",
   "execution_count": 182,
   "id": "2c190f2c",
   "metadata": {},
   "outputs": [
    {
     "data": {
      "text/plain": [
       "[105000, 84000, 261000, 95000]"
      ]
     },
     "execution_count": 182,
     "metadata": {},
     "output_type": "execute_result"
    }
   ],
   "source": [
    "# Comparamos con los valores reales\n",
    "list(y1_test.iloc[ :4])"
   ]
  },
  {
   "cell_type": "markdown",
   "id": "d471bf4c",
   "metadata": {},
   "source": [
    "##### Crossvalidation"
   ]
  },
  {
   "cell_type": "code",
   "execution_count": 183,
   "id": "1902a551",
   "metadata": {
    "code_folding": [],
    "scrolled": true
   },
   "outputs": [
    {
     "data": {
      "text/plain": [
       "array([-7.47934110e+09, -7.89081550e+09, -3.57293538e+09, -3.77075496e+09,\n",
       "       -3.63938476e+09, -4.18884928e+09, -4.30678123e+09, -4.22944512e+09,\n",
       "       -3.55634709e+09, -4.16567169e+09])"
      ]
     },
     "execution_count": 183,
     "metadata": {},
     "output_type": "execute_result"
    }
   ],
   "source": [
    "# Evaluamos el modelo usando crossvalidation\n",
    "rf_scores=cross_val_score(rf, X1,y1,\n",
    "                             scoring='neg_mean_squared_error',cv=10)\n",
    "rf_scores"
   ]
  },
  {
   "cell_type": "code",
   "execution_count": 184,
   "id": "3424c416",
   "metadata": {
    "scrolled": true
   },
   "outputs": [
    {
     "data": {
      "text/plain": [
       "array([86483.18391506, 88830.26227902, 59774.03600319, 61406.47329786,\n",
       "       60327.31357209, 64721.32015619, 65626.07125056, 65034.18426796,\n",
       "       59635.11625917, 64542.01491445])"
      ]
     },
     "execution_count": 184,
     "metadata": {},
     "output_type": "execute_result"
    }
   ],
   "source": [
    "# Cambiamos el signo y sacamos la raiz\n",
    "rf_rmse_Scores=np.sqrt(-rf_scores)\n",
    "rf_rmse_Scores"
   ]
  },
  {
   "cell_type": "code",
   "execution_count": 185,
   "id": "acd82737",
   "metadata": {
    "scrolled": true
   },
   "outputs": [
    {
     "name": "stdout",
     "output_type": "stream",
     "text": [
      "Scores: [86483.18391506 88830.26227902 59774.03600319 61406.47329786\n",
      " 60327.31357209 64721.32015619 65626.07125056 65034.18426796\n",
      " 59635.11625917 64542.01491445]\n",
      "Mean: 67637.99759155448\n",
      "Std: 10253.48201790284\n"
     ]
    }
   ],
   "source": [
    "display_scores(rf_rmse_Scores)"
   ]
  },
  {
   "cell_type": "markdown",
   "id": "b70bbe93",
   "metadata": {},
   "source": [
    "#### Decision Tree"
   ]
  },
  {
   "cell_type": "code",
   "execution_count": 186,
   "id": "d11c0157",
   "metadata": {},
   "outputs": [],
   "source": [
    "tree_reg=DecisionTreeRegressor(random_state=0)"
   ]
  },
  {
   "cell_type": "code",
   "execution_count": 187,
   "id": "be0ff18c",
   "metadata": {},
   "outputs": [],
   "source": [
    "tree = tree_reg.fit(X1_train, y1_train)"
   ]
  },
  {
   "cell_type": "code",
   "execution_count": 188,
   "id": "c8185453",
   "metadata": {},
   "outputs": [],
   "source": [
    "y1_train_pred = tree.predict(X1_train)\n",
    "y1_test_pred = tree.predict(X1_test)"
   ]
  },
  {
   "cell_type": "code",
   "execution_count": 189,
   "id": "c57aae12",
   "metadata": {},
   "outputs": [
    {
     "name": "stdout",
     "output_type": "stream",
     "text": [
      "37444694.126901746\n",
      "7831496623.163267\n"
     ]
    }
   ],
   "source": [
    "# Calculamos el error cuadrático medio\n",
    "train_error = mean_squared_error(y1_train, y1_train_pred)\n",
    "test_error = mean_squared_error(y1_test, y1_test_pred)\n",
    "\n",
    "print(train_error)\n",
    "print(test_error)"
   ]
  },
  {
   "cell_type": "code",
   "execution_count": 190,
   "id": "1d6fbfd1",
   "metadata": {},
   "outputs": [
    {
     "data": {
      "text/plain": [
       "760000.0"
      ]
     },
     "execution_count": 190,
     "metadata": {},
     "output_type": "execute_result"
    }
   ],
   "source": [
    "# Error absoluto máximo\n",
    "max_error(y1_test, y1_test_pred)"
   ]
  },
  {
   "cell_type": "code",
   "execution_count": 191,
   "id": "0a0a9f83",
   "metadata": {},
   "outputs": [
    {
     "data": {
      "text/plain": [
       "array([105000.,  87000., 175000., 197900.])"
      ]
     },
     "execution_count": 191,
     "metadata": {},
     "output_type": "execute_result"
    }
   ],
   "source": [
    "# Probamos pocas instancias\n",
    "muestra_datos=X1_test.iloc[ :4]\n",
    "tree.predict(muestra_datos)"
   ]
  },
  {
   "cell_type": "code",
   "execution_count": 192,
   "id": "a06d1f52",
   "metadata": {},
   "outputs": [
    {
     "data": {
      "text/plain": [
       "[105000, 84000, 261000, 95000]"
      ]
     },
     "execution_count": 192,
     "metadata": {},
     "output_type": "execute_result"
    }
   ],
   "source": [
    "# Comparamos con los valores reales\n",
    "list(y1_test.iloc[ :4])"
   ]
  },
  {
   "cell_type": "markdown",
   "id": "4229e468",
   "metadata": {},
   "source": [
    "##### Crossvalidation"
   ]
  },
  {
   "cell_type": "code",
   "execution_count": 193,
   "id": "8ed4c070",
   "metadata": {
    "code_folding": [],
    "scrolled": true
   },
   "outputs": [
    {
     "data": {
      "text/plain": [
       "array([-1.10943512e+10, -1.33104927e+10, -6.33486727e+09, -6.66666788e+09,\n",
       "       -6.05265666e+09, -6.30295747e+09, -6.32940048e+09, -6.68285429e+09,\n",
       "       -7.06163208e+09, -7.33125003e+09])"
      ]
     },
     "execution_count": 193,
     "metadata": {},
     "output_type": "execute_result"
    }
   ],
   "source": [
    "# Evaluamos el modelo usando crossvalidation\n",
    "tree_reg_scores=cross_val_score(tree, X1,y1,\n",
    "                             scoring='neg_mean_squared_error',cv=10)\n",
    "tree_reg_scores"
   ]
  },
  {
   "cell_type": "code",
   "execution_count": 194,
   "id": "395baaac",
   "metadata": {
    "scrolled": true
   },
   "outputs": [
    {
     "data": {
      "text/plain": [
       "array([105329.72602977, 115371.10871019,  79591.8793982 ,  81649.66552117,\n",
       "        77798.82169541,  79391.16748397,  79557.52940126,  81748.72654703,\n",
       "        84033.51757568,  85622.71912998])"
      ]
     },
     "execution_count": 194,
     "metadata": {},
     "output_type": "execute_result"
    }
   ],
   "source": [
    "# Cambiamos el signo y sacamos la raiz\n",
    "tree_rmse_Scores=np.sqrt(-tree_reg_scores)\n",
    "tree_rmse_Scores"
   ]
  },
  {
   "cell_type": "code",
   "execution_count": 195,
   "id": "017e38c8",
   "metadata": {
    "scrolled": true
   },
   "outputs": [
    {
     "name": "stdout",
     "output_type": "stream",
     "text": [
      "Scores: [105329.72602977 115371.10871019  79591.8793982   81649.66552117\n",
      "  77798.82169541  79391.16748397  79557.52940126  81748.72654703\n",
      "  84033.51757568  85622.71912998]\n",
      "Mean: 87009.48614926588\n",
      "Std: 12085.624817513928\n"
     ]
    }
   ],
   "source": [
    "display_scores(tree_rmse_Scores)"
   ]
  },
  {
   "cell_type": "markdown",
   "id": "9e0cde8d",
   "metadata": {},
   "source": [
    "**De los 3 modelos, el que tiene menor STD es el RandomForestRegressor**"
   ]
  },
  {
   "cell_type": "markdown",
   "id": "78d2b4ae",
   "metadata": {},
   "source": [
    "# Importamos un dataset adicional para enriquecer el dataset con información pública\n",
    "\n",
    "A continuación, vamos a importar un dataset obtenido de la página de datos abiertos de CABA. Este conjunto de datos, denominado **Delitos**, contiene los homicidios, hurtos (sin violencia), lesiones y robos (con violencia) que ocurrieron en el ámbito de la Ciudad de Buenos Aires. Específicamente consideramos los datos para el año 2021.\n",
    "El objetivo de incorporar este dataset, es verificar si añadiendo información adicionalpodemos obtener mejores resultados en la predicción"
   ]
  },
  {
   "cell_type": "markdown",
   "id": "8da7761a",
   "metadata": {},
   "source": [
    "### Exportamos los datos"
   ]
  },
  {
   "cell_type": "code",
   "execution_count": 196,
   "id": "bf16c06a",
   "metadata": {},
   "outputs": [],
   "source": [
    "df_delitos = pd.read_excel('DELITOS_2021.xlsx',sheet_name='delitos_2021') "
   ]
  },
  {
   "cell_type": "code",
   "execution_count": 197,
   "id": "9de638a2",
   "metadata": {
    "scrolled": true
   },
   "outputs": [
    {
     "data": {
      "text/html": [
       "<div>\n",
       "<style scoped>\n",
       "    .dataframe tbody tr th:only-of-type {\n",
       "        vertical-align: middle;\n",
       "    }\n",
       "\n",
       "    .dataframe tbody tr th {\n",
       "        vertical-align: top;\n",
       "    }\n",
       "\n",
       "    .dataframe thead th {\n",
       "        text-align: right;\n",
       "    }\n",
       "</style>\n",
       "<table border=\"1\" class=\"dataframe\">\n",
       "  <thead>\n",
       "    <tr style=\"text-align: right;\">\n",
       "      <th></th>\n",
       "      <th>id-mapa</th>\n",
       "      <th>anio</th>\n",
       "      <th>mes</th>\n",
       "      <th>dia</th>\n",
       "      <th>fecha</th>\n",
       "      <th>franja</th>\n",
       "      <th>tipo</th>\n",
       "      <th>subtipo</th>\n",
       "      <th>uso_armas</th>\n",
       "      <th>barrio</th>\n",
       "      <th>comuna</th>\n",
       "      <th>latitud</th>\n",
       "      <th>longitud</th>\n",
       "      <th>cantidad</th>\n",
       "    </tr>\n",
       "  </thead>\n",
       "  <tbody>\n",
       "    <tr>\n",
       "      <th>0</th>\n",
       "      <td>HC-2021-1008202</td>\n",
       "      <td>2021</td>\n",
       "      <td>Enero</td>\n",
       "      <td>Miércoles</td>\n",
       "      <td>2021-01-06</td>\n",
       "      <td>18</td>\n",
       "      <td>Homicidio</td>\n",
       "      <td>Siniestro Vial</td>\n",
       "      <td>NaN</td>\n",
       "      <td>Constitución</td>\n",
       "      <td>1.0</td>\n",
       "      <td>-34.62761</td>\n",
       "      <td>-58.379146</td>\n",
       "      <td>1.0</td>\n",
       "    </tr>\n",
       "    <tr>\n",
       "      <th>1</th>\n",
       "      <td>HC-2021-1009094</td>\n",
       "      <td>2021</td>\n",
       "      <td>Enero</td>\n",
       "      <td>Jueves</td>\n",
       "      <td>2021-01-07</td>\n",
       "      <td>10</td>\n",
       "      <td>Homicidio</td>\n",
       "      <td>Siniestro Vial</td>\n",
       "      <td>NaN</td>\n",
       "      <td>Mataderos</td>\n",
       "      <td>9.0</td>\n",
       "      <td>-34.64973</td>\n",
       "      <td>-58.51059</td>\n",
       "      <td>1.0</td>\n",
       "    </tr>\n",
       "    <tr>\n",
       "      <th>2</th>\n",
       "      <td>HC-2021-1013236</td>\n",
       "      <td>2021</td>\n",
       "      <td>Enero</td>\n",
       "      <td>Domingo</td>\n",
       "      <td>2021-01-10</td>\n",
       "      <td>7</td>\n",
       "      <td>Homicidio</td>\n",
       "      <td>Siniestro Vial</td>\n",
       "      <td>NaN</td>\n",
       "      <td>Parque Chacabuco</td>\n",
       "      <td>7.0</td>\n",
       "      <td>-34.629172</td>\n",
       "      <td>-58.430581</td>\n",
       "      <td>1.0</td>\n",
       "    </tr>\n",
       "    <tr>\n",
       "      <th>3</th>\n",
       "      <td>HC-2021-1014154</td>\n",
       "      <td>2021</td>\n",
       "      <td>Enero</td>\n",
       "      <td>Lunes</td>\n",
       "      <td>2021-01-11</td>\n",
       "      <td>9</td>\n",
       "      <td>Homicidio</td>\n",
       "      <td>Siniestro Vial</td>\n",
       "      <td>NaN</td>\n",
       "      <td>Nueva Pompeya</td>\n",
       "      <td>5.0</td>\n",
       "      <td>-34.638676</td>\n",
       "      <td>-58.414555</td>\n",
       "      <td>1.0</td>\n",
       "    </tr>\n",
       "    <tr>\n",
       "      <th>4</th>\n",
       "      <td>HC-2021-1015476</td>\n",
       "      <td>2021</td>\n",
       "      <td>Enero</td>\n",
       "      <td>Lunes</td>\n",
       "      <td>2021-01-11</td>\n",
       "      <td>21</td>\n",
       "      <td>Homicidio</td>\n",
       "      <td>Siniestro Vial</td>\n",
       "      <td>NaN</td>\n",
       "      <td>Parque Avellaneda</td>\n",
       "      <td>9.0</td>\n",
       "      <td>-34.647714</td>\n",
       "      <td>-58.468066</td>\n",
       "      <td>1.0</td>\n",
       "    </tr>\n",
       "  </tbody>\n",
       "</table>\n",
       "</div>"
      ],
      "text/plain": [
       "           id-mapa  anio    mes        dia      fecha franja       tipo  \\\n",
       "0  HC-2021-1008202  2021  Enero  Miércoles 2021-01-06     18  Homicidio   \n",
       "1  HC-2021-1009094  2021  Enero     Jueves 2021-01-07     10  Homicidio   \n",
       "2  HC-2021-1013236  2021  Enero    Domingo 2021-01-10      7  Homicidio   \n",
       "3  HC-2021-1014154  2021  Enero      Lunes 2021-01-11      9  Homicidio   \n",
       "4  HC-2021-1015476  2021  Enero      Lunes 2021-01-11     21  Homicidio   \n",
       "\n",
       "          subtipo uso_armas             barrio  comuna    latitud   longitud  \\\n",
       "0  Siniestro Vial       NaN       Constitución     1.0  -34.62761 -58.379146   \n",
       "1  Siniestro Vial       NaN          Mataderos     9.0  -34.64973  -58.51059   \n",
       "2  Siniestro Vial       NaN   Parque Chacabuco     7.0 -34.629172 -58.430581   \n",
       "3  Siniestro Vial       NaN      Nueva Pompeya     5.0 -34.638676 -58.414555   \n",
       "4  Siniestro Vial       NaN  Parque Avellaneda     9.0 -34.647714 -58.468066   \n",
       "\n",
       "   cantidad  \n",
       "0       1.0  \n",
       "1       1.0  \n",
       "2       1.0  \n",
       "3       1.0  \n",
       "4       1.0  "
      ]
     },
     "execution_count": 197,
     "metadata": {},
     "output_type": "execute_result"
    }
   ],
   "source": [
    "df_delitos.head(5)"
   ]
  },
  {
   "cell_type": "code",
   "execution_count": 198,
   "id": "f25f19ce",
   "metadata": {},
   "outputs": [],
   "source": [
    "# Creamos un dataset con la cantidad de delitos por comuna\n",
    "delitos_comuna=df_delitos['cantidad'].groupby(df_delitos['comuna']).size().reset_index(name='cantidad_delitos_por_comuna')"
   ]
  },
  {
   "cell_type": "code",
   "execution_count": 199,
   "id": "c3839bc7",
   "metadata": {
    "scrolled": true
   },
   "outputs": [
    {
     "data": {
      "text/html": [
       "<div>\n",
       "<style scoped>\n",
       "    .dataframe tbody tr th:only-of-type {\n",
       "        vertical-align: middle;\n",
       "    }\n",
       "\n",
       "    .dataframe tbody tr th {\n",
       "        vertical-align: top;\n",
       "    }\n",
       "\n",
       "    .dataframe thead th {\n",
       "        text-align: right;\n",
       "    }\n",
       "</style>\n",
       "<table border=\"1\" class=\"dataframe\">\n",
       "  <thead>\n",
       "    <tr style=\"text-align: right;\">\n",
       "      <th></th>\n",
       "      <th>comuna</th>\n",
       "      <th>cantidad_delitos_por_comuna</th>\n",
       "    </tr>\n",
       "  </thead>\n",
       "  <tbody>\n",
       "    <tr>\n",
       "      <th>0</th>\n",
       "      <td>0.0</td>\n",
       "      <td>517</td>\n",
       "    </tr>\n",
       "    <tr>\n",
       "      <th>1</th>\n",
       "      <td>1.0</td>\n",
       "      <td>9447</td>\n",
       "    </tr>\n",
       "    <tr>\n",
       "      <th>2</th>\n",
       "      <td>2.0</td>\n",
       "      <td>4397</td>\n",
       "    </tr>\n",
       "    <tr>\n",
       "      <th>3</th>\n",
       "      <td>3.0</td>\n",
       "      <td>7579</td>\n",
       "    </tr>\n",
       "    <tr>\n",
       "      <th>4</th>\n",
       "      <td>4.0</td>\n",
       "      <td>7796</td>\n",
       "    </tr>\n",
       "    <tr>\n",
       "      <th>5</th>\n",
       "      <td>5.0</td>\n",
       "      <td>5019</td>\n",
       "    </tr>\n",
       "    <tr>\n",
       "      <th>6</th>\n",
       "      <td>6.0</td>\n",
       "      <td>4047</td>\n",
       "    </tr>\n",
       "    <tr>\n",
       "      <th>7</th>\n",
       "      <td>7.0</td>\n",
       "      <td>6767</td>\n",
       "    </tr>\n",
       "    <tr>\n",
       "      <th>8</th>\n",
       "      <td>8.0</td>\n",
       "      <td>5713</td>\n",
       "    </tr>\n",
       "    <tr>\n",
       "      <th>9</th>\n",
       "      <td>9.0</td>\n",
       "      <td>5203</td>\n",
       "    </tr>\n",
       "    <tr>\n",
       "      <th>10</th>\n",
       "      <td>10.0</td>\n",
       "      <td>4225</td>\n",
       "    </tr>\n",
       "    <tr>\n",
       "      <th>11</th>\n",
       "      <td>11.0</td>\n",
       "      <td>3919</td>\n",
       "    </tr>\n",
       "    <tr>\n",
       "      <th>12</th>\n",
       "      <td>12.0</td>\n",
       "      <td>4707</td>\n",
       "    </tr>\n",
       "    <tr>\n",
       "      <th>13</th>\n",
       "      <td>13.0</td>\n",
       "      <td>5670</td>\n",
       "    </tr>\n",
       "    <tr>\n",
       "      <th>14</th>\n",
       "      <td>14.0</td>\n",
       "      <td>7785</td>\n",
       "    </tr>\n",
       "    <tr>\n",
       "      <th>15</th>\n",
       "      <td>15.0</td>\n",
       "      <td>5116</td>\n",
       "    </tr>\n",
       "  </tbody>\n",
       "</table>\n",
       "</div>"
      ],
      "text/plain": [
       "    comuna  cantidad_delitos_por_comuna\n",
       "0      0.0                          517\n",
       "1      1.0                         9447\n",
       "2      2.0                         4397\n",
       "3      3.0                         7579\n",
       "4      4.0                         7796\n",
       "5      5.0                         5019\n",
       "6      6.0                         4047\n",
       "7      7.0                         6767\n",
       "8      8.0                         5713\n",
       "9      9.0                         5203\n",
       "10    10.0                         4225\n",
       "11    11.0                         3919\n",
       "12    12.0                         4707\n",
       "13    13.0                         5670\n",
       "14    14.0                         7785\n",
       "15    15.0                         5116"
      ]
     },
     "execution_count": 199,
     "metadata": {},
     "output_type": "execute_result"
    }
   ],
   "source": [
    "delitos_comuna"
   ]
  },
  {
   "cell_type": "code",
   "execution_count": 200,
   "id": "fbd244c3",
   "metadata": {},
   "outputs": [],
   "source": [
    "# reset index\n",
    "df_caba.reset_index(inplace=True, drop=False)"
   ]
  },
  {
   "cell_type": "code",
   "execution_count": 201,
   "id": "2daaeefb",
   "metadata": {},
   "outputs": [
    {
     "data": {
      "text/html": [
       "<div>\n",
       "<style scoped>\n",
       "    .dataframe tbody tr th:only-of-type {\n",
       "        vertical-align: middle;\n",
       "    }\n",
       "\n",
       "    .dataframe tbody tr th {\n",
       "        vertical-align: top;\n",
       "    }\n",
       "\n",
       "    .dataframe thead th {\n",
       "        text-align: right;\n",
       "    }\n",
       "</style>\n",
       "<table border=\"1\" class=\"dataframe\">\n",
       "  <thead>\n",
       "    <tr style=\"text-align: right;\">\n",
       "      <th></th>\n",
       "      <th>ID</th>\n",
       "      <th>price_usd</th>\n",
       "      <th>surface_total</th>\n",
       "      <th>surface_covered</th>\n",
       "      <th>expenses</th>\n",
       "      <th>comuna</th>\n",
       "      <th>property_type_apartment</th>\n",
       "      <th>property_type_house</th>\n",
       "    </tr>\n",
       "  </thead>\n",
       "  <tbody>\n",
       "    <tr>\n",
       "      <th>0</th>\n",
       "      <td>10108</td>\n",
       "      <td>260000</td>\n",
       "      <td>150.0</td>\n",
       "      <td>150.0</td>\n",
       "      <td>0.0</td>\n",
       "      <td>15.0</td>\n",
       "      <td>0</td>\n",
       "      <td>1</td>\n",
       "    </tr>\n",
       "    <tr>\n",
       "      <th>1</th>\n",
       "      <td>4792</td>\n",
       "      <td>285000</td>\n",
       "      <td>215.0</td>\n",
       "      <td>160.0</td>\n",
       "      <td>0.0</td>\n",
       "      <td>10.0</td>\n",
       "      <td>0</td>\n",
       "      <td>1</td>\n",
       "    </tr>\n",
       "    <tr>\n",
       "      <th>2</th>\n",
       "      <td>6073</td>\n",
       "      <td>850000</td>\n",
       "      <td>456.0</td>\n",
       "      <td>412.0</td>\n",
       "      <td>0.0</td>\n",
       "      <td>12.0</td>\n",
       "      <td>0</td>\n",
       "      <td>1</td>\n",
       "    </tr>\n",
       "    <tr>\n",
       "      <th>3</th>\n",
       "      <td>5815</td>\n",
       "      <td>180000</td>\n",
       "      <td>120.0</td>\n",
       "      <td>120.0</td>\n",
       "      <td>0.0</td>\n",
       "      <td>11.0</td>\n",
       "      <td>0</td>\n",
       "      <td>1</td>\n",
       "    </tr>\n",
       "    <tr>\n",
       "      <th>4</th>\n",
       "      <td>911</td>\n",
       "      <td>515000</td>\n",
       "      <td>170.0</td>\n",
       "      <td>170.0</td>\n",
       "      <td>0.0</td>\n",
       "      <td>13.0</td>\n",
       "      <td>0</td>\n",
       "      <td>1</td>\n",
       "    </tr>\n",
       "    <tr>\n",
       "      <th>...</th>\n",
       "      <td>...</td>\n",
       "      <td>...</td>\n",
       "      <td>...</td>\n",
       "      <td>...</td>\n",
       "      <td>...</td>\n",
       "      <td>...</td>\n",
       "      <td>...</td>\n",
       "      <td>...</td>\n",
       "    </tr>\n",
       "    <tr>\n",
       "      <th>10043</th>\n",
       "      <td>431</td>\n",
       "      <td>112900</td>\n",
       "      <td>39.0</td>\n",
       "      <td>36.0</td>\n",
       "      <td>2150.0</td>\n",
       "      <td>13.0</td>\n",
       "      <td>1</td>\n",
       "      <td>0</td>\n",
       "    </tr>\n",
       "    <tr>\n",
       "      <th>10044</th>\n",
       "      <td>5580</td>\n",
       "      <td>168000</td>\n",
       "      <td>73.0</td>\n",
       "      <td>62.0</td>\n",
       "      <td>2600.0</td>\n",
       "      <td>3.0</td>\n",
       "      <td>1</td>\n",
       "      <td>0</td>\n",
       "    </tr>\n",
       "    <tr>\n",
       "      <th>10045</th>\n",
       "      <td>7470</td>\n",
       "      <td>70000</td>\n",
       "      <td>23.0</td>\n",
       "      <td>23.0</td>\n",
       "      <td>1400.0</td>\n",
       "      <td>1.0</td>\n",
       "      <td>1</td>\n",
       "      <td>0</td>\n",
       "    </tr>\n",
       "    <tr>\n",
       "      <th>10046</th>\n",
       "      <td>5323</td>\n",
       "      <td>73900</td>\n",
       "      <td>32.0</td>\n",
       "      <td>32.0</td>\n",
       "      <td>1600.0</td>\n",
       "      <td>3.0</td>\n",
       "      <td>1</td>\n",
       "      <td>0</td>\n",
       "    </tr>\n",
       "    <tr>\n",
       "      <th>10047</th>\n",
       "      <td>2310</td>\n",
       "      <td>690000</td>\n",
       "      <td>557.0</td>\n",
       "      <td>375.0</td>\n",
       "      <td>26000.0</td>\n",
       "      <td>14.0</td>\n",
       "      <td>1</td>\n",
       "      <td>0</td>\n",
       "    </tr>\n",
       "  </tbody>\n",
       "</table>\n",
       "<p>10048 rows × 8 columns</p>\n",
       "</div>"
      ],
      "text/plain": [
       "          ID  price_usd  surface_total  surface_covered  expenses  comuna  \\\n",
       "0      10108     260000          150.0            150.0       0.0    15.0   \n",
       "1       4792     285000          215.0            160.0       0.0    10.0   \n",
       "2       6073     850000          456.0            412.0       0.0    12.0   \n",
       "3       5815     180000          120.0            120.0       0.0    11.0   \n",
       "4        911     515000          170.0            170.0       0.0    13.0   \n",
       "...      ...        ...            ...              ...       ...     ...   \n",
       "10043    431     112900           39.0             36.0    2150.0    13.0   \n",
       "10044   5580     168000           73.0             62.0    2600.0     3.0   \n",
       "10045   7470      70000           23.0             23.0    1400.0     1.0   \n",
       "10046   5323      73900           32.0             32.0    1600.0     3.0   \n",
       "10047   2310     690000          557.0            375.0   26000.0    14.0   \n",
       "\n",
       "       property_type_apartment  property_type_house  \n",
       "0                            0                    1  \n",
       "1                            0                    1  \n",
       "2                            0                    1  \n",
       "3                            0                    1  \n",
       "4                            0                    1  \n",
       "...                        ...                  ...  \n",
       "10043                        1                    0  \n",
       "10044                        1                    0  \n",
       "10045                        1                    0  \n",
       "10046                        1                    0  \n",
       "10047                        1                    0  \n",
       "\n",
       "[10048 rows x 8 columns]"
      ]
     },
     "execution_count": 201,
     "metadata": {},
     "output_type": "execute_result"
    }
   ],
   "source": [
    "df_caba"
   ]
  },
  {
   "cell_type": "code",
   "execution_count": 202,
   "id": "f07b8b21",
   "metadata": {},
   "outputs": [],
   "source": [
    "# Hago un merge del dataset de caba reducido y el creado con la cantidad de delitos por comuna\n",
    "new_df_caba = pd.merge(df_caba, delitos_comuna, how='left', left_on='comuna', right_on='comuna')\n"
   ]
  },
  {
   "cell_type": "code",
   "execution_count": 203,
   "id": "39d1a2b6",
   "metadata": {},
   "outputs": [],
   "source": [
    "# Cambio el índice del nuevo dataset, para que sea el ID\n",
    "new_df_caba.set_index('ID', inplace = True)\n"
   ]
  },
  {
   "cell_type": "code",
   "execution_count": 204,
   "id": "9011c4f0",
   "metadata": {
    "scrolled": true
   },
   "outputs": [
    {
     "data": {
      "text/html": [
       "<div>\n",
       "<style scoped>\n",
       "    .dataframe tbody tr th:only-of-type {\n",
       "        vertical-align: middle;\n",
       "    }\n",
       "\n",
       "    .dataframe tbody tr th {\n",
       "        vertical-align: top;\n",
       "    }\n",
       "\n",
       "    .dataframe thead th {\n",
       "        text-align: right;\n",
       "    }\n",
       "</style>\n",
       "<table border=\"1\" class=\"dataframe\">\n",
       "  <thead>\n",
       "    <tr style=\"text-align: right;\">\n",
       "      <th></th>\n",
       "      <th>price_usd</th>\n",
       "      <th>surface_total</th>\n",
       "      <th>surface_covered</th>\n",
       "      <th>expenses</th>\n",
       "      <th>comuna</th>\n",
       "      <th>property_type_apartment</th>\n",
       "      <th>property_type_house</th>\n",
       "      <th>cantidad_delitos_por_comuna</th>\n",
       "    </tr>\n",
       "    <tr>\n",
       "      <th>ID</th>\n",
       "      <th></th>\n",
       "      <th></th>\n",
       "      <th></th>\n",
       "      <th></th>\n",
       "      <th></th>\n",
       "      <th></th>\n",
       "      <th></th>\n",
       "      <th></th>\n",
       "    </tr>\n",
       "  </thead>\n",
       "  <tbody>\n",
       "    <tr>\n",
       "      <th>10108</th>\n",
       "      <td>260000</td>\n",
       "      <td>150.0</td>\n",
       "      <td>150.0</td>\n",
       "      <td>0.0</td>\n",
       "      <td>15.0</td>\n",
       "      <td>0</td>\n",
       "      <td>1</td>\n",
       "      <td>5116</td>\n",
       "    </tr>\n",
       "    <tr>\n",
       "      <th>4792</th>\n",
       "      <td>285000</td>\n",
       "      <td>215.0</td>\n",
       "      <td>160.0</td>\n",
       "      <td>0.0</td>\n",
       "      <td>10.0</td>\n",
       "      <td>0</td>\n",
       "      <td>1</td>\n",
       "      <td>4225</td>\n",
       "    </tr>\n",
       "    <tr>\n",
       "      <th>6073</th>\n",
       "      <td>850000</td>\n",
       "      <td>456.0</td>\n",
       "      <td>412.0</td>\n",
       "      <td>0.0</td>\n",
       "      <td>12.0</td>\n",
       "      <td>0</td>\n",
       "      <td>1</td>\n",
       "      <td>4707</td>\n",
       "    </tr>\n",
       "  </tbody>\n",
       "</table>\n",
       "</div>"
      ],
      "text/plain": [
       "       price_usd  surface_total  surface_covered  expenses  comuna  \\\n",
       "ID                                                                   \n",
       "10108     260000          150.0            150.0       0.0    15.0   \n",
       "4792      285000          215.0            160.0       0.0    10.0   \n",
       "6073      850000          456.0            412.0       0.0    12.0   \n",
       "\n",
       "       property_type_apartment  property_type_house  \\\n",
       "ID                                                    \n",
       "10108                        0                    1   \n",
       "4792                         0                    1   \n",
       "6073                         0                    1   \n",
       "\n",
       "       cantidad_delitos_por_comuna  \n",
       "ID                                  \n",
       "10108                         5116  \n",
       "4792                          4225  \n",
       "6073                          4707  "
      ]
     },
     "execution_count": 204,
     "metadata": {},
     "output_type": "execute_result"
    }
   ],
   "source": [
    "new_df_caba.head(3)"
   ]
  },
  {
   "cell_type": "markdown",
   "id": "800d196f",
   "metadata": {},
   "source": [
    "#### Visualizamos las variables precio y cantidad de delitos para evaluar su relación"
   ]
  },
  {
   "cell_type": "code",
   "execution_count": 205,
   "id": "e6ec6ab0",
   "metadata": {},
   "outputs": [
    {
     "data": {
      "text/plain": [
       "<AxesSubplot:xlabel='comuna', ylabel='price_usd'>"
      ]
     },
     "execution_count": 205,
     "metadata": {},
     "output_type": "execute_result"
    },
    {
     "data": {
      "image/png": "[encoded data removed]",
      "text/plain": [
       "<Figure size 432x288 with 1 Axes>"
      ]
     },
     "metadata": {
      "needs_background": "light"
     },
     "output_type": "display_data"
    }
   ],
   "source": [
    "sns.scatterplot(data=new_df_caba,x='comuna', y='price_usd', palette='CMRmap')"
   ]
  },
  {
   "cell_type": "markdown",
   "id": "71b01838",
   "metadata": {},
   "source": [
    "#### Correlación de variables en el nuevo dataset"
   ]
  },
  {
   "cell_type": "code",
   "execution_count": 206,
   "id": "a1af4c33",
   "metadata": {},
   "outputs": [
    {
     "data": {
      "text/html": [
       "<div>\n",
       "<style scoped>\n",
       "    .dataframe tbody tr th:only-of-type {\n",
       "        vertical-align: middle;\n",
       "    }\n",
       "\n",
       "    .dataframe tbody tr th {\n",
       "        vertical-align: top;\n",
       "    }\n",
       "\n",
       "    .dataframe thead th {\n",
       "        text-align: right;\n",
       "    }\n",
       "</style>\n",
       "<table border=\"1\" class=\"dataframe\">\n",
       "  <thead>\n",
       "    <tr style=\"text-align: right;\">\n",
       "      <th></th>\n",
       "      <th>price_usd</th>\n",
       "      <th>surface_total</th>\n",
       "      <th>surface_covered</th>\n",
       "      <th>expenses</th>\n",
       "      <th>comuna</th>\n",
       "      <th>property_type_apartment</th>\n",
       "      <th>property_type_house</th>\n",
       "      <th>cantidad_delitos_por_comuna</th>\n",
       "    </tr>\n",
       "  </thead>\n",
       "  <tbody>\n",
       "    <tr>\n",
       "      <th>price_usd</th>\n",
       "      <td>1.000000</td>\n",
       "      <td>0.029289</td>\n",
       "      <td>0.031936</td>\n",
       "      <td>0.628427</td>\n",
       "      <td>0.067956</td>\n",
       "      <td>0.011629</td>\n",
       "      <td>-0.011629</td>\n",
       "      <td>0.027826</td>\n",
       "    </tr>\n",
       "    <tr>\n",
       "      <th>surface_total</th>\n",
       "      <td>0.029289</td>\n",
       "      <td>1.000000</td>\n",
       "      <td>0.997735</td>\n",
       "      <td>0.000170</td>\n",
       "      <td>-0.000576</td>\n",
       "      <td>-0.000877</td>\n",
       "      <td>0.000877</td>\n",
       "      <td>0.004019</td>\n",
       "    </tr>\n",
       "    <tr>\n",
       "      <th>surface_covered</th>\n",
       "      <td>0.031936</td>\n",
       "      <td>0.997735</td>\n",
       "      <td>1.000000</td>\n",
       "      <td>0.003308</td>\n",
       "      <td>-0.001819</td>\n",
       "      <td>-0.001782</td>\n",
       "      <td>0.001782</td>\n",
       "      <td>0.004525</td>\n",
       "    </tr>\n",
       "    <tr>\n",
       "      <th>expenses</th>\n",
       "      <td>0.628427</td>\n",
       "      <td>0.000170</td>\n",
       "      <td>0.003308</td>\n",
       "      <td>1.000000</td>\n",
       "      <td>-0.000672</td>\n",
       "      <td>0.008857</td>\n",
       "      <td>-0.008857</td>\n",
       "      <td>0.096201</td>\n",
       "    </tr>\n",
       "    <tr>\n",
       "      <th>comuna</th>\n",
       "      <td>0.067956</td>\n",
       "      <td>-0.000576</td>\n",
       "      <td>-0.001819</td>\n",
       "      <td>-0.000672</td>\n",
       "      <td>1.000000</td>\n",
       "      <td>-0.012167</td>\n",
       "      <td>0.012167</td>\n",
       "      <td>-0.221730</td>\n",
       "    </tr>\n",
       "    <tr>\n",
       "      <th>property_type_apartment</th>\n",
       "      <td>0.011629</td>\n",
       "      <td>-0.000877</td>\n",
       "      <td>-0.001782</td>\n",
       "      <td>0.008857</td>\n",
       "      <td>-0.012167</td>\n",
       "      <td>1.000000</td>\n",
       "      <td>-1.000000</td>\n",
       "      <td>0.011628</td>\n",
       "    </tr>\n",
       "    <tr>\n",
       "      <th>property_type_house</th>\n",
       "      <td>-0.011629</td>\n",
       "      <td>0.000877</td>\n",
       "      <td>0.001782</td>\n",
       "      <td>-0.008857</td>\n",
       "      <td>0.012167</td>\n",
       "      <td>-1.000000</td>\n",
       "      <td>1.000000</td>\n",
       "      <td>-0.011628</td>\n",
       "    </tr>\n",
       "    <tr>\n",
       "      <th>cantidad_delitos_por_comuna</th>\n",
       "      <td>0.027826</td>\n",
       "      <td>0.004019</td>\n",
       "      <td>0.004525</td>\n",
       "      <td>0.096201</td>\n",
       "      <td>-0.221730</td>\n",
       "      <td>0.011628</td>\n",
       "      <td>-0.011628</td>\n",
       "      <td>1.000000</td>\n",
       "    </tr>\n",
       "  </tbody>\n",
       "</table>\n",
       "</div>"
      ],
      "text/plain": [
       "                             price_usd  surface_total  surface_covered  \\\n",
       "price_usd                     1.000000       0.029289         0.031936   \n",
       "surface_total                 0.029289       1.000000         0.997735   \n",
       "surface_covered               0.031936       0.997735         1.000000   \n",
       "expenses                      0.628427       0.000170         0.003308   \n",
       "comuna                        0.067956      -0.000576        -0.001819   \n",
       "property_type_apartment       0.011629      -0.000877        -0.001782   \n",
       "property_type_house          -0.011629       0.000877         0.001782   \n",
       "cantidad_delitos_por_comuna   0.027826       0.004019         0.004525   \n",
       "\n",
       "                             expenses    comuna  property_type_apartment  \\\n",
       "price_usd                    0.628427  0.067956                 0.011629   \n",
       "surface_total                0.000170 -0.000576                -0.000877   \n",
       "surface_covered              0.003308 -0.001819                -0.001782   \n",
       "expenses                     1.000000 -0.000672                 0.008857   \n",
       "comuna                      -0.000672  1.000000                -0.012167   \n",
       "property_type_apartment      0.008857 -0.012167                 1.000000   \n",
       "property_type_house         -0.008857  0.012167                -1.000000   \n",
       "cantidad_delitos_por_comuna  0.096201 -0.221730                 0.011628   \n",
       "\n",
       "                             property_type_house  cantidad_delitos_por_comuna  \n",
       "price_usd                              -0.011629                     0.027826  \n",
       "surface_total                           0.000877                     0.004019  \n",
       "surface_covered                         0.001782                     0.004525  \n",
       "expenses                               -0.008857                     0.096201  \n",
       "comuna                                  0.012167                    -0.221730  \n",
       "property_type_apartment                -1.000000                     0.011628  \n",
       "property_type_house                     1.000000                    -0.011628  \n",
       "cantidad_delitos_por_comuna            -0.011628                     1.000000  "
      ]
     },
     "execution_count": 206,
     "metadata": {},
     "output_type": "execute_result"
    }
   ],
   "source": [
    "new_df_caba.corr(method='pearson')"
   ]
  },
  {
   "cell_type": "code",
   "execution_count": 207,
   "id": "7cb89e3b",
   "metadata": {},
   "outputs": [
    {
     "data": {
      "image/png": "[encoded data removed]",
      "text/plain": [
       "<Figure size 432x288 with 2 Axes>"
      ]
     },
     "metadata": {
      "needs_background": "light"
     },
     "output_type": "display_data"
    }
   ],
   "source": [
    "sns.heatmap(new_df_caba.corr(method='pearson'))\n",
    "plt.show()"
   ]
  },
  {
   "cell_type": "markdown",
   "id": "ad664e91",
   "metadata": {},
   "source": [
    "La variable **cantidad_delitos_por_comuna** tiene una correlación baja con el precio de las propiedades. \n",
    "Vamos a predecir el valor de las propiedades, con el modelo **LinearRegression**, que es el que arrojó menor error cuadrático medio."
   ]
  },
  {
   "cell_type": "markdown",
   "id": "f35211dd",
   "metadata": {},
   "source": [
    "#### RandomForestRegression"
   ]
  },
  {
   "cell_type": "markdown",
   "id": "fb0cba19",
   "metadata": {},
   "source": [
    "##### Definimos X e Y"
   ]
  },
  {
   "cell_type": "code",
   "execution_count": 208,
   "id": "c0e97aac",
   "metadata": {},
   "outputs": [],
   "source": [
    "col_finales=['price_usd', 'surface_total', 'surface_covered', 'expenses', 'comuna',\n",
    "       'property_type_apartment', 'property_type_house',\n",
    "       'cantidad_delitos_por_comuna']"
   ]
  },
  {
   "cell_type": "code",
   "execution_count": 209,
   "id": "c4418356",
   "metadata": {},
   "outputs": [],
   "source": [
    "X=new_df_caba.drop('price_usd', axis=1)"
   ]
  },
  {
   "cell_type": "code",
   "execution_count": 210,
   "id": "04239056",
   "metadata": {},
   "outputs": [],
   "source": [
    "y=new_df_caba['price_usd']"
   ]
  },
  {
   "cell_type": "markdown",
   "id": "97f08f41",
   "metadata": {},
   "source": [
    "##### Escalamos los datos (X)"
   ]
  },
  {
   "cell_type": "code",
   "execution_count": 211,
   "id": "c8cf6e42",
   "metadata": {},
   "outputs": [
    {
     "data": {
      "text/plain": [
       "array([[8.09787010e-04, 9.93339956e-04, 0.00000000e+00, ...,\n",
       "        0.00000000e+00, 1.00000000e+00, 2.16534009e-01],\n",
       "       [1.16304980e-03, 1.06000707e-03, 0.00000000e+00, ...,\n",
       "        0.00000000e+00, 1.00000000e+00, 5.53545586e-02],\n",
       "       [2.47283953e-03, 2.74001827e-03, 0.00000000e+00, ...,\n",
       "        0.00000000e+00, 1.00000000e+00, 1.42547033e-01],\n",
       "       ...,\n",
       "       [1.19565867e-04, 1.46667644e-04, 4.50392485e-02, ...,\n",
       "        1.00000000e+00, 0.00000000e+00, 1.00000000e+00],\n",
       "       [1.68479177e-04, 2.06668044e-04, 5.14734268e-02, ...,\n",
       "        1.00000000e+00, 0.00000000e+00, 6.62083936e-01],\n",
       "       [3.02175555e-03, 2.49334996e-03, 8.36443186e-01, ...,\n",
       "        1.00000000e+00, 0.00000000e+00, 6.99348770e-01]])"
      ]
     },
     "execution_count": 211,
     "metadata": {},
     "output_type": "execute_result"
    }
   ],
   "source": [
    "min_max = MinMaxScaler()\n",
    "X=min_max.fit_transform(X)\n",
    "X"
   ]
  },
  {
   "cell_type": "code",
   "execution_count": 212,
   "id": "178dd31e",
   "metadata": {},
   "outputs": [],
   "source": [
    "# Transformamos X en un dataframe\n",
    "X= pd.DataFrame(X, columns= col_finales[1:])"
   ]
  },
  {
   "cell_type": "code",
   "execution_count": 213,
   "id": "8e2e33f4",
   "metadata": {},
   "outputs": [
    {
     "data": {
      "text/html": [
       "<div>\n",
       "<style scoped>\n",
       "    .dataframe tbody tr th:only-of-type {\n",
       "        vertical-align: middle;\n",
       "    }\n",
       "\n",
       "    .dataframe tbody tr th {\n",
       "        vertical-align: top;\n",
       "    }\n",
       "\n",
       "    .dataframe thead th {\n",
       "        text-align: right;\n",
       "    }\n",
       "</style>\n",
       "<table border=\"1\" class=\"dataframe\">\n",
       "  <thead>\n",
       "    <tr style=\"text-align: right;\">\n",
       "      <th></th>\n",
       "      <th>surface_total</th>\n",
       "      <th>surface_covered</th>\n",
       "      <th>expenses</th>\n",
       "      <th>comuna</th>\n",
       "      <th>property_type_apartment</th>\n",
       "      <th>property_type_house</th>\n",
       "      <th>cantidad_delitos_por_comuna</th>\n",
       "    </tr>\n",
       "  </thead>\n",
       "  <tbody>\n",
       "    <tr>\n",
       "      <th>0</th>\n",
       "      <td>0.000810</td>\n",
       "      <td>0.000993</td>\n",
       "      <td>0.0</td>\n",
       "      <td>1.000000</td>\n",
       "      <td>0.0</td>\n",
       "      <td>1.0</td>\n",
       "      <td>0.216534</td>\n",
       "    </tr>\n",
       "    <tr>\n",
       "      <th>1</th>\n",
       "      <td>0.001163</td>\n",
       "      <td>0.001060</td>\n",
       "      <td>0.0</td>\n",
       "      <td>0.642857</td>\n",
       "      <td>0.0</td>\n",
       "      <td>1.0</td>\n",
       "      <td>0.055355</td>\n",
       "    </tr>\n",
       "  </tbody>\n",
       "</table>\n",
       "</div>"
      ],
      "text/plain": [
       "   surface_total  surface_covered  expenses    comuna  \\\n",
       "0       0.000810         0.000993       0.0  1.000000   \n",
       "1       0.001163         0.001060       0.0  0.642857   \n",
       "\n",
       "   property_type_apartment  property_type_house  cantidad_delitos_por_comuna  \n",
       "0                      0.0                  1.0                     0.216534  \n",
       "1                      0.0                  1.0                     0.055355  "
      ]
     },
     "execution_count": 213,
     "metadata": {},
     "output_type": "execute_result"
    }
   ],
   "source": [
    "X.head(2)"
   ]
  },
  {
   "cell_type": "markdown",
   "id": "1a592b6d",
   "metadata": {},
   "source": [
    "##### Separamos el conjunto de datos en Train y Test, quedándonos con un 30% para medir la performance de los modelos"
   ]
  },
  {
   "cell_type": "code",
   "execution_count": 214,
   "id": "3eabe543",
   "metadata": {
    "scrolled": true
   },
   "outputs": [],
   "source": [
    "X_train,X_test,y_train,y_test=train_test_split(X,y,train_size=0.7)"
   ]
  },
  {
   "cell_type": "code",
   "execution_count": 215,
   "id": "56e12ea8",
   "metadata": {},
   "outputs": [
    {
     "data": {
      "text/plain": [
       "((7033, 7), (3015, 7), (7033,), (3015,))"
      ]
     },
     "execution_count": 215,
     "metadata": {},
     "output_type": "execute_result"
    }
   ],
   "source": [
    "# Revisamos el tamaño de cada muestra\n",
    "X_train.shape,X_test.shape,y_train.shape,y_test.shape"
   ]
  },
  {
   "cell_type": "code",
   "execution_count": 216,
   "id": "7813c2be",
   "metadata": {},
   "outputs": [],
   "source": [
    "rf_reg=RandomForestRegressor(random_state=0, n_estimators=10)"
   ]
  },
  {
   "cell_type": "code",
   "execution_count": 217,
   "id": "6d9c28af",
   "metadata": {},
   "outputs": [],
   "source": [
    "rf2 = rf_reg.fit(X_train, y_train)"
   ]
  },
  {
   "cell_type": "markdown",
   "id": "99e788d9",
   "metadata": {},
   "source": [
    "##### Predecimos y Evaluamos"
   ]
  },
  {
   "cell_type": "code",
   "execution_count": 218,
   "id": "445a527b",
   "metadata": {},
   "outputs": [],
   "source": [
    "y_train_pred = rf2.predict(X_train)\n",
    "y_test_pred = rf2.predict(X_test)"
   ]
  },
  {
   "cell_type": "code",
   "execution_count": 219,
   "id": "8714bb7d",
   "metadata": {},
   "outputs": [
    {
     "data": {
      "text/plain": [
       "array([310241.66666667, 189757.6       , 224899.9       , 135000.        ])"
      ]
     },
     "execution_count": 219,
     "metadata": {},
     "output_type": "execute_result"
    }
   ],
   "source": [
    "# Probamos pocas instancias\n",
    "muestra_datos=X_test.iloc[ :4]\n",
    "rf2.predict(muestra_datos)"
   ]
  },
  {
   "cell_type": "code",
   "execution_count": 220,
   "id": "aa1e48c7",
   "metadata": {},
   "outputs": [
    {
     "data": {
      "text/plain": [
       "[270000, 183000, 162000, 120000]"
      ]
     },
     "execution_count": 220,
     "metadata": {},
     "output_type": "execute_result"
    }
   ],
   "source": [
    "# Comparamos con los valores reales\n",
    "list(y_test.iloc[ :4])"
   ]
  },
  {
   "cell_type": "code",
   "execution_count": 221,
   "id": "7cf2d470",
   "metadata": {},
   "outputs": [
    {
     "name": "stdout",
     "output_type": "stream",
     "text": [
      "804399157.1446288\n",
      "4914302612.283564\n"
     ]
    }
   ],
   "source": [
    "# Calculamos el error cuadrático medio\n",
    "train_error = mean_squared_error(y_train, y_train_pred)\n",
    "test_error = mean_squared_error(y_test, y_test_pred)\n",
    "\n",
    "print(train_error)\n",
    "print(test_error)"
   ]
  },
  {
   "cell_type": "code",
   "execution_count": 222,
   "id": "160b5818",
   "metadata": {
    "scrolled": false
   },
   "outputs": [
    {
     "data": {
      "text/plain": [
       "450606.0"
      ]
     },
     "execution_count": 222,
     "metadata": {},
     "output_type": "execute_result"
    }
   ],
   "source": [
    "# Error absoluto máximo\n",
    "max_error(y_test, y_test_pred)"
   ]
  },
  {
   "cell_type": "markdown",
   "id": "7e3667e0",
   "metadata": {},
   "source": [
    "##### Crossvalidation"
   ]
  },
  {
   "cell_type": "code",
   "execution_count": 223,
   "id": "bdf7942a",
   "metadata": {
    "code_folding": [],
    "scrolled": true
   },
   "outputs": [
    {
     "data": {
      "text/plain": [
       "array([-6.95659762e+09, -7.61759363e+09, -3.62878566e+09, -3.98941560e+09,\n",
       "       -3.54614759e+09, -3.92271639e+09, -4.11022164e+09, -4.17787808e+09,\n",
       "       -3.43317017e+09, -3.97518460e+09])"
      ]
     },
     "execution_count": 223,
     "metadata": {},
     "output_type": "execute_result"
    }
   ],
   "source": [
    "# Evaluamos el modelo usando crossvalidation\n",
    "rf_scores2=cross_val_score(rf2, X,y,\n",
    "                             scoring='neg_mean_squared_error',cv=10)\n",
    "rf_scores2"
   ]
  },
  {
   "cell_type": "code",
   "execution_count": 224,
   "id": "d47ae111",
   "metadata": {
    "scrolled": true
   },
   "outputs": [
    {
     "data": {
      "text/plain": [
       "array([83406.22053455, 87278.82691582, 60239.40291279, 63161.82077683,\n",
       "       59549.53898237, 62631.59257482, 64111.01031133, 64636.50736944,\n",
       "       58593.26048516, 63049.06500664])"
      ]
     },
     "execution_count": 224,
     "metadata": {},
     "output_type": "execute_result"
    }
   ],
   "source": [
    "# Cambiamos el signo y sacamos la raiz\n",
    "rf_rmse_Scores2=np.sqrt(-rf_scores2)\n",
    "rf_rmse_Scores2"
   ]
  },
  {
   "cell_type": "code",
   "execution_count": 225,
   "id": "e100b634",
   "metadata": {
    "scrolled": true
   },
   "outputs": [
    {
     "name": "stdout",
     "output_type": "stream",
     "text": [
      "Scores: [83406.22053455 87278.82691582 60239.40291279 63161.82077683\n",
      " 59549.53898237 62631.59257482 64111.01031133 64636.50736944\n",
      " 58593.26048516 63049.06500664]\n",
      "Mean: 66665.72458697332\n",
      "Std: 9563.067780544063\n"
     ]
    }
   ],
   "source": [
    "display_scores(rf_rmse_Scores2)"
   ]
  },
  {
   "cell_type": "markdown",
   "id": "bf6f7f03",
   "metadata": {},
   "source": [
    "##### Comparamos 20 casos"
   ]
  },
  {
   "cell_type": "code",
   "execution_count": 226,
   "id": "0fc840b4",
   "metadata": {
    "scrolled": false
   },
   "outputs": [
    {
     "data": {
      "text/html": [
       "<div>\n",
       "<style scoped>\n",
       "    .dataframe tbody tr th:only-of-type {\n",
       "        vertical-align: middle;\n",
       "    }\n",
       "\n",
       "    .dataframe tbody tr th {\n",
       "        vertical-align: top;\n",
       "    }\n",
       "\n",
       "    .dataframe thead th {\n",
       "        text-align: right;\n",
       "    }\n",
       "</style>\n",
       "<table border=\"1\" class=\"dataframe\">\n",
       "  <thead>\n",
       "    <tr style=\"text-align: right;\">\n",
       "      <th></th>\n",
       "      <th>valor_real</th>\n",
       "      <th>valor_predicho</th>\n",
       "    </tr>\n",
       "    <tr>\n",
       "      <th>ID</th>\n",
       "      <th></th>\n",
       "      <th></th>\n",
       "    </tr>\n",
       "  </thead>\n",
       "  <tbody>\n",
       "    <tr>\n",
       "      <th>1553</th>\n",
       "      <td>890000</td>\n",
       "      <td>890000.0</td>\n",
       "    </tr>\n",
       "    <tr>\n",
       "      <th>9147</th>\n",
       "      <td>890000</td>\n",
       "      <td>696000.0</td>\n",
       "    </tr>\n",
       "    <tr>\n",
       "      <th>3974</th>\n",
       "      <td>890000</td>\n",
       "      <td>861500.0</td>\n",
       "    </tr>\n",
       "    <tr>\n",
       "      <th>6089</th>\n",
       "      <td>890000</td>\n",
       "      <td>791800.0</td>\n",
       "    </tr>\n",
       "    <tr>\n",
       "      <th>2178</th>\n",
       "      <td>890000</td>\n",
       "      <td>890000.0</td>\n",
       "    </tr>\n",
       "    <tr>\n",
       "      <th>3499</th>\n",
       "      <td>890000</td>\n",
       "      <td>741000.0</td>\n",
       "    </tr>\n",
       "    <tr>\n",
       "      <th>4834</th>\n",
       "      <td>890000</td>\n",
       "      <td>657000.0</td>\n",
       "    </tr>\n",
       "    <tr>\n",
       "      <th>777</th>\n",
       "      <td>890000</td>\n",
       "      <td>618787.0</td>\n",
       "    </tr>\n",
       "    <tr>\n",
       "      <th>10267</th>\n",
       "      <td>890000</td>\n",
       "      <td>742000.0</td>\n",
       "    </tr>\n",
       "    <tr>\n",
       "      <th>6187</th>\n",
       "      <td>890000</td>\n",
       "      <td>808000.0</td>\n",
       "    </tr>\n",
       "    <tr>\n",
       "      <th>2724</th>\n",
       "      <td>880000</td>\n",
       "      <td>864000.0</td>\n",
       "    </tr>\n",
       "    <tr>\n",
       "      <th>7439</th>\n",
       "      <td>875000</td>\n",
       "      <td>652600.0</td>\n",
       "    </tr>\n",
       "    <tr>\n",
       "      <th>10434</th>\n",
       "      <td>870000</td>\n",
       "      <td>543000.0</td>\n",
       "    </tr>\n",
       "    <tr>\n",
       "      <th>3000</th>\n",
       "      <td>870000</td>\n",
       "      <td>631000.0</td>\n",
       "    </tr>\n",
       "    <tr>\n",
       "      <th>7756</th>\n",
       "      <td>865000</td>\n",
       "      <td>696000.0</td>\n",
       "    </tr>\n",
       "    <tr>\n",
       "      <th>7984</th>\n",
       "      <td>860000</td>\n",
       "      <td>811000.0</td>\n",
       "    </tr>\n",
       "    <tr>\n",
       "      <th>5200</th>\n",
       "      <td>855000</td>\n",
       "      <td>882000.0</td>\n",
       "    </tr>\n",
       "    <tr>\n",
       "      <th>2068</th>\n",
       "      <td>855000</td>\n",
       "      <td>882000.0</td>\n",
       "    </tr>\n",
       "    <tr>\n",
       "      <th>4676</th>\n",
       "      <td>850000</td>\n",
       "      <td>795500.0</td>\n",
       "    </tr>\n",
       "    <tr>\n",
       "      <th>6970</th>\n",
       "      <td>850000</td>\n",
       "      <td>812000.0</td>\n",
       "    </tr>\n",
       "  </tbody>\n",
       "</table>\n",
       "</div>"
      ],
      "text/plain": [
       "       valor_real  valor_predicho\n",
       "ID                               \n",
       "1553       890000        890000.0\n",
       "9147       890000        696000.0\n",
       "3974       890000        861500.0\n",
       "6089       890000        791800.0\n",
       "2178       890000        890000.0\n",
       "3499       890000        741000.0\n",
       "4834       890000        657000.0\n",
       "777        890000        618787.0\n",
       "10267      890000        742000.0\n",
       "6187       890000        808000.0\n",
       "2724       880000        864000.0\n",
       "7439       875000        652600.0\n",
       "10434      870000        543000.0\n",
       "3000       870000        631000.0\n",
       "7756       865000        696000.0\n",
       "7984       860000        811000.0\n",
       "5200       855000        882000.0\n",
       "2068       855000        882000.0\n",
       "4676       850000        795500.0\n",
       "6970       850000        812000.0"
      ]
     },
     "execution_count": 226,
     "metadata": {},
     "output_type": "execute_result"
    }
   ],
   "source": [
    "df_resultados2 = pd.DataFrame({\n",
    "                                #'features':features,\n",
    "                                'valor_real':y_test,\n",
    "                                'valor_predicho': y_test_pred\n",
    "                                })\n",
    "df_resultados2.sort_values(by='valor_real', ascending=False, inplace=True)\n",
    "df_resultados2.head(20).round(0)"
   ]
  },
  {
   "cell_type": "markdown",
   "id": "b46bdc7e",
   "metadata": {},
   "source": [
    "**El desvición estandar del error cuadrático medio del modelo RandomForestRegression con el nuevo conjunto de datos, es menor, así como también el error absoluto máximo.**"
   ]
  }
 ],
 "metadata": {
  "hide_input": false,
  "kernelspec": {
   "display_name": "Python 3 (ipykernel)",
   "language": "python",
   "name": "python3"
  },
  "language_info": {
   "codemirror_mode": {
    "name": "ipython",
    "version": 3
   },
   "file_extension": ".py",
   "mimetype": "text/x-python",
   "name": "python",
   "nbconvert_exporter": "python",
   "pygments_lexer": "ipython3",
   "version": "3.9.12"
  },
  "toc": {
   "base_numbering": 1,
   "nav_menu": {},
   "number_sections": true,
   "sideBar": true,
   "skip_h1_title": false,
   "title_cell": "Table of Contents",
   "title_sidebar": "Contents",
   "toc_cell": false,
   "toc_position": {
    "height": "calc(100% - 180px)",
    "left": "10px",
    "top": "150px",
    "width": "409.555px"
   },
   "toc_section_display": true,
   "toc_window_display": true
  },
  "varInspector": {
   "cols": {
    "lenName": 16,
    "lenType": 16,
    "lenVar": 40
   },
   "kernels_config": {
    "python": {
     "delete_cmd_postfix": "",
     "delete_cmd_prefix": "del ",
     "library": "var_list.py",
     "varRefreshCmd": "print(var_dic_list())"
    },
    "r": {
     "delete_cmd_postfix": ") ",
     "delete_cmd_prefix": "rm(",
     "library": "var_list.r",
     "varRefreshCmd": "cat(var_dic_list()) "
    }
   },
   "types_to_exclude": [
    "module",
    "function",
    "builtin_function_or_method",
    "instance",
    "_Feature"
   ],
   "window_display": false
  }
 },
 "nbformat": 4,
 "nbformat_minor": 5
}
